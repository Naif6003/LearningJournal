{
 "cells": [
  {
   "cell_type": "code",
   "execution_count": 2,
   "metadata": {
    "collapsed": true
   },
   "outputs": [],
   "source": [
    "\n",
    "import pandas as pd\n",
    "import numpy as np\n",
    "import matplotlib.pylab as plt\n",
    "%matplotlib inline\n",
    "from matplotlib.pylab import rcParams\n",
    "rcParams['figure.figsize'] = 15, 6"
   ]
  },
  {
   "cell_type": "code",
   "execution_count": 3,
   "metadata": {
    "collapsed": false
   },
   "outputs": [
    {
     "name": "stdout",
     "output_type": "stream",
     "text": [
      "   6  148  72  35    0  33.6  0.627  50  1\n",
      "0  1   85  66  29    0  26.6  0.351  31  0\n",
      "1  8  183  64   0    0  23.3  0.672  32  1\n",
      "2  1   89  66  23   94  28.1  0.167  21  0\n",
      "3  0  137  40  35  168  43.1  2.288  33  1\n",
      "4  5  116  74   0    0  25.6  0.201  30  0\n",
      "\n",
      " Data Types:\n",
      "6          int64\n",
      "148        int64\n",
      "72         int64\n",
      "35         int64\n",
      "0          int64\n",
      "33.6     float64\n",
      "0.627    float64\n",
      "50         int64\n",
      "1          int64\n",
      "dtype: object\n"
     ]
    }
   ],
   "source": [
    "data = pd.read_csv('diabetes.csv')\n",
    "print data.head()\n",
    "print '\\n Data Types:'\n",
    "print data.dtypes"
   ]
  },
  {
   "cell_type": "code",
   "execution_count": null,
   "metadata": {
    "collapsed": true
   },
   "outputs": [],
   "source": []
  }
 ],
 "metadata": {
  "kernelspec": {
   "display_name": "Python 2",
   "language": "python",
   "name": "python2"
  },
  "language_info": {
   "codemirror_mode": {
    "name": "ipython",
    "version": 2
   },
   "file_extension": ".py",
   "mimetype": "text/x-python",
   "name": "python",
   "nbconvert_exporter": "python",
   "pygments_lexer": "ipython2",
   "version": "2.7.13"
  }
 },
 "nbformat": 4,
 "nbformat_minor": 2
}
