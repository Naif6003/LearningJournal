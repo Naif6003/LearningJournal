{
 "cells": [
  {
   "cell_type": "markdown",
   "metadata": {
    "collapsed": true
   },
   "source": [
    "# DataScience - weather csv and flight csv  NYC Flight13 dataset"
   ]
  },
  {
   "cell_type": "markdown",
   "metadata": {},
   "source": [
    "Question 1<br>\n",
    "Let’s explore flights from NYC to Seattle. Use the flights dataset to answer the following questions.<br>\n",
    "(a) How many flights were there from NYC airports to Seattle in 2013?<br>\n",
    "(b) How many airlines fly from NYC to Seattle?<br>\n",
    "(c) How many unique air planes fly from NYC to Seattle?<br>\n",
    "(d) What is the average arrival delay for flights from NYC to Seattle?<br>\n",
    "(e) What proportion of flights to Seattle come from each NYC airport?<br>\n",
    "\n",
    "\n",
    "Question 2<br>\n",
    "Flights are often delayed. Consider the following questions exploring delay patterns.<br>\n",
    "(a) Which date has the largest average departure delay? Which date has the largest average arrival delay?<br>\n",
    "(b) What was the worst day to fly out of NYC in 2013 if you dislike delayed flights?<br>\n",
    "(c) Are there any seasonal patterns in departure delays for flights from NYC?<br>\n",
    "(d) On average, how do departure delays vary over the course of a day?<br>\n",
    "\n",
    "Question 3<br>\n",
    "Which flight departing NYC in 2013 flew the fastest?<br>\n",
    "\n",
    "\n",
    "Question 4<br>\n",
    "Which flights (i.e. carrier + flight + dest) happen every day? Where do they fly to?<br>\n",
    "\n",
    "Question 5<br>\n",
    "Develop one research question you can address using the nycflights2013 dataset. Provide two visualizations to support your exploration of this question. Discuss what you find.<br>\n",
    "\n",
    "Question 6<br>\n",
    "What weather conditions are associated with flight delays leaving NYC? Use graphics to explore.\n",
    "data uses NYC Flight13 dataset<br>\n",
    "\n",
    "Data frame splitting and aggregation. You should look into the details of the methods groupby, transform, sum, count, mean etc\n",
    "Many of the tasks in the assignment can be done either through the Pandas Data Frame or by converting the data frames to Series. Many of the methods in the numpy are applicable to Series only. When stuck, try to explore the type of object (Pandas Data Frame or Numpy Series) you are dealing with."
   ]
  },
  {
   "cell_type": "code",
   "execution_count": 12,
   "metadata": {
    "collapsed": false,
    "scrolled": true
   },
   "outputs": [
    {
     "name": "stdout",
     "output_type": "stream",
     "text": [
      "(336776, 17)\n"
     ]
    }
   ],
   "source": [
    "import pandas as pd\n",
    "\n",
    "flights_df = pd.read_csv('flights.csv')\n",
    "print flights_df.shape"
   ]
  },
  {
   "cell_type": "code",
   "execution_count": 13,
   "metadata": {
    "collapsed": false,
    "scrolled": true
   },
   "outputs": [
    {
     "name": "stdout",
     "output_type": "stream",
     "text": [
      "Index([u'Unnamed: 0', u'year', u'month', u'day', u'dep_time', u'dep_delay',\n",
      "       u'arr_time', u'arr_delay', u'carrier', u'tailnum', u'flight', u'origin',\n",
      "       u'dest', u'air_time', u'distance', u'hour', u'minute'],\n",
      "      dtype='object')\n"
     ]
    }
   ],
   "source": [
    "print flights_df.columns"
   ]
  },
  {
   "cell_type": "code",
   "execution_count": 14,
   "metadata": {
    "collapsed": true,
    "scrolled": true
   },
   "outputs": [],
   "source": [
    "del flights_df[\"Unnamed: 0\"]"
   ]
  },
  {
   "cell_type": "code",
   "execution_count": 15,
   "metadata": {
    "collapsed": false,
    "scrolled": true
   },
   "outputs": [
    {
     "name": "stdout",
     "output_type": "stream",
     "text": [
      "Index([u'year', u'month', u'day', u'dep_time', u'dep_delay', u'arr_time',\n",
      "       u'arr_delay', u'carrier', u'tailnum', u'flight', u'origin', u'dest',\n",
      "       u'air_time', u'distance', u'hour', u'minute'],\n",
      "      dtype='object')\n"
     ]
    }
   ],
   "source": [
    "print flights_df.columns"
   ]
  },
  {
   "cell_type": "code",
   "execution_count": 16,
   "metadata": {
    "collapsed": false,
    "scrolled": true
   },
   "outputs": [
    {
     "name": "stdout",
     "output_type": "stream",
     "text": [
      "year           int64\n",
      "month          int64\n",
      "day            int64\n",
      "dep_time     float64\n",
      "dep_delay    float64\n",
      "arr_time     float64\n",
      "arr_delay    float64\n",
      "carrier       object\n",
      "tailnum       object\n",
      "flight         int64\n",
      "origin        object\n",
      "dest          object\n",
      "air_time     float64\n",
      "distance       int64\n",
      "hour         float64\n",
      "minute       float64\n",
      "dtype: object\n"
     ]
    }
   ],
   "source": [
    "print flights_df.dtypes"
   ]
  },
  {
   "cell_type": "code",
   "execution_count": 17,
   "metadata": {
    "collapsed": false,
    "scrolled": false
   },
   "outputs": [
    {
     "data": {
      "text/plain": [
       "array(['IAH', 'MIA', 'BQN', 'ATL', 'ORD', 'FLL', 'IAD', 'MCO', 'PBI',\n",
       "       'TPA', 'LAX', 'SFO', 'DFW', 'BOS', 'LAS', 'MSP', 'DTW', 'RSW',\n",
       "       'SJU', 'PHX', 'BWI', 'CLT', 'BUF', 'DEN', 'SNA', 'MSY', 'SLC',\n",
       "       'XNA', 'MKE', 'SEA', 'ROC', 'SYR', 'SRQ', 'RDU', 'CMH', 'JAX',\n",
       "       'CHS', 'MEM', 'PIT', 'SAN', 'DCA', 'CLE', 'STL', 'MYR', 'JAC',\n",
       "       'MDW', 'HNL', 'BNA', 'AUS', 'BTV', 'PHL', 'STT', 'EGE', 'AVL',\n",
       "       'PWM', 'IND', 'SAV', 'CAK', 'HOU', 'LGB', 'DAY', 'ALB', 'BDL',\n",
       "       'MHT', 'MSN', 'GSO', 'CVG', 'BUR', 'RIC', 'GSP', 'GRR', 'MCI',\n",
       "       'ORF', 'SAT', 'SDF', 'PDX', 'SJC', 'OMA', 'CRW', 'OAK', 'SMF',\n",
       "       'TUL', 'TYS', 'OKC', 'PVD', 'DSM', 'PSE', 'BHM', 'CAE', 'HDN',\n",
       "       'BZN', 'MTJ', 'EYW', 'PSP', 'ACK', 'BGR', 'ABQ', 'ILM', 'MVY',\n",
       "       'SBN', 'LEX', 'CHO', 'TVC', 'ANC', 'LGA'], dtype=object)"
      ]
     },
     "execution_count": 17,
     "metadata": {},
     "output_type": "execute_result"
    }
   ],
   "source": [
    "flights_df.dest.unique()"
   ]
  },
  {
   "cell_type": "markdown",
   "metadata": {},
   "source": [
    "# Question 1\n",
    "Let’s explore flights from NYC to Seattle. Use the flights dataset to answer the following questions.<br>\n",
    "(a) How many flights were there from NYC airports to Seattle in 2013?\n"
   ]
  },
  {
   "cell_type": "code",
   "execution_count": 18,
   "metadata": {
    "collapsed": false,
    "scrolled": false
   },
   "outputs": [
    {
     "name": "stdout",
     "output_type": "stream",
     "text": [
      "There are 3923 flights from NYC area to Seattle.\n"
     ]
    }
   ],
   "source": [
    "JFK_flights = flights_df[(flights_df['dest']=='SEA') & (flights_df['origin']=='JFK')].count()['flight']\n",
    "EWR_flights = flights_df[(flights_df['dest']=='SEA') & (flights_df['origin']=='EWR')].count()['flight']\n",
    "LGA_flights = flights_df[(flights_df['dest']=='SEA') & (flights_df['origin']=='LGA')].count()['flight']\n",
    "NYC_flights = JFK_flights+EWR_flights+LGA_flights\n",
    "print 'There are ' + str(NYC_flights) + ' flights from NYC area to Seattle.'"
   ]
  },
  {
   "cell_type": "markdown",
   "metadata": {},
   "source": [
    "(b) How many airlines fly from NYC to Seattle?"
   ]
  },
  {
   "cell_type": "code",
   "execution_count": 19,
   "metadata": {
    "collapsed": false,
    "scrolled": true
   },
   "outputs": [
    {
     "ename": "NameError",
     "evalue": "name 'JFK_flights_string' is not defined",
     "output_type": "error",
     "traceback": [
      "\u001b[0;31m---------------------------------------------------------------------------\u001b[0m",
      "\u001b[0;31mNameError\u001b[0m                                 Traceback (most recent call last)",
      "\u001b[0;32m<ipython-input-19-81f34e20aeb7>\u001b[0m in \u001b[0;36m<module>\u001b[0;34m()\u001b[0m\n\u001b[1;32m      7\u001b[0m \u001b[0mLGA_carriers_string\u001b[0m \u001b[0;34m=\u001b[0m  \u001b[0mstr\u001b[0m\u001b[0;34m(\u001b[0m\u001b[0mLGA_carriers\u001b[0m\u001b[0;34m)\u001b[0m\u001b[0;34m[\u001b[0m\u001b[0;36m1\u001b[0m\u001b[0;34m:\u001b[0m\u001b[0;34m-\u001b[0m\u001b[0;36m1\u001b[0m\u001b[0;34m]\u001b[0m\u001b[0;34m\u001b[0m\u001b[0m\n\u001b[1;32m      8\u001b[0m \u001b[0;34m\u001b[0m\u001b[0m\n\u001b[0;32m----> 9\u001b[0;31m \u001b[0;32mprint\u001b[0m \u001b[0;34m'The airlines that fly from NYC to SEATTLE are '\u001b[0m \u001b[0;34m+\u001b[0m \u001b[0mJFK_flights_string\u001b[0m \u001b[0;34m+\u001b[0m \u001b[0;34m' '\u001b[0m \u001b[0;34m+\u001b[0m\u001b[0mEWR_flights_string\u001b[0m \u001b[0;34m+\u001b[0m \u001b[0mLGA_flights_string\u001b[0m\u001b[0;34m\u001b[0m\u001b[0m\n\u001b[0m\u001b[1;32m     10\u001b[0m \u001b[0;34m\u001b[0m\u001b[0m\n\u001b[1;32m     11\u001b[0m \u001b[0;31m# 2nd iteration\u001b[0m\u001b[0;34m\u001b[0m\u001b[0;34m\u001b[0m\u001b[0m\n",
      "\u001b[0;31mNameError\u001b[0m: name 'JFK_flights_string' is not defined"
     ]
    }
   ],
   "source": [
    "JFK_carriers = flights_df[(flights_df['dest']=='SEA') & (flights_df['origin']=='JFK')]['carrier'].unique()\n",
    "EWR_carriers = flights_df[(flights_df['dest']=='SEA') & (flights_df['origin']=='EWR')]['carrier'].unique()\n",
    "LGA_carriers = flights_df[(flights_df['dest']=='SEA') & (flights_df['origin']=='LGA')]['carrier'].unique()\n",
    "\n",
    "JFK_carriers_string =  str(JFK_carriers)[1:-1]\n",
    "EWR_carriers_string =  str(EWR_carriers)[1:-1]\n",
    "LGA_carriers_string =  str(LGA_carriers)[1:-1]\n",
    "\n",
    "print 'The airlines that fly from NYC to SEATTLE are ' + JFK_flights_string + ' ' +EWR_flights_string + LGA_flights_string\n",
    "\n",
    "# 2nd iteration\n",
    "airlines = flights_df[(flights_df[\"dest\"]==\"SEA\")& ((flights_df[\"origin\"]==\"EWR\") | (flights_df[\"origin\"]==\"JFK\")| (flights_df[\"origin\"]==\"LGA\"))]['carrier'].unique()\n",
    "print str(airlines)[1:-1]"
   ]
  },
  {
   "cell_type": "markdown",
   "metadata": {},
   "source": [
    "(c) How many unique air planes fly from NYC to Seattle?"
   ]
  },
  {
   "cell_type": "code",
   "execution_count": null,
   "metadata": {
    "collapsed": false
   },
   "outputs": [],
   "source": [
    "unique_flights_SEA = flights_df[(flights_df[\"dest\"]==\"SEA\")& ((flights_df[\"origin\"]==\"EWR\") | (flights_df[\"origin\"]==\"JFK\")| (flights_df[\"origin\"]==\"LGA\"))]['tailnum']\n",
    "\n",
    "len(unique_flights_SEA.unique())"
   ]
  },
  {
   "cell_type": "markdown",
   "metadata": {},
   "source": [
    "(d) What is the average arrival delay for flights from NYC to Seattle?\n"
   ]
  },
  {
   "cell_type": "code",
   "execution_count": null,
   "metadata": {
    "collapsed": false
   },
   "outputs": [],
   "source": [
    "arrival_delay = flights_df[(flights_df['dest'] == 'SEA') & ((flights_df['origin']=='EWR') | (flights_df['origin']=='JFK') | (flights_df['origin']=='LGA'))]['arr_delay']\n",
    "arrival_delay.mean()"
   ]
  },
  {
   "cell_type": "markdown",
   "metadata": {},
   "source": [
    "(e) What proportion of flights to Seattle come from each NYC airport?"
   ]
  },
  {
   "cell_type": "code",
   "execution_count": null,
   "metadata": {
    "collapsed": false
   },
   "outputs": [],
   "source": [
    "# print float(JFK_flights) /float(NYC_flights)  \n",
    "# print float(EWR_flights) / float(NYC_flights)\n",
    "# print float(LGA_flights) / float(NYC_flights)\n",
    "\n",
    "print 'JFK flights {0:.2%}'.format((JFK_flights)/float(NYC_flights))\n",
    "print 'EWR flights {0:.2%}'.format((EWR_flights)/float(NYC_flights))\n",
    "print 'LGA flights {0:.2%}'.format((LGA_flights)/float(NYC_flights))\n"
   ]
  },
  {
   "cell_type": "markdown",
   "metadata": {},
   "source": [
    "# Question 2\n",
    "Flights are often delayed. Consider the following questions exploring delay patterns.<br>\n",
    "(a) Which date has the largest average departure delay? Which date has the largest average arrival delay?<br>\n",
    "(b) What was the worst day to fly out of NYC in 2013 if you dislike delayed flights?<br>\n",
    "(c) Are there any seasonal patterns in departure delays for flights from NYC?<br>\n",
    "(d) On average, how do departure delays vary over the course of a day?<br>\n"
   ]
  },
  {
   "cell_type": "markdown",
   "metadata": {},
   "source": [
    "# COMEBACK TO THIS PROBLEM DATE"
   ]
  },
  {
   "cell_type": "code",
   "execution_count": 23,
   "metadata": {
    "collapsed": false,
    "scrolled": false
   },
   "outputs": [],
   "source": [
    "\n",
    "# # Add date column to df, concatenating year/month/day\n",
    "flights_df['date'] = pd.to_datetime(flights_df['year'] * 10000 + flights_df['month'] * 100 + flights_df['day'], format='%Y%m%d')\n",
    "\n",
    "# # flights_df['date']\n",
    "largest_avg_departure_delay = flights_df.groupby(['date'])\n",
    "# largest_avg_departure_delay['dep_delay'].mean().max()\\\n",
    "\n",
    "\n",
    "# largest_avg_departure_delay['date']\n",
    "dep_delay_flights = flights_df[flights_df['dep_delay'] > 0]\n",
    "delayed = dep_delay_flights.sort_values('dep_delay', ascending = 0)\n",
    "# delayed.groupby(['dep_delay'])['date'].max()\n",
    "lrg_avg_dd = delayed.groupby(['dep_delay'])['date'].max()\n",
    "\n"
   ]
  },
  {
   "cell_type": "code",
   "execution_count": null,
   "metadata": {
    "collapsed": false
   },
   "outputs": [],
   "source": [
    "\n",
    "# #combining the columns year, month & day to form a date\n",
    "# flights_df[\"date\"] = pd.to_datetime(flights_df[\"year\"]*10000\n",
    "#                                     +flights_df[\"month\"]*100\n",
    "#                                     +flights_df[\"day\"],\n",
    "#                                     format='%Y%m%d')\n",
    "# #grouping by date\n",
    "# datewise_flights_df = flights_df.groupby([\"date\"])"
   ]
  },
  {
   "cell_type": "code",
   "execution_count": null,
   "metadata": {
    "collapsed": false
   },
   "outputs": [],
   "source": [
    "# print datewise_flights_df['arr_delay'].mean().max()\n",
    "\n",
    "# print datewise_flights_df['dep_delay'].mean().max()"
   ]
  },
  {
   "cell_type": "code",
   "execution_count": null,
   "metadata": {
    "collapsed": false
   },
   "outputs": [],
   "source": [
    "\n",
    "# # use .groupby() to aggregate data for each date, then use .mean() to calculate average delay time\n",
    "# dep_delay = flights_df.groupby('date', as_index = False)['dep_delay'].mean()\n",
    "# arr_delay = flights_df.groupby('date', as_index = False)['arr_delay'].mean()\n",
    "\n",
    "# # print the rows that have maximum delay time for 2 new data frames\n",
    "# print(dep_delay.ix[dep_delay['dep_delay'].idxmax()])\n",
    "# print(arr_delay.ix[arr_delay['arr_delay'].idxmax()])\n"
   ]
  },
  {
   "cell_type": "code",
   "execution_count": 24,
   "metadata": {
    "collapsed": false,
    "scrolled": true
   },
   "outputs": [
    {
     "data": {
      "text/plain": [
       "date\n",
       "2013-12-23    674\n",
       "2013-03-08    653\n",
       "2013-07-01    652\n",
       "2013-06-25    649\n",
       "2013-07-23    645\n",
       "2013-05-24    621\n",
       "2013-07-08    615\n",
       "2013-12-17    608\n",
       "2013-12-09    606\n",
       "2013-08-09    602\n",
       "2013-08-22    593\n",
       "2013-06-26    591\n",
       "2013-04-12    587\n",
       "2013-12-19    584\n",
       "2013-02-27    584\n",
       "2013-12-22    583\n",
       "2013-05-08    583\n",
       "2013-12-18    580\n",
       "2013-06-13    577\n",
       "2013-08-08    571\n",
       "2013-06-28    562\n",
       "2013-04-19    557\n",
       "2013-10-11    557\n",
       "2013-08-13    554\n",
       "2013-07-09    552\n",
       "2013-07-11    551\n",
       "2013-04-11    550\n",
       "2013-05-09    549\n",
       "2013-07-12    545\n",
       "2013-07-03    543\n",
       "             ... \n",
       "2013-01-29    193\n",
       "2013-10-22    192\n",
       "2013-08-31    192\n",
       "2013-01-10    191\n",
       "2013-11-28    191\n",
       "2013-04-27    189\n",
       "2013-01-19    186\n",
       "2013-11-06    186\n",
       "2013-03-30    185\n",
       "2013-11-19    182\n",
       "2013-09-01    181\n",
       "2013-09-06    181\n",
       "2013-09-05    180\n",
       "2013-11-05    179\n",
       "2013-10-01    179\n",
       "2013-01-12    173\n",
       "2013-11-16    167\n",
       "2013-02-09    166\n",
       "2013-10-02    164\n",
       "2013-01-15    164\n",
       "2013-05-26    162\n",
       "2013-09-28    155\n",
       "2013-09-24    154\n",
       "2013-09-14    144\n",
       "2013-09-07    144\n",
       "2013-10-29    143\n",
       "2013-11-09    141\n",
       "2013-10-19    135\n",
       "2013-11-29    131\n",
       "2013-11-02    129\n",
       "Name: dep_delay, dtype: int64"
      ]
     },
     "execution_count": 24,
     "metadata": {},
     "output_type": "execute_result"
    }
   ],
   "source": [
    "\n",
    "# using dep_delay_flights from before, group by date and aggregate by count\n",
    "count_del_flights = dep_delay_flights.groupby('date').count()\n",
    "\n",
    "# Filter for flights with a positive departure delay\n",
    "dep_delay_flights = flights_df[flights_df['dep_delay'] > 0]\n",
    "del_count = count_del_flights.sort_values('dep_delay', ascending = 0)\n",
    "\n",
    "del_count['dep_delay']"
   ]
  },
  {
   "cell_type": "markdown",
   "metadata": {},
   "source": [
    "### (b) What was the worst day to fly out of NYC in 2013 if you dislike delayed flights?"
   ]
  },
  {
   "cell_type": "code",
   "execution_count": null,
   "metadata": {
    "collapsed": true
   },
   "outputs": [],
   "source": []
  },
  {
   "cell_type": "markdown",
   "metadata": {},
   "source": [
    "### (c) Are there any seasonal patterns in departure delays for flights from NYC?\n"
   ]
  },
  {
   "cell_type": "code",
   "execution_count": 25,
   "metadata": {
    "collapsed": false
   },
   "outputs": [
    {
     "data": {
      "text/plain": [
       "month\n",
       "1     10.036665\n",
       "2     10.816843\n",
       "3     13.227076\n",
       "4     13.938038\n",
       "5     12.986859\n",
       "6     20.846332\n",
       "7     21.727787\n",
       "8     12.611040\n",
       "9      6.722476\n",
       "10     6.243988\n",
       "11     5.435362\n",
       "12    16.576688\n",
       "Name: dep_delay, dtype: float64"
      ]
     },
     "execution_count": 25,
     "metadata": {},
     "output_type": "execute_result"
    }
   ],
   "source": [
    "average_montly_flight_delays = flights_df.groupby(['month'])['dep_delay'].mean()\n",
    "average_montly_flight_delays"
   ]
  },
  {
   "cell_type": "markdown",
   "metadata": {},
   "source": [
    "### (d) On average, how do departure delays vary over the course of a day?"
   ]
  },
  {
   "cell_type": "code",
   "execution_count": 26,
   "metadata": {
    "collapsed": false
   },
   "outputs": [
    {
     "data": {
      "text/plain": [
       "hour\n",
       "0.0     128.642452\n",
       "1.0     207.049327\n",
       "2.0     239.921875\n",
       "3.0     304.727273\n",
       "4.0      -5.554098\n",
       "5.0      -4.355644\n",
       "6.0      -1.520552\n",
       "7.0       0.223289\n",
       "8.0       1.091432\n",
       "9.0       4.268295\n",
       "10.0      5.548644\n",
       "11.0      5.652309\n",
       "12.0      7.601892\n",
       "13.0      9.380639\n",
       "14.0      8.090381\n",
       "15.0     10.682049\n",
       "16.0     13.621150\n",
       "17.0     16.756593\n",
       "18.0     18.664671\n",
       "19.0     21.497342\n",
       "20.0     28.266213\n",
       "21.0     42.064964\n",
       "22.0     68.190042\n",
       "23.0     96.946865\n",
       "24.0     64.862069\n",
       "Name: dep_delay, dtype: float64"
      ]
     },
     "execution_count": 26,
     "metadata": {},
     "output_type": "execute_result"
    }
   ],
   "source": [
    "flights_df.groupby(['hour'])['dep_delay'].mean()"
   ]
  },
  {
   "cell_type": "markdown",
   "metadata": {
    "collapsed": true
   },
   "source": [
    "### Question 3\n",
    "Which flight departing NYC in 2013 flew the fastest?<br>"
   ]
  },
  {
   "cell_type": "code",
   "execution_count": 29,
   "metadata": {
    "collapsed": false
   },
   "outputs": [
    {
     "data": {
      "text/html": [
       "<div>\n",
       "<table border=\"1\" class=\"dataframe\">\n",
       "  <thead>\n",
       "    <tr style=\"text-align: right;\">\n",
       "      <th></th>\n",
       "      <th>carrier</th>\n",
       "      <th>tailnum</th>\n",
       "      <th>flight</th>\n",
       "      <th>origin</th>\n",
       "      <th>dest</th>\n",
       "      <th>date</th>\n",
       "      <th>speed</th>\n",
       "    </tr>\n",
       "  </thead>\n",
       "  <tbody>\n",
       "    <tr>\n",
       "      <th>216447</th>\n",
       "      <td>DL</td>\n",
       "      <td>N666DN</td>\n",
       "      <td>1499</td>\n",
       "      <td>LGA</td>\n",
       "      <td>ATL</td>\n",
       "      <td>2013-05-25</td>\n",
       "      <td>11.723077</td>\n",
       "    </tr>\n",
       "  </tbody>\n",
       "</table>\n",
       "</div>"
      ],
      "text/plain": [
       "       carrier tailnum  flight origin dest       date      speed\n",
       "216447      DL  N666DN    1499    LGA  ATL 2013-05-25  11.723077"
      ]
     },
     "execution_count": 29,
     "metadata": {},
     "output_type": "execute_result"
    }
   ],
   "source": [
    "# speed = dist/time\n",
    "\n",
    "flights_df['speed'] = flights_df['distance'] / flights_df['air_time']\n",
    "\n",
    "fastest_flight_df = flights_df.sort_values(by = 'speed', ascending=False)\n",
    "# fastest_flight_df.max()\n",
    "\n",
    "fastest_flight_df[['carrier', 'tailnum', 'flight', 'origin', 'dest', 'date', 'speed']].head(1)\n"
   ]
  },
  {
   "cell_type": "markdown",
   "metadata": {},
   "source": [
    "### Question 4\n",
    "Which flights (i.e. carrier + flight + dest) happen every day? Where do they fly to?\n"
   ]
  },
  {
   "cell_type": "code",
   "execution_count": 65,
   "metadata": {
    "collapsed": false,
    "scrolled": true
   },
   "outputs": [
    {
     "data": {
      "text/html": [
       "<div>\n",
       "<table border=\"1\" class=\"dataframe\">\n",
       "  <thead>\n",
       "    <tr style=\"text-align: right;\">\n",
       "      <th></th>\n",
       "      <th>carrier</th>\n",
       "      <th>flight</th>\n",
       "      <th>dest</th>\n",
       "      <th>origin</th>\n",
       "    </tr>\n",
       "  </thead>\n",
       "  <tbody>\n",
       "    <tr>\n",
       "      <th>775</th>\n",
       "      <td>AA</td>\n",
       "      <td>59</td>\n",
       "      <td>SFO</td>\n",
       "      <td>JFK</td>\n",
       "    </tr>\n",
       "    <tr>\n",
       "      <th>783</th>\n",
       "      <td>AA</td>\n",
       "      <td>119</td>\n",
       "      <td>LAX</td>\n",
       "      <td>EWR</td>\n",
       "    </tr>\n",
       "    <tr>\n",
       "      <th>791</th>\n",
       "      <td>AA</td>\n",
       "      <td>181</td>\n",
       "      <td>LAX</td>\n",
       "      <td>JFK</td>\n",
       "    </tr>\n",
       "    <tr>\n",
       "      <th>912</th>\n",
       "      <td>AA</td>\n",
       "      <td>1357</td>\n",
       "      <td>SJU</td>\n",
       "      <td>JFK</td>\n",
       "    </tr>\n",
       "    <tr>\n",
       "      <th>922</th>\n",
       "      <td>AA</td>\n",
       "      <td>1611</td>\n",
       "      <td>MIA</td>\n",
       "      <td>LGA</td>\n",
       "    </tr>\n",
       "    <tr>\n",
       "      <th>1127</th>\n",
       "      <td>B6</td>\n",
       "      <td>219</td>\n",
       "      <td>CLT</td>\n",
       "      <td>JFK</td>\n",
       "    </tr>\n",
       "    <tr>\n",
       "      <th>1156</th>\n",
       "      <td>B6</td>\n",
       "      <td>359</td>\n",
       "      <td>BUR</td>\n",
       "      <td>JFK</td>\n",
       "    </tr>\n",
       "    <tr>\n",
       "      <th>1159</th>\n",
       "      <td>B6</td>\n",
       "      <td>371</td>\n",
       "      <td>FLL</td>\n",
       "      <td>LGA</td>\n",
       "    </tr>\n",
       "    <tr>\n",
       "      <th>1178</th>\n",
       "      <td>B6</td>\n",
       "      <td>431</td>\n",
       "      <td>SRQ</td>\n",
       "      <td>LGA</td>\n",
       "    </tr>\n",
       "    <tr>\n",
       "      <th>1252</th>\n",
       "      <td>B6</td>\n",
       "      <td>703</td>\n",
       "      <td>SJU</td>\n",
       "      <td>JFK</td>\n",
       "    </tr>\n",
       "    <tr>\n",
       "      <th>1388</th>\n",
       "      <td>B6</td>\n",
       "      <td>1783</td>\n",
       "      <td>MCO</td>\n",
       "      <td>JFK</td>\n",
       "    </tr>\n",
       "    <tr>\n",
       "      <th>2025</th>\n",
       "      <td>DL</td>\n",
       "      <td>2159</td>\n",
       "      <td>MCO</td>\n",
       "      <td>JFK</td>\n",
       "    </tr>\n",
       "    <tr>\n",
       "      <th>2095</th>\n",
       "      <td>DL</td>\n",
       "      <td>2391</td>\n",
       "      <td>TPA</td>\n",
       "      <td>JFK</td>\n",
       "    </tr>\n",
       "    <tr>\n",
       "      <th>4654</th>\n",
       "      <td>EV</td>\n",
       "      <td>5712</td>\n",
       "      <td>IAD</td>\n",
       "      <td>JFK</td>\n",
       "    </tr>\n",
       "    <tr>\n",
       "      <th>5139</th>\n",
       "      <td>UA</td>\n",
       "      <td>15</td>\n",
       "      <td>HNL</td>\n",
       "      <td>EWR</td>\n",
       "    </tr>\n",
       "    <tr>\n",
       "      <th>11072</th>\n",
       "      <td>VX</td>\n",
       "      <td>251</td>\n",
       "      <td>LAS</td>\n",
       "      <td>JFK</td>\n",
       "    </tr>\n",
       "    <tr>\n",
       "      <th>11074</th>\n",
       "      <td>VX</td>\n",
       "      <td>407</td>\n",
       "      <td>LAX</td>\n",
       "      <td>JFK</td>\n",
       "    </tr>\n",
       "    <tr>\n",
       "      <th>11078</th>\n",
       "      <td>VX</td>\n",
       "      <td>413</td>\n",
       "      <td>LAX</td>\n",
       "      <td>JFK</td>\n",
       "    </tr>\n",
       "  </tbody>\n",
       "</table>\n",
       "</div>"
      ],
      "text/plain": [
       "      carrier  flight dest origin\n",
       "775        AA      59  SFO    JFK\n",
       "783        AA     119  LAX    EWR\n",
       "791        AA     181  LAX    JFK\n",
       "912        AA    1357  SJU    JFK\n",
       "922        AA    1611  MIA    LGA\n",
       "1127       B6     219  CLT    JFK\n",
       "1156       B6     359  BUR    JFK\n",
       "1159       B6     371  FLL    LGA\n",
       "1178       B6     431  SRQ    LGA\n",
       "1252       B6     703  SJU    JFK\n",
       "1388       B6    1783  MCO    JFK\n",
       "2025       DL    2159  MCO    JFK\n",
       "2095       DL    2391  TPA    JFK\n",
       "4654       EV    5712  IAD    JFK\n",
       "5139       UA      15  HNL    EWR\n",
       "11072      VX     251  LAS    JFK\n",
       "11074      VX     407  LAX    JFK\n",
       "11078      VX     413  LAX    JFK"
      ]
     },
     "execution_count": 65,
     "metadata": {},
     "output_type": "execute_result"
    }
   ],
   "source": [
    "carrier_flight_dest_df = flights_df.groupby(['carrier', 'flight', 'dest', 'origin'], as_index=False).count()\n",
    "carrier_flight_dest_df[carrier_flight_dest_df['date']==365][['carrier', 'flight', 'dest', 'origin']]"
   ]
  },
  {
   "cell_type": "markdown",
   "metadata": {},
   "source": [
    "## Question 5\n",
    "Develop one research question you can address using the nycflights2013 dataset. Provide two visualizations to support your exploration of this question. Discuss what you find."
   ]
  },
  {
   "cell_type": "markdown",
   "metadata": {},
   "source": [
    "#### Which of the NYC airports is used most for long-distance flights?"
   ]
  },
  {
   "cell_type": "code",
   "execution_count": 66,
   "metadata": {
    "collapsed": false
   },
   "outputs": [
    {
     "name": "stdout",
     "output_type": "stream",
     "text": [
      "origin\n",
      "EWR    1056.742790\n",
      "JFK    1266.249077\n",
      "LGA     779.835671\n",
      "Name: distance, dtype: float64\n"
     ]
    }
   ],
   "source": [
    "flights_long_dist_df = flights_df.groupby('origin').mean()\n",
    "\n",
    "print flights_long_dist_df['distance']"
   ]
  },
  {
   "cell_type": "code",
   "execution_count": 75,
   "metadata": {
    "collapsed": false
   },
   "outputs": [
    {
     "data": {
      "text/plain": [
       "<matplotlib.text.Text at 0x7fc42f7a35d0>"
      ]
     },
     "execution_count": 75,
     "metadata": {},
     "output_type": "execute_result"
    },
    {
     "data": {
      "image/png": "[encoded data removed]",
      "text/plain": [
       "<matplotlib.figure.Figure at 0x7fc42f7d0b50>"
      ]
     },
     "metadata": {},
     "output_type": "display_data"
    }
   ],
   "source": [
    "# Import and alias pyplot from matplotlib\n",
    "import matplotlib.pyplot as plt\n",
    "\n",
    "# Set plots to plot inline\n",
    "%matplotlib inline \n",
    "\n",
    "\n",
    "flights_long_dist_df.distance.plot(kind = 'bar')\n",
    "plt.xlabel('Origin Airport')\n",
    "plt.ylabel('Mean Flight Distance')\n",
    "plt.title(r'Average Flight Distance from NYC')\n",
    "\n",
    "\n"
   ]
  },
  {
   "cell_type": "code",
   "execution_count": 73,
   "metadata": {
    "collapsed": false
   },
   "outputs": [
    {
     "data": {
      "text/plain": [
       "<matplotlib.legend.Legend at 0x7fc434b41b50>"
      ]
     },
     "execution_count": 73,
     "metadata": {},
     "output_type": "execute_result"
    },
    {
     "data": {
      "image/png": "[encoded data removed]",
      "text/plain": [
       "<matplotlib.figure.Figure at 0x7fc4340bdc10>"
      ]
     },
     "metadata": {},
     "output_type": "display_data"
    }
   ],
   "source": [
    "# Create a series containing distance for each of the origin airports by filtering on origin\n",
    "\n",
    "flights_EWR = flights_df['distance'][flights_df['origin']== 'EWR']\n",
    "flights_JFK = flights_df['distance'][flights_df['origin']== 'JFK']\n",
    "flights_LGA = flights_df['distance'][flights_df['origin']== 'LGA']\n",
    "\n",
    "# Plot a histogram for each of the above series, and overlay on same plot to see comparison\n",
    "plt.hist(flights_EWR.values, 50, alpha=0.5, label='EWR')\n",
    "\n",
    "plt.hist(flights_JFK.values, 50, alpha=0.5, label='JFK')\n",
    "\n",
    "plt.hist(flights_LGA.values, 50, alpha=0.5, label='LGA')\n",
    "\n",
    "# Add labels for clarity\n",
    "plt.xlabel('Flight Distance')\n",
    "plt.ylabel('Count')\n",
    "plt.title(r'Histogram Flights Departing NYC')\n",
    "plt.legend(loc='upper right')"
   ]
  },
  {
   "cell_type": "markdown",
   "metadata": {},
   "source": [
    "### Which carrier airline has most frequency of arrival delay at the NYC airports and how does it compare with it's departure delay?"
   ]
  },
  {
   "cell_type": "code",
   "execution_count": 92,
   "metadata": {
    "collapsed": false
   },
   "outputs": [
    {
     "name": "stdout",
     "output_type": "stream",
     "text": [
      "          carrier\n",
      "arr_delay        \n",
      "10             OO\n",
      "97             HA\n",
      "189            AS\n",
      "258            YV\n",
      "392            F9\n",
      "1746           VX\n",
      "1895           FL\n",
      "5304           WN\n",
      "6637           9E\n",
      "7349           US\n",
      "10706          AA\n",
      "11693          MQ\n",
      "16413          DL\n",
      "22222          UA\n",
      "23609          B6\n",
      "24484          EV\n"
     ]
    },
    {
     "data": {
      "image/png": "[encoded data removed]",
      "text/plain": [
       "<matplotlib.figure.Figure at 0x7fc42f17c9d0>"
      ]
     },
     "metadata": {},
     "output_type": "display_data"
    }
   ],
   "source": [
    "delayed_flights = flights_df[flights_df['arr_delay'] > 0]\n",
    "delay_frequency = delayed_flights.groupby('carrier', as_index = False)['arr_delay'].count()\n",
    "print delay_frequency.groupby(['arr_delay']).max()\n",
    "\n",
    "delay_frequency = delay_frequency.set_index('carrier')\n",
    "delay_frequency.plot()\n",
    "plt.show()\n"
   ]
  },
  {
   "cell_type": "code",
   "execution_count": 103,
   "metadata": {
    "collapsed": false
   },
   "outputs": [
    {
     "name": "stdout",
     "output_type": "stream",
     "text": [
      "          carrier\n",
      "dep_delay        \n",
      "9              OO\n",
      "69             HA\n",
      "226            AS\n",
      "233            YV\n",
      "341            F9\n",
      "1654           FL\n",
      "2225           VX\n",
      "4775           US\n",
      "6558           WN\n",
      "7063           9E\n",
      "8031           MQ\n",
      "10162          AA\n",
      "15241          DL\n",
      "21445          B6\n",
      "23139          EV\n",
      "27261          UA\n"
     ]
    },
    {
     "data": {
      "image/png": "[encoded data removed]",
      "text/plain": [
       "<matplotlib.figure.Figure at 0x7fc42f1032d0>"
      ]
     },
     "metadata": {},
     "output_type": "display_data"
    }
   ],
   "source": [
    "delayed_arr_flights = flights_df[flights_df['dep_delay'] > 0]\n",
    "delayed_arr_frequency = delayed_arr_flights.groupby('carrier', as_index = False)['dep_delay'].count()\n",
    "print delayed_arr_frequency.groupby(['dep_delay']).max()\n",
    "\n",
    "delayed_arr_frequency = delayed_arr_frequency.set_index('carrier')\n",
    "delayed_arr_frequency.plot()\n",
    "plt.show()\n",
    "\n",
    "\n"
   ]
  },
  {
   "cell_type": "markdown",
   "metadata": {},
   "source": [
    "## Question 6\n",
    "What weather conditions are associated with flight delays leaving NYC? Use graphics to explore.\n",
    "data uses NYC Flight13 dataset<br>"
   ]
  },
  {
   "cell_type": "code",
   "execution_count": null,
   "metadata": {
    "collapsed": true
   },
   "outputs": [],
   "source": []
  }
 ],
 "metadata": {
  "kernelspec": {
   "display_name": "Python 2",
   "language": "python",
   "name": "python2"
  },
  "language_info": {
   "codemirror_mode": {
    "name": "ipython",
    "version": 2
   },
   "file_extension": ".py",
   "mimetype": "text/x-python",
   "name": "python",
   "nbconvert_exporter": "python",
   "pygments_lexer": "ipython2",
   "version": "2.7.13"
  }
 },
 "nbformat": 4,
 "nbformat_minor": 2
}
