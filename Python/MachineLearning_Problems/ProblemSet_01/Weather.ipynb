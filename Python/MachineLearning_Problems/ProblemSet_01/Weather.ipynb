{
 "cells": [
  {
   "cell_type": "markdown",
   "metadata": {},
   "source": [
    "Question 1<br>\n",
    "Let’s explore flights from NYC to Seattle. Use the flights dataset to answer the following questions.\n",
    "(a) How many flights were there from NYC airports to Seattle in 2013?\n",
    "(b) How many airlines fly from NYC to Seattle?\n",
    "(c) How many unique air planes fly from NYC to Seattle?\n",
    "(d) What is the average arrival delay for flights from NC to Seattle?\n",
    "(e) What proportion of flights to Seattle come from each NYC airport?\n",
    "\n",
    "\n",
    "Question 2<br>\n",
    "Flights are often delayed. Consider the following questions exploring delay patterns.\n",
    "(a) Which date has the largest average departure delay? Which date has the largest average arrival delay?\n",
    "(b) What was the worst day to fly out of NYC in 2013 if you dislike delayed flights?\n",
    "(c) Are there any seasonal patterns in departure delays for flights from NYC?\n",
    "(d) On average, how do departure delays vary over the course of a day?\n",
    "\n",
    "Question 3<br>\n",
    "Which flight departing NYC in 2013 flew the fastest?\n",
    "\n",
    "\n",
    "Question 4<br>\n",
    "Which flights (i.e. carrier + flight + dest) happen every day? Where do they fly to?\n",
    "\n",
    "Question 5<br>\n",
    "Develop one research question you can address using the nycflights2013 dataset. Provide two visualizations to support your exploration of this question. Discuss what you find.\n",
    "\n",
    "Question 6<br>\n",
    "What weather conditions are associated with flight delays leaving NYC? Use graphics to explore.\n",
    "data uses NYC Flight13 dataset\n",
    "\n",
    "#load the datasets\n",
    "#dimensions of flights dataset in rows and columns\n",
    "#column names of flights\n",
    "#print types of each variable in the dataset\n",
    "#select all unique destinations \n",
    "#view initial 10 rows in the dataset\n",
    "#unique origin airports\n",
    "#select the subset of the data where the destination is Seattle. Count such flights.\n",
    "\n",
    "#unique airlines in the dataset\n",
    "#carriers flying to Seattle\n",
    "#Subset the dataset with destination as Seattle and then find unique Airplanes(using tailnums)\n",
    "\n",
    "#calculate the mean by subsetting the data with destination as Seattle\n",
    "#Make a crosstabulation of the flights coming from NYC to SEA\n",
    "#Calculate the proportion by dividing the sum\n",
    "\n",
    "#creating a groupby table which is indexed by Month and Day and not year because the data is for 2013 year\n",
    "#the arrival delay is then aggregated for every date\n",
    "\n",
    "#select the the date for largest average arrival delay\n",
    "#groupby the number of flights only if there is departure delay (departure delay is greater than 0)\n",
    "#retrieve the date for the maximum number of delayed flights\n",
    "\n",
    "\n",
    "\n",
    "#plot the data by averaging the departure delay by months\n",
    "#set the x-axis label to months\n",
    "#set the x-axis to not plot 0 month\n",
    "#increase the number of visible ticks to individual months to show all months\n",
    "#set the y-label to average delay \n",
    "#set the limits of y-axis\n",
    "#set the grid to true\n",
    "#plot legends"
   ]
  },
  {
   "cell_type": "code",
   "execution_count": null,
   "metadata": {
    "collapsed": false,
    "scrolled": true
   },
   "outputs": [],
   "source": [
    "import IPython\n",
    "import numpy as np\n",
    "import scipy as sp\n",
    "import pandas as pd\n",
    "\n",
    "import matplotlib\n",
    "\n",
    "import sklearn\n",
    "import matplotlib.pyplot as plt\n",
    "\n",
    "from pandas import Series\n",
    "#inline matplotlib\n",
    "%matplotlib inline \n",
    "\n",
    "# Import StatsModels for OLS\n",
    "import statsmodels.api as sm\n",
    "\n",
    "# Load dataset. Assumes flights.zip has been unpacked and saved as flights.csv in the current directory\n",
    "# Create dataframe from file \n",
    "flights_df = pd.read_csv('flights.csv')"
   ]
  },
  {
   "cell_type": "code",
   "execution_count": null,
   "metadata": {
    "collapsed": false,
    "scrolled": true
   },
   "outputs": [],
   "source": [
    "#dimensions of flights dataset in rows and columns\n",
    "print flights_df.shape"
   ]
  },
  {
   "cell_type": "code",
   "execution_count": null,
   "metadata": {
    "collapsed": false,
    "scrolled": true
   },
   "outputs": [],
   "source": [
    "# flights_df.columns = [strip_non_ascii(x) for x in flights_df.columns]\n",
    "\n",
    "#column names of flights\n",
    "print flights_df.columns"
   ]
  },
  {
   "cell_type": "code",
   "execution_count": null,
   "metadata": {
    "collapsed": false,
    "scrolled": true
   },
   "outputs": [],
   "source": [
    "#print types of each variable in the dataset\n",
    "print flights_df.dtypes"
   ]
  },
  {
   "cell_type": "code",
   "execution_count": null,
   "metadata": {
    "collapsed": false,
    "scrolled": false
   },
   "outputs": [],
   "source": [
    "#select all unique destinations \n",
    "flights_df.dest.unique()"
   ]
  },
  {
   "cell_type": "code",
   "execution_count": null,
   "metadata": {
    "collapsed": false,
    "scrolled": false
   },
   "outputs": [],
   "source": [
    "#view initial 10 rows in the dataset\n",
    "flights_df.head(10)\n"
   ]
  },
  {
   "cell_type": "markdown",
   "metadata": {},
   "source": [
    "##Some Tips\n",
    "\n",
    "* This assignment involves extensive Data frame splitting and aggregation. You should look into the details of the methods groupby, transform, sum, count, mean etc\n",
    "* Many of the tasks in the assignment can be done either through the Pandas Data Frame or by converting the data frames to Series. Many of the methods in the numpy are applicable to Series only. When stuck, try to explore the type of object (Pandas Data Frame or Numpy Series) you are dealing with."
   ]
  },
  {
   "cell_type": "markdown",
   "metadata": {},
   "source": [
    "## Question 1\n",
    "Let’s explore flights from NYC to Seattle. Use the flights dataset to answer the following questions.\n",
    "\n",
    "(a) How many flights were there from NYC airports to Seattle in 2013?"
   ]
  },
  {
   "cell_type": "code",
   "execution_count": null,
   "metadata": {
    "collapsed": false,
    "scrolled": true
   },
   "outputs": [],
   "source": [
    "#calculating the number of flights from JFK to SEA\n",
    "JFK_flights = flights_df[(flights_df[\"dest\"]==\"SEA\") & (flights_df[\"origin\"]==\"JFK\")].count()[[\"flight\"]]\n",
    "\n",
    "#calculating the number of flights from EWR to SEA\n",
    "EWR_flights = flights_df[(flights_df[\"dest\"]==\"SEA\") & (flights_df[\"origin\"]==\"EWR\")].count()[[\"flight\"]]\n",
    "\n",
    "#calculating the number of flights from LGA to SEA\n",
    "LGA_flights = flights_df[(flights_df[\"dest\"]==\"SEA\") & (flights_df[\"origin\"]==\"LGA\")].count()[[\"flight\"]]\n",
    "\n",
    "print(\"\\nTotal no. of flights between SEA & JFK = \",JFK_flights)\n",
    "print(\"\\nTotal no. of flights between SEA & EWR = \",EWR_flights)\n",
    "print(\"\\nTotal no. of flights between SEA & LGA = \",LGA_flights)\n",
    "print(\"\\n\\nTotal no. of flights between SEA & NYC = \",LGA_flights + JFK_flights + EWR_flights)"
   ]
  },
  {
   "cell_type": "markdown",
   "metadata": {},
   "source": [
    "It appears there were between 3903 and 3923 flights from NYC airports to Seattle in 2013. Some of the columns are missing values for some flights, leading to different counts. I put the likely number of completed SEA-bound flights at 3903, which is the number of flights that recorded an arrival time. Based on the data, I would speculate that 3923 flights were planned, as that many have a flight number, origin, destination, year/month/day, carrier, and distance. These are all fields that would be known at the time a flight was scheduled. However, it is likely that only completed flights would record an arrival time. Therefore I put the number at 3903, and presume that 20 of the 3923 scheduled flights were cancelled for one reason or another."
   ]
  },
  {
   "cell_type": "markdown",
   "metadata": {},
   "source": [
    "(b) How many airlines fly from NYC to Seattle?"
   ]
  },
  {
   "cell_type": "code",
   "execution_count": null,
   "metadata": {
    "collapsed": false,
    "scrolled": true
   },
   "outputs": [],
   "source": [
    "# create an array of unique carriers with 'dest' == 'SEA' filter, then get the length of the array.\n",
    "\n",
    "print 'Unique carriers:', flights_df[flights_df['dest']=='SEA'].carrier.unique()\n",
    "print 'Number of unique carriers', len(flights_df[flights_df['dest']=='SEA'].carrier.unique())"
   ]
  },
  {
   "cell_type": "markdown",
   "metadata": {},
   "source": [
    "Five different airlines fly from NYC ariports to Seattle (Seatac airport), and have the airline codes AS, DL, UA, B6, and AA. "
   ]
  },
  {
   "cell_type": "markdown",
   "metadata": {},
   "source": [
    "(c) How many unique air planes fly from NYC to Seattle?"
   ]
  },
  {
   "cell_type": "code",
   "execution_count": null,
   "metadata": {
    "collapsed": false,
    "scrolled": true
   },
   "outputs": [],
   "source": [
    "# create an array of unique tailnums with 'dest' == 'SEA' filter, then get the length of the array.\n",
    "print 'Number of unique planes:', len(flights_df[flights_df['dest']=='SEA'].tailnum.unique())"
   ]
  },
  {
   "cell_type": "markdown",
   "metadata": {
    "collapsed": true,
    "scrolled": true
   },
   "source": [
    "\n",
    "(d) What is the average arrival delay for flights from NC to Seattle?"
   ]
  },
  {
   "cell_type": "code",
   "execution_count": null,
   "metadata": {
    "collapsed": false,
    "scrolled": true
   },
   "outputs": [],
   "source": [
    "#calculate the mean by subsetting the data with destination as Seattle\n",
    "flights_df[(flights_df.dest=='SEA')].arr_delay.mean()\n",
    "\n",
    "\n",
    "# take the mean of a list of arrival delays after filtering for 'dest' == SEA\n",
    "print 'Avg arrival deviation:', flights_df[flights_df['dest'] == 'SEA'].arr_delay.mean() # include all flights\n",
    "print 'Avg amount delayed:', flights_df[(flights_df['dest'] == 'SEA') & \n",
    "           (flights_df['arr_delay'] > 0)].arr_delay.mean() # include only \"delayed\" flights"
   ]
  },
  {
   "cell_type": "markdown",
   "metadata": {},
   "source": [
    "The average arrival delay of the flights flying from NYC to Seattle is -1.099. This can be approximated to -1.10. A negative value means that on average the flights flying from NYC to Seattle arrive \"early\" by 1.10 mins\n",
    "\n",
    "(e) What proportion of flights to Seattle come from each NYC airport?"
   ]
  },
  {
   "cell_type": "code",
   "execution_count": null,
   "metadata": {
    "collapsed": false,
    "scrolled": true
   },
   "outputs": [],
   "source": [
    "# take the mean of a list of arrival delays after filtering for 'dest' == SEA\n",
    "print 'Avg arrival deviation:', flights_df[flights_df['dest'] == 'SEA'].arr_delay.mean() # include all flights\n",
    "print 'Avg amount delayed:', flights_df[(flights_df['dest'] == 'SEA') & \n",
    "           (flights_df['arr_delay'] > 0)].arr_delay.mean() # include only \"delayed\" flights"
   ]
  },
  {
   "cell_type": "markdown",
   "metadata": {},
   "source": [
    "The average of the field 'arr_delay' on flights to Seattle is -1.1 minutes. This means that on average, flights to Seattle arrived earlier than scheduled. A more standard notion of delay is to describe the amount of time that late flights were delayed by. When looked at this way (by including only flights that had a positive arr_delay value), the average arrival delay on flights to Seattle was 39.8 minutes."
   ]
  },
  {
   "cell_type": "markdown",
   "metadata": {},
   "source": [
    "(e) What proportion of flights to Seattle come from each NYC airport?"
   ]
  },
  {
   "cell_type": "code",
   "execution_count": null,
   "metadata": {
    "collapsed": false,
    "scrolled": true
   },
   "outputs": [],
   "source": [
    "# Create objects for proportion function\n",
    "sea_flights = flights_df[flights_df['dest'] == 'SEA'] \n",
    "airports = sea_flights.origin.unique()\n",
    "flight_denom = sea_flights.flight.count()\n",
    "\n",
    "# Proportion function to print an airports proportion of flights (portion/total) to seattle given an airport\n",
    "def flight_proportion(airport):\n",
    "    for i in airport:\n",
    "        print i, float(sea_flights[sea_flights['origin'] == i].flight.count()) / float(flight_denom) # change both numerator and denominator to float\n",
    "\n",
    "# run function, passing in the unique NYC airports\n",
    "print flight_proportion(airports)\n"
   ]
  },
  {
   "cell_type": "markdown",
   "metadata": {},
   "source": [
    "Approximately 46.7% of New York to Seattle flights originate in Newark (EWR), and 53.3% originate at JFK airport. No flights were reported from LaGuardia (LGA). This is based on scheduled flight information, not completed flight records."
   ]
  },
  {
   "cell_type": "markdown",
   "metadata": {},
   "source": [
    "## Question 2\n",
    "Flights are often delayed. Consider the following questions exploring delay patterns.\n",
    "\n",
    "(a) Which date has the largest average departure delay? Which date has the largest average arrival delay?"
   ]
  },
  {
   "cell_type": "code",
   "execution_count": null,
   "metadata": {
    "collapsed": false,
    "scrolled": true
   },
   "outputs": [],
   "source": [
    "# Add date column to df, concatenating year/month/day\n",
    "flights_df['date'] = pd.to_datetime(flights_df['year'] * 10000 + flights_df['month'] * 100 + flights_df['day'], format='%Y%m%d')\n",
    "\n",
    "# Filter for flights with a positive departure delay\n",
    "dep_delay_flights = flights_df[flights_df['dep_delay'] > 0]\n",
    "# first, create a new column called \"date\":\n",
    "flights_df['date'] = pd.to_datetime((flights_df.year*10000+flights_df.month*100+flights_df.day).apply(str),format='%Y%m%d')\n",
    "\n",
    "# we can check the new column by printing the head of the data frame:\n",
    "flights_df.head(10)\n",
    "\n",
    "# use .groupby() to aggregate data for each date, then use .mean() to calculate average delay time\n",
    "dep_delay = flights_df.groupby('date', as_index = False)['dep_delay'].mean()\n",
    "arr_delay = flights_df.groupby('date', as_index = False)['arr_delay'].mean()\n",
    "\n",
    "# print the rows that have maximum delay time for 2 new data frames\n",
    "print(dep_delay.ix[dep_delay['dep_delay'].idxmax()])\n",
    "print(arr_delay.ix[arr_delay['arr_delay'].idxmax()])\n",
    "\n",
    "\n",
    "\n",
    "flights_by_date = flights_df.groupby(['year','month','day'])['dep_delay'].mean()\n",
    "flights_by_date_max = flights_by_date.max()\n",
    "flights3 = list(flights_by_date[flights_by_date == flights_by_date_max].index[0])\n",
    "print (\"Largest average departure delay is on:\",flights3[1],'-',flights3[2],'-',flights3[0], 'with delay of', flights_by_date_max, 'mins' )\n",
    "\n",
    "flights_by_date_arr = flights_df.groupby(['year','month','day'])['arr_delay'].mean()\n",
    "flights_by_date_arr_max = flights_by_date_arr.max()\n",
    "flights6 = list(flights_by_date_arr[flights_by_date_arr == flights_by_date_arr_max].index[0])\n",
    "print (\"Largest average arrival delay is on:\",flights6[1],'-',flights6[2],'-',flights6[0], 'with delay of', flights_by_date_arr_max, 'mins' )"
   ]
  },
  {
   "cell_type": "markdown",
   "metadata": {},
   "source": [
    "The day with the higest average departure delay in 2013 was March 8, with 102.9 minutes. The highest average arrival delay occurred on July 10 (110.1 minutes). Early departures and arrivals (i.e. negative arr_delay and dep_delay values) were not considered in this analysis, as the question was interpreted to mean positively delayed flights."
   ]
  },
  {
   "cell_type": "markdown",
   "metadata": {},
   "source": [
    "(b) What was the worst day to fly out of NYC in 2013 if you dislike delayed flights?\n"
   ]
  },
  {
   "cell_type": "code",
   "execution_count": null,
   "metadata": {
    "collapsed": false,
    "scrolled": true
   },
   "outputs": [],
   "source": [
    "# using dep_delay_flights from before, group by date and aggregate by count\n",
    "count_del_flights = dep_delay_flights.groupby('date').count()\n",
    "\n",
    "# Order df by dep_delay, desc\n",
    "del_count = count_del_flights.sort_values('dep_delay', ascending = 0)\n",
    "\n",
    "# Extract column of interest\n",
    "worst_days = del_count['dep_delay']\n",
    "\n",
    "# Return results\n",
    "print worst_days.head(3)"
   ]
  },
  {
   "cell_type": "markdown",
   "metadata": {},
   "source": [
    "The \"worst day for delays\" could take a couple different meanings: one, it could refer to the day with the highest average delays in minutes, which was March 8 (102.9 minutes delayed). Two, it could refer to the day with the highest number of delays, which was December 23 (674 delayed flights). I consider March 8th the \"worst\" day overall, because it had the highest average delay and the second highest number of delays, making the likelihood of delay great and the length of delay frustrating."
   ]
  },
  {
   "cell_type": "markdown",
   "metadata": {},
   "source": [
    "(c) Are there any seasonal patterns in departure delays for flights from NYC?"
   ]
  },
  {
   "cell_type": "code",
   "execution_count": null,
   "metadata": {
    "collapsed": false,
    "scrolled": true
   },
   "outputs": [],
   "source": [
    "flights_month = flights_df.groupby(['month'])['dep_delay'].mean()\n",
    "print(flights_month)\n",
    "\n"
   ]
  },
  {
   "cell_type": "markdown",
   "metadata": {},
   "source": [
    "\n",
    "To find the seasonal pattern, we find the average departure delay by month. From the data we find that July is the worst month to fly out of NYC as it has the maximum departure delay of 21.72 mins."
   ]
  },
  {
   "cell_type": "markdown",
   "metadata": {},
   "source": [
    "(d) On average, how do departure delays vary over the course of a day?"
   ]
  },
  {
   "cell_type": "code",
   "execution_count": null,
   "metadata": {
    "collapsed": false,
    "scrolled": false
   },
   "outputs": [],
   "source": [
    "flights1 = flights_df\n",
    "flights1['hour'] = flights1['hour'].replace([24], 0)\n",
    "flights1 = flights_df.groupby(['hour'])['dep_delay'].mean()\n",
    "print(flights1)\n",
    "\n"
   ]
  },
  {
   "cell_type": "markdown",
   "metadata": {},
   "source": [
    " The departure delays increase starting morning and then increases further during the afternoon and drops back again in the late evening."
   ]
  },
  {
   "cell_type": "markdown",
   "metadata": {},
   "source": [
    "## Question 3\n",
    "    Which flight departing NYC in 2013 flew the fastest?"
   ]
  },
  {
   "cell_type": "code",
   "execution_count": null,
   "metadata": {
    "collapsed": false,
    "scrolled": true
   },
   "outputs": [],
   "source": [
    "# create a new column \"speed\" that calculates the speed of each flight (in miles/minute)\n",
    "flights_df['speed'] = flights_df['distance']/flights_df['air_time']\n",
    "\n",
    "# sort and filter the data frame by descending speed values and wanted columns\n",
    "sort_df = flights_df.sort_values(by = 'speed', ascending=False)\n",
    "sort_df = sort_df[['carrier', 'tailnum', 'flight', 'origin', 'dest', 'date', 'speed']]\n",
    "\n",
    "# return the first row, which has the highest flight speed\n",
    "sort_df.head(1)\n",
    "\n",
    "# ////////////////////////////////////////////////\n",
    "\n",
    "# #Calculating speed(dis/time) of the flights\n",
    "# flights_df['speed']=flights_df['distance']/flights_df['air_time']\n",
    "# #sorting speed values\n",
    "# flights_df = flights_df.sort_values(by='speed', ascending=[False])\n",
    "# #printing the output \n",
    "# flights_df.head(3)\n"
   ]
  },
  {
   "cell_type": "markdown",
   "metadata": {},
   "source": [
    "## Question 3\n",
    "    Which flight departing NYC in 2013 flew the fastest?"
   ]
  },
  {
   "cell_type": "code",
   "execution_count": null,
   "metadata": {
    "collapsed": false,
    "scrolled": true
   },
   "outputs": [],
   "source": [
    "#compute the speed variable. Divide the time by 60 because we are now \n",
    "#considering the speed which is measured in miles per hour\n",
    "flights_df['speed'] = flights_df.distance / (flights_df.air_time/60)\n",
    "\n",
    "#Find the row with the maximum flight speed\n",
    "flights_df[(flights_df.speed == flights_df.speed.max())]\n",
    "\n"
   ]
  },
  {
   "cell_type": "markdown",
   "metadata": {},
   "source": [
    " Flight number 1499 flying from LaGuardia to Atlanta on 25th May flew the fastest with a speed of 703.38 MPH."
   ]
  },
  {
   "cell_type": "markdown",
   "metadata": {},
   "source": [
    "## Question 4\n",
    "Which flights (i.e. carrier + flight + dest) happen every day? Where do they fly to?"
   ]
  },
  {
   "cell_type": "code",
   "execution_count": null,
   "metadata": {
    "collapsed": false,
    "scrolled": false
   },
   "outputs": [],
   "source": [
    "# group by carrier, flight, dest, then print the combinations that there are 365 instances of (assuming 1/day)\n",
    "for key, group in flights_df.groupby(['carrier', 'flight', 'dest']):\n",
    "    if len(group) == 365:\n",
    "        print key\n",
    "        \n",
    "flights_daily = flights_df[['Unnamed: 0','carrier','flight','dest']].groupby(['carrier','flight','dest']).agg('count')\n",
    "flights_daily[flights_daily['Unnamed: 0']>=365]"
   ]
  },
  {
   "cell_type": "markdown",
   "metadata": {},
   "source": [
    "There are 18 daily flights out of NYC: American Airlines has 5 fligts that service San Francisco, Los Angeles, San Juan (Puerto Rico), and Miami. Jet Blue operates 6 flights, serving Charlotte, Burbank, Fort Lauderdale, Sarasota, San Juan, and Orlando. Delta flies daily to Orlando and Tampa. ExpressJet services Washington, DC. United services Honolulu. And Virgin America flies daily to Las Vegas and Los Angeles."
   ]
  },
  {
   "cell_type": "markdown",
   "metadata": {},
   "source": [
    "## Question 5\n",
    "Develop one research question you can address using the nycflights2013 dataset. Provide two visualizations to support your exploration of this question. Discuss what you find.\n"
   ]
  },
  {
   "cell_type": "markdown",
   "metadata": {},
   "source": [
    "My research question: Which carrier airline has most frequency of arrival delay at the NYC airports and how does it compare with it's departure delay? This observation if relevant will help me to avoid picking that particular airline, especially if there is a close similarity in both it's arrival delay and departure delay pattern."
   ]
  },
  {
   "cell_type": "code",
   "execution_count": null,
   "metadata": {
    "collapsed": false,
    "scrolled": false
   },
   "outputs": [],
   "source": [
    "#finding the delayed arrival flights at NYC \n",
    "delayed_flights = flights_df[flights_df['arr_delay']>0]\n",
    "#counting the total delayed arrival flights by carrier\n",
    "delay_freq= delayed_flights.groupby('carrier', as_index=False)['arr_delay'].count()\n",
    "\n",
    "print(delay_freq)\n",
    "delay_freq = delay_freq.set_index('carrier')\n",
    "delay_freq.plot()\n",
    "plt.show()"
   ]
  },
  {
   "cell_type": "markdown",
   "metadata": {},
   "source": [
    "So, the above plot shows EV has the most delayed arrival flights in overall. The above plot visualization also supports this finding as we can see from above. Next we can try to look for performance of delayed arrivals for the same airline to assess it's overall service quality"
   ]
  },
  {
   "cell_type": "code",
   "execution_count": null,
   "metadata": {
    "collapsed": false,
    "scrolled": false
   },
   "outputs": [],
   "source": [
    "#finding the delayed arrival flights at NYC \n",
    "delayed_dep_flights = flights_df[flights_df['dep_delay']>0]\n",
    "#counting the total delayed arrival flights by carrier\n",
    "dep_delay_freq= delayed_dep_flights.groupby('carrier', as_index=False)['dep_delay'].count()\n",
    "\n",
    "print(dep_delay_freq)\n",
    "dep_delay_freq = dep_delay_freq.set_index('carrier')\n",
    "dep_delay_freq.plot()\n",
    "plt.show()"
   ]
  },
  {
   "cell_type": "code",
   "execution_count": null,
   "metadata": {
    "collapsed": false,
    "scrolled": false
   },
   "outputs": [],
   "source": [
    "flights1 = flights_df\n",
    "flights2 = flights1[(flights1['dest']=='SEA')]\n",
    "flights3 = flights2.groupby(['carrier'])['dep_delay'].mean()\n",
    "flights4 = flights1[(flights1['dest']=='SEA') & (flights1['month']==7)]\n",
    "flights5 = flights4.groupby(['carrier'])['dep_delay'].mean()\n",
    "\n",
    "index = np.arange(len(flights3.index.values))\n",
    "plt.bar(index,flights3.values,align='center',alpha = 0.5,color= 'r')\n",
    "plt.xticks(index,flights3.index.values)\n",
    "plt.ylabel(\"Average delay time(mins)\")\n",
    "plt.xlabel(\"Carrier\")\n",
    "plt.title(\"Yearly average delay by carriers from NYC to SEA\")\n",
    "plt.show()\n",
    "\n",
    "index1 = np.arange(len(flights5.index.values))\n",
    "plt.bar(index1,flights5.values,align='center',alpha = 0.5,color= 'g')\n",
    "plt.xticks(index1,flights5.index.values)\n",
    "plt.ylabel(\"Average delay time(mins)\")\n",
    "plt.xlabel(\"Carrier\")\n",
    "plt.title(\"Average delay for carriers from NYC to SEA in July\")\n",
    "plt.show()\n",
    "\n",
    "#print(flights3.head(10))\n",
    "#print(flights3.index)\n",
    "#print(a,b)"
   ]
  },
  {
   "cell_type": "markdown",
   "metadata": {},
   "source": [
    "The research question is to analyze the variation in departure delay from NYC to SEA over the year and for the month of july. The data suggests that for the year 2013, carrier UA had the highest departure delay on the route of NYC to SEA. Also, since departure delay is maximum in the month of July(found earlier in question 2c), it is found that in July, carrier UA is most affected in departure delays as compared to other carriers."
   ]
  },
  {
   "cell_type": "markdown",
   "metadata": {},
   "source": [
    "# does flying distance and time affect arrival delay time?"
   ]
  },
  {
   "cell_type": "code",
   "execution_count": null,
   "metadata": {
    "collapsed": false,
    "scrolled": true
   },
   "outputs": [],
   "source": [
    "import statsmodels.api as sm\n",
    "%matplotlib inline\n",
    "\n",
    "# create a data frame that stores 2 variables: distance and arrival delay\n",
    "dist_delay = flights_df.groupby('distance', as_index = False)['arr_delay'].mean()\n",
    "\n",
    "# plot a scatter plot that takes distance as predictor, and arrival delay as response\n",
    "x = dist_delay.distance\n",
    "y = dist_delay.arr_delay\n",
    "plt.xlabel(\"Distance\")\n",
    "plt.ylabel(\"Average Arrival Delay\")\n",
    "plt.scatter(x, y, alpha=0.4)"
   ]
  },
  {
   "cell_type": "code",
   "execution_count": null,
   "metadata": {
    "collapsed": false,
    "scrolled": true
   },
   "outputs": [],
   "source": [
    "# in the same way, create a data frame that stores 2 variables: air time and arrival delay\n",
    "dist_delay = flights_df.groupby('air_time', as_index = False)['arr_delay'].mean()\n",
    "\n",
    "# plot a scatter plot that takes distance as predictor, and arrival delay as response\n",
    "x = dist_delay.air_time\n",
    "y = dist_delay.arr_delay\n",
    "plt.xlabel(\"Air Time\")\n",
    "plt.ylabel(\"Average Arrival Delay\")\n",
    "plt.scatter(x, y, alpha=0.4)"
   ]
  },
  {
   "cell_type": "markdown",
   "metadata": {},
   "source": [
    "\n",
    "Discussion: from these 2 scatter plots we can see that both flying distance and flying time affect the arrival delay time. As the distance increases, the average arrival delay time gets shorter; for flying time between 300 and 400 minutes, the average arrival delay gets longer with the time; also when flying time exceeds 600 minutes, the arrival delay time increases along with the fly time."
   ]
  },
  {
   "cell_type": "markdown",
   "metadata": {},
   "source": [
    "# Research Question : Which is the best airline in terms of speed, departure and arrival delay for the year 2013 ?\n",
    "We can create heatmaps in order to explore this research question."
   ]
  },
  {
   "cell_type": "code",
   "execution_count": null,
   "metadata": {
    "collapsed": false,
    "scrolled": true
   },
   "outputs": [],
   "source": [
    "import seaborn as sns\n",
    "#creating a grouped dataframe by month & carrier\n",
    "month_carr_df = flights_df.groupby([\"month\",\"carrier\"],as_index = False).mean()\n",
    "\n",
    "#creating a speed pivot table\n",
    "speed_pvt=month_carr_df.pivot(\"carrier\",\"month\",\"speed\")\n",
    "\n",
    "#creating a heatmap\n",
    "sns.heatmap(speed_pvt, annot=True)"
   ]
  },
  {
   "cell_type": "code",
   "execution_count": null,
   "metadata": {
    "collapsed": false,
    "scrolled": true
   },
   "outputs": [],
   "source": [
    "#creating a heat map on dep_delay\n",
    "dep_pvt=month_carr_df.pivot(\"carrier\",\"month\",\"dep_delay\")\n",
    "\n",
    "#creating a heatmap\n",
    "sns.heatmap(dep_pvt, annot=True)"
   ]
  },
  {
   "cell_type": "code",
   "execution_count": null,
   "metadata": {
    "collapsed": false,
    "scrolled": true
   },
   "outputs": [],
   "source": [
    "#creating a pivot table on arr_delay\n",
    "arr_pvt=month_carr_df.pivot(\"carrier\",\"month\",\"arr_delay\")\n",
    "\n",
    "#creating a heatmap\n",
    "sns.heatmap(arr_pvt, annot=True)"
   ]
  },
  {
   "cell_type": "markdown",
   "metadata": {},
   "source": [
    "\n",
    "We can observe that carrier \"F9\" & \"FL\" arrive at their destinations late quite frequently. Carrier \"HA\" performs well again as it arrives at its destination in advance quite frequently. Carrier \"AS\" also does well in this respect."
   ]
  },
  {
   "cell_type": "markdown",
   "metadata": {},
   "source": [
    "### Question: Which of the NYC airports is used most for long-distance flights? What about commuter flights?"
   ]
  },
  {
   "cell_type": "code",
   "execution_count": null,
   "metadata": {
    "collapsed": false,
    "scrolled": false
   },
   "outputs": [],
   "source": [
    "# Group flights_df and apply mean function\n",
    "flight_dist = flights_df.groupby('origin').mean()\n",
    "\n",
    "print flight_dist['distance']\n",
    "\n",
    "# Plot a simple bar chart to see difference in average distance flown from each of the originating airports\n",
    "flight_dist.distance.plot(kind = 'bar')\n",
    "plt.xlabel('Originating Airport')\n",
    "plt.ylabel('Mean Flight Distance')\n",
    "plt.title(r'Average Flight Distance from NYC')\n"
   ]
  },
  {
   "cell_type": "code",
   "execution_count": null,
   "metadata": {
    "collapsed": false,
    "scrolled": true
   },
   "outputs": [],
   "source": [
    "# Create a series containing distance for each of the origin airports by filtering on origin\n",
    "\n",
    "flights_EWR = flights_df['distance'][flights_df['origin']== 'EWR']\n",
    "flights_JFK = flights_df['distance'][flights_df['origin']== 'JFK']\n",
    "flights_LGA = flights_df['distance'][flights_df['origin']== 'LGA']\n",
    "\n",
    "# Plot a histogram for each of the above series, and overlay on same plot to see comparison\n",
    "plt.hist(flights_EWR.values, 50, alpha=0.5, label='EWR')\n",
    "\n",
    "plt.hist(flights_JFK.values, 50, alpha=0.5, label='JFK')\n",
    "\n",
    "plt.hist(flights_LGA.values, 50, alpha=0.5, label='LGA')\n",
    "\n",
    "# Add labels for clarity\n",
    "plt.xlabel('Flight Distance')\n",
    "plt.ylabel('Count')\n",
    "plt.title(r'Histogram Flights Departing NYC')\n",
    "plt.legend(loc='upper right')\n"
   ]
  },
  {
   "cell_type": "markdown",
   "metadata": {},
   "source": [
    "It appears that each airport has a unique flight distance profile. Newark services a wide range of distances, from 100 to > 2500 miles. There is a bimodal distribution, with a cluster of flights around ~750 miles and ~2500 miles. JFK has a similar spread, but with significantly more flights clustered around ~2600 miles. LaGuardia appears to have a more even distribution around ~ 750 miles, with no clustering above 2000 miles. This suggests that JFK is used the most for long range flights. All 3 airports have significant traffic in the < 1000 mile range. LaGuardia has the lowest average flight distance."
   ]
  },
  {
   "cell_type": "markdown",
   "metadata": {},
   "source": [
    "## Question 6\n",
    "What weather conditions are associated with flight delays leaving NYC? Use graphics to explore."
   ]
  },
  {
   "cell_type": "code",
   "execution_count": null,
   "metadata": {
    "collapsed": false,
    "scrolled": true
   },
   "outputs": [],
   "source": [
    "# Load weather data into df\n",
    "weather_df = pd.read_csv('weather.csv')\n",
    "\n",
    "#deleting the \"Unnamed: 0\" column\n",
    "del weather_df[\"Unnamed: 0\"]\n",
    "\n",
    "#viewing the data\n",
    "weather_df.head()"
   ]
  },
  {
   "cell_type": "code",
   "execution_count": null,
   "metadata": {
    "collapsed": false,
    "scrolled": false
   },
   "outputs": [],
   "source": [
    "#grouping by month on mean values and selecting columns\n",
    "delay_df = flights_df.groupby([\"month\"] , as_index = False).mean()[[\"month\",\n",
    "                                                                    \"dep_delay\",\n",
    "                                                                    \"arr_delay\"]]\n",
    "delay_df.head(12)"
   ]
  },
  {
   "cell_type": "code",
   "execution_count": null,
   "metadata": {
    "collapsed": false,
    "scrolled": false
   },
   "outputs": [],
   "source": [
    "#grouping by month on mean values and selecting columns\n",
    "conditions_df = weather_df.groupby([\"month\"], as_index = False).mean()[[\"month\",\"temp\", \"dewp\", \n",
    "                                                                        \"humid\", \"wind_dir\",\"wind_speed\",\"wind_gust\",\n",
    "                                                                        \"precip\",\"pressure\",\"visib\"]]\n",
    "conditions_df.head(12)"
   ]
  },
  {
   "cell_type": "code",
   "execution_count": null,
   "metadata": {
    "collapsed": false,
    "scrolled": false
   },
   "outputs": [],
   "source": [
    "#merging the flight & weather conditions data based on month\n",
    "mean_weather_df = pd.merge(delay_df, conditions_df, on = \"month\")\n",
    "mean_weather_df.head(12)"
   ]
  },
  {
   "cell_type": "code",
   "execution_count": null,
   "metadata": {
    "collapsed": false,
    "scrolled": true
   },
   "outputs": [],
   "source": [
    "\n",
    "#checking the arrival & departure delay patter for the year\n",
    "mean_weather_df.plot(x = \"month\", y =[\"arr_delay\",\"dep_delay\"])"
   ]
  },
  {
   "cell_type": "markdown",
   "metadata": {},
   "source": [
    "Since the pattern is very similar, we check the correlation value as well."
   ]
  },
  {
   "cell_type": "code",
   "execution_count": null,
   "metadata": {
    "collapsed": false,
    "scrolled": true
   },
   "outputs": [],
   "source": [
    "#checking correlation\n",
    "mean_weather_df.corr()[\"arr_delay\"][\"dep_delay\"]"
   ]
  },
  {
   "cell_type": "code",
   "execution_count": null,
   "metadata": {
    "collapsed": false,
    "scrolled": false
   },
   "outputs": [],
   "source": [
    "# import seaborn as sns\n",
    "# sns.set()\n",
    "# df = sns.load_dataset(\"iris\")\n",
    "# sns.pairplot(df, hue=\"species\", size=2.5)\n",
    "\n",
    "\n",
    "import seaborn.linearmodels as sbs\n",
    "sbs.corrplot(mean_weather_df.pct_change(), annot=False, diag_names=False)"
   ]
  },
  {
   "cell_type": "code",
   "execution_count": null,
   "metadata": {
    "collapsed": false,
    "scrolled": false
   },
   "outputs": [],
   "source": [
    "sns.heatmap(mean_weather_df.pct_change(), annot=False)"
   ]
  },
  {
   "cell_type": "markdown",
   "metadata": {},
   "source": [
    "We can see from the correlation matrix that the \"dep_delay\" & \"arr_delay\" have some degree of correlation with \"humid\" and \"dewp\". Therefore, plotting these datapoints across the year below."
   ]
  },
  {
   "cell_type": "code",
   "execution_count": null,
   "metadata": {
    "collapsed": false,
    "scrolled": false
   },
   "outputs": [],
   "source": [
    "#plotting delay Vs humid & dewp for all months\n",
    "mean_weather_df.plot(x = \"month\", y =[\"humid\",\"dep_delay\",\"arr_delay\"])\n",
    "mean_weather_df.plot(x = \"month\", y =[\"dewp\",\"dep_delay\",\"arr_delay\"])"
   ]
  },
  {
   "cell_type": "markdown",
   "metadata": {},
   "source": [
    "We can see that there is an upsurge in both delays after May up until the beginning of September.\n",
    "We can observe a corresponding upsurge during the same time for humidity & dew point. Infact , dew point shows a spike.\n",
    "Overall the humidity & dew point tend to follow a similar pattern like that of the delays, which is also evident from the correlation value."
   ]
  },
  {
   "cell_type": "code",
   "execution_count": null,
   "metadata": {
    "collapsed": true,
    "scrolled": true
   },
   "outputs": [],
   "source": [
    "# //////////////////////////////////////////////////////"
   ]
  },
  {
   "cell_type": "code",
   "execution_count": null,
   "metadata": {
    "collapsed": true,
    "scrolled": true
   },
   "outputs": [],
   "source": [
    "# merge 2 datasets on joined date_hour column\n",
    "flights_df['date_time'] = pd.to_datetime(flights_df[['year', 'month', 'day', 'hour']])\n",
    "weather_df['date_time'] = pd.to_datetime(weather_df[['year', 'month', 'day', 'hour']])\n",
    "new_df = flights_df.merge(weather_df,on='date_time')\n",
    "# new_df.head(10)"
   ]
  },
  {
   "cell_type": "markdown",
   "metadata": {},
   "source": [
    "\n",
    "# 1) Temperature vs. Delay:"
   ]
  },
  {
   "cell_type": "code",
   "execution_count": null,
   "metadata": {
    "collapsed": false,
    "scrolled": false
   },
   "outputs": [],
   "source": [
    "# aggregate average departure delay by temperature\n",
    "temp_delay = new_df.groupby('temp', as_index = False)['dep_delay'].mean()\n",
    "\n",
    "# plot a scatter plot that takes temperature as predictor, and departure delay as response\n",
    "plt.xlabel(\"Temperature\")\n",
    "plt.ylabel(\"Average Departure Delay\")\n",
    "plt.scatter(temp_delay.temp, temp_delay.dep_delay, alpha=0.4)"
   ]
  },
  {
   "cell_type": "markdown",
   "metadata": {},
   "source": [
    "# 2) Humidity vs. Delay:"
   ]
  },
  {
   "cell_type": "code",
   "execution_count": null,
   "metadata": {
    "collapsed": false,
    "scrolled": false
   },
   "outputs": [],
   "source": [
    "\n",
    "# aggregate average departure delay by humidity\n",
    "humid_delay = new_df.groupby('humid', as_index = False)['dep_delay'].mean()\n",
    "\n",
    "# plot a scatter plot that takes humidity as predictor, and departure delay as response\n",
    "plt.xlabel(\"Humidity\")\n",
    "plt.ylabel(\"Average Departure Delay\")\n",
    "plt.scatter(humid_delay.humid, humid_delay.dep_delay, alpha=0.4)"
   ]
  },
  {
   "cell_type": "markdown",
   "metadata": {},
   "source": [
    "  # 3) Wind Direction vs. Delay:"
   ]
  },
  {
   "cell_type": "code",
   "execution_count": null,
   "metadata": {
    "collapsed": false,
    "scrolled": false
   },
   "outputs": [],
   "source": [
    "\n",
    "# aggregate average departure delay by wind direction \n",
    "dir_delay = new_df.groupby('wind_dir', as_index = False)['dep_delay'].mean()\n",
    "\n",
    "# plot a scatter plot that takes wind direction as predictor, and departure delay as response\n",
    "plt.xlabel(\"Wind Direction\")\n",
    "plt.ylabel(\"Average Departure Delay\")\n",
    "plt.scatter(dir_delay.wind_dir, dir_delay.dep_delay, alpha=0.4)"
   ]
  },
  {
   "cell_type": "markdown",
   "metadata": {},
   "source": [
    "\n",
    "# 4) Wind Speed vs. Delay:"
   ]
  },
  {
   "cell_type": "code",
   "execution_count": null,
   "metadata": {
    "collapsed": false,
    "scrolled": false
   },
   "outputs": [],
   "source": [
    "# aggregate average departure delay by wind speed \n",
    "speed_delay = new_df.groupby('wind_speed', as_index = False)['dep_delay'].mean()\n",
    "\n",
    "# plot a scatter plot that takes wind speed as predictor, and departure delay as response\n",
    "plt.xlabel(\"Wind Speed\")\n",
    "plt.ylabel(\"Average Departure Delay\")\n",
    "plt.scatter(speed_delay.wind_speed, speed_delay.dep_delay, alpha=0.4)\n",
    "\n",
    "# filter out out-liers\n",
    "plt.xlim(-3,45)"
   ]
  },
  {
   "cell_type": "markdown",
   "metadata": {},
   "source": [
    "# 5) Wind Gust vs. Delay:"
   ]
  },
  {
   "cell_type": "code",
   "execution_count": null,
   "metadata": {
    "collapsed": true,
    "scrolled": true
   },
   "outputs": [],
   "source": [
    "# aggregate average departure delay by wind gust\n",
    "gust_delay = new_df.groupby('wind_gust', as_index = False)['dep_delay'].mean()\n",
    "\n",
    "# plot a scatter plot that takes wind gust as predictor, and departure delay as response\n",
    "plt.xlabel(\"Wind Gust\")\n",
    "plt.ylabel(\"Average Departure Delay\")\n",
    "plt.scatter(gust_delay.wind_gust, gust_delay.dep_delay, alpha=0.4)\n",
    "\n",
    "# filter out out-liers\n",
    "plt.xlim(-3,50)"
   ]
  },
  {
   "cell_type": "markdown",
   "metadata": {},
   "source": [
    "# 6) Pressure vs. Delay:"
   ]
  },
  {
   "cell_type": "code",
   "execution_count": null,
   "metadata": {
    "collapsed": false,
    "scrolled": false
   },
   "outputs": [],
   "source": [
    "# aggregate average departure delay by pressure\n",
    "pre_delay = new_df.groupby('pressure', as_index = False)['dep_delay'].mean()\n",
    "\n",
    "# plot a scatter plot that takes the pressure as predictor, and departure delay as response\n",
    "plt.xlabel(\"Pressure\")\n",
    "plt.ylabel(\"Average Departure Delay\")\n",
    "plt.scatter(pre_delay.pressure, pre_delay.dep_delay, alpha=0.4)\n",
    "\n",
    "# filter out out-liers\n",
    "plt.ylim(-15,130)"
   ]
  },
  {
   "cell_type": "markdown",
   "metadata": {},
   "source": [
    "# 7) Precipitation vs. Delay"
   ]
  },
  {
   "cell_type": "code",
   "execution_count": null,
   "metadata": {
    "collapsed": false,
    "scrolled": false
   },
   "outputs": [],
   "source": [
    "# aggregate average departure delay by precipitation\n",
    "precip_delay = new_df.groupby('precip', as_index = False)['dep_delay'].mean()\n",
    "\n",
    "# plot a scatter plot that takes the precipitation as predictor, and departure delay as response\n",
    "plt.xlabel(\"Precipitation\")\n",
    "plt.ylabel(\"Average Departure Delay\")\n",
    "plt.scatter(precip_delay.precip, precip_delay.dep_delay, alpha=0.4)\n",
    "\n",
    "# filter out out-liers\n",
    "plt.xlim(-0.01,0.5)"
   ]
  },
  {
   "cell_type": "markdown",
   "metadata": {},
   "source": [
    "# 8) Visibility vs. Delay:"
   ]
  },
  {
   "cell_type": "code",
   "execution_count": null,
   "metadata": {
    "collapsed": false,
    "scrolled": false
   },
   "outputs": [],
   "source": [
    "# aggregate average departure delay by visibility\n",
    "visib_delay = new_df.groupby('visib', as_index = False)['dep_delay'].mean()\n",
    "\n",
    "# plot a scatter plot that takes visibility as predictor, and departure delay as response\n",
    "plt.xlabel(\"Visibility\")\n",
    "plt.ylabel(\"Average Departure Delay\")\n",
    "plt.scatter(visib_delay.visib, visib_delay.dep_delay, alpha=0.4)"
   ]
  },
  {
   "cell_type": "markdown",
   "metadata": {},
   "source": [
    "\n",
    "Interpretation: from the graphs we can see that overall, temperature, wind speed and wind gust are likely to have a positive effect on the average departure delay. Pressure and visibility are likely to have negative effect on the average departure delay time. wind direction has a positive effect when it's below about 130; and has a negative effect over that number. For humidity and precipitation, I don't see an obvious association from the graph."
   ]
  },
  {
   "cell_type": "code",
   "execution_count": null,
   "metadata": {
    "collapsed": true,
    "scrolled": true
   },
   "outputs": [],
   "source": [
    "# /////////////////////////////////////////////////////"
   ]
  },
  {
   "cell_type": "code",
   "execution_count": null,
   "metadata": {
    "collapsed": false,
    "scrolled": true
   },
   "outputs": [],
   "source": [
    "\n",
    "\n",
    "weather_df= pd.read_csv('weather.csv')\n",
    "flight_weather_df = pd.merge(flights_df,weather_df,on=['year','month','day','origin','hour'],how=\"inner\")\n",
    "fw1 = flight_weather_df.loc[(flight_weather_df.dep_delay > 0),[\"month\",\"day\",'hour',\"dep_delay\",'visib','temp','dewp','humid','wind_dir','wind_speed','wind_gust','precip','pressure']]\n",
    "fw2 = fw1.groupby(['month'])['dep_delay','visib','temp','dewp','humid','wind_speed','wind_gust','precip','pressure'].mean()"
   ]
  },
  {
   "cell_type": "code",
   "execution_count": null,
   "metadata": {
    "collapsed": false,
    "scrolled": false
   },
   "outputs": [],
   "source": [
    "\n",
    "sns.pairplot(fw2)\n",
    "sns.plt.show()"
   ]
  },
  {
   "cell_type": "code",
   "execution_count": null,
   "metadata": {
    "collapsed": true,
    "scrolled": true
   },
   "outputs": [],
   "source": [
    "# //////////////////////////////////////////////"
   ]
  },
  {
   "cell_type": "code",
   "execution_count": null,
   "metadata": {
    "collapsed": true,
    "scrolled": true
   },
   "outputs": [],
   "source": [
    "#merging above two data frames using variables year,month and day\n",
    "merged = pd.merge(flights_df,weather_df, on=['year','month','day'],how='inner')\n",
    "\n",
    "#slecting relevant columns from the merged dataset\n",
    "merged = merged[['month','day','dep_delay','temp','humid','wind_dir']]\n",
    "#discarding all NAs(missing values) from the merged dataset\n",
    "merged.dropna(subset = ['dep_delay','temp','humid','wind_dir'])\n",
    "\n",
    "#calculating average monthly temperature\n",
    "avg_temp = pd.DataFrame(merged.groupby('month')['temp'].mean())\n",
    "#calculating average monthly departure delay\n",
    "avg_dep_delay = pd.DataFrame(merged.groupby('month')['dep_delay'].mean())"
   ]
  },
  {
   "cell_type": "code",
   "execution_count": null,
   "metadata": {
    "collapsed": false,
    "scrolled": false
   },
   "outputs": [],
   "source": [
    "\n",
    "#assigning X as the mean monthly temperature\n",
    "X = avg_temp['temp']\n",
    "#assigning Y as the mean monthly departure delay\n",
    "Y = avg_dep_delay['dep_delay']\n",
    "\n",
    "#plotting a scatterplot of the values\n",
    "plt.scatter(X,Y,alpha=0.5, color='red')\n",
    "plt.xlabel('Mean monthly temperature')\n",
    "plt.ylabel('Mean monthly departure delay')\n",
    "plt.title('Association between avg monthly temp and avg departure delay')\n",
    "plt.show()"
   ]
  },
  {
   "cell_type": "markdown",
   "metadata": {},
   "source": [
    "Ans: Interpretation: The above scatterplot shows that with increase in average monthly temperature, the aveguare monthly depature of flights increase in an overall fashion, so summer months might account for more delays. While we see that, this could be unexpected as weather conditions like snow or rains during winter would have been more influential in delayed flights status. However, this observation is based off of only one year's (2013) worth of data."
   ]
  },
  {
   "cell_type": "code",
   "execution_count": null,
   "metadata": {
    "collapsed": true,
    "scrolled": true
   },
   "outputs": [],
   "source": [
    "# /////////////////////////////////////////////////////////"
   ]
  },
  {
   "cell_type": "code",
   "execution_count": null,
   "metadata": {
    "collapsed": false,
    "scrolled": true
   },
   "outputs": [],
   "source": []
  },
  {
   "cell_type": "code",
   "execution_count": null,
   "metadata": {
    "collapsed": false,
    "scrolled": false
   },
   "outputs": [],
   "source": [
    "# Used weather dataset from R package \"nycflights13\". Assumes file \"weather.csv\" is in working dir.\n",
    "# Reference: https://cran.r-project.org/web/packages/nycflights13/index.html\n",
    "\n",
    "# Load weather data into df\n",
    "weather_df = pd.read_csv('weather.csv')\n",
    "\n",
    "# View dataset datatypes\n",
    "print weather_df.dtypes\n",
    "\n",
    "# Look for missing date records\n",
    "print weather_df[np.isnan(weather_df['month'])]\n",
    "\n",
    "# Remove missing date records so we can create datetime column \n",
    "for col in ['year', 'month', 'day']:\n",
    "    weather_df = weather_df[weather_df[col].notnull()]\n",
    "\n",
    "# Check to see if NaNs remain\n",
    "print weather_df[np.isnan(weather_df['month'])]\n",
    "\n",
    "# Create date column to join with flights_df date column\n",
    "\n",
    "weather_df['date'] = pd.to_datetime(weather_df['year'] * 10000 + weather_df['month'].astype(int) * 100 + weather_df['day'].astype(int), format = '%Y%m%d')\n",
    "\n",
    "# Merge flights_df and weather_df datasets for analysis. Use 'date' and 'hour' fields as keys\n",
    "flight_weather = pd.merge(flights_df[flights_df['dep_delay'] > 0], weather_df, how='inner', on=['date', 'hour'])\n",
    "\n"
   ]
  },
  {
   "cell_type": "code",
   "execution_count": null,
   "metadata": {
    "collapsed": false,
    "scrolled": true
   },
   "outputs": [],
   "source": [
    "# Look at wind_speed variable\n",
    "flight_weather.wind_speed.describe()\n",
    "\n",
    "# Eliminate high outlier record\n",
    "flight_weather = flight_weather[flight_weather.wind_speed != flight_weather.wind_speed.max()]\n",
    "\n",
    "# Re-check wind_speed variable \n",
    "flight_weather.wind_speed.describe()"
   ]
  },
  {
   "cell_type": "code",
   "execution_count": null,
   "metadata": {
    "collapsed": false,
    "scrolled": false
   },
   "outputs": [],
   "source": [
    "# Round temp and wind_speed values so we can group on them\n",
    "flight_weather.temp = np.round(flight_weather.temp, 0)\n",
    "flight_weather.wind_speed = np.round(flight_weather.wind_speed, 0)\n",
    "# For each of 4 variables of interest (temp, wind speed, precip, visib):\n",
    "# group by the variable, average the dep_delay, run a OLS regression, scatterplot the results\n",
    "\n",
    "for i in ['temp', 'wind_speed', 'precip', 'visib']:\n",
    "    y = flight_weather.groupby(i)['dep_delay'].mean()\n",
    "    x = y.index\n",
    "    results = sm.OLS(y, x).fit()\n",
    "    print results.summary()\n",
    "    plt.figure()\n",
    "    plt.plot(x,y,'bo')\n",
    "    plt.show()"
   ]
  },
  {
   "cell_type": "markdown",
   "metadata": {},
   "source": [
    "Weather appears to have an effect on the average length of flight delays. Looking at each of Temperature, Wind Speed, Precipitation, and Visibility (the four weather measurements I selected as most interesting to analyze), we see some  relationships. Temperature has a strong relationship with departure delay length, evidenced by a visible linear pattern and a high R-squared value. In this simple linear model, temp explains 89% of the variation in dep_delay. Interestingly, the relationship is positive - higher temperature correlates with higher average delays. This is somewhat surprising, as this analyst would have expected cold temperatures to produce long delays. Wind_speed also appears to have an effect on delay length, though the pattern is not as strong. The R-squared is .79. Precipitation does not appear to be strongly related to departure delay. Visibility shows a relationship with departure delay. As expected, very low visibilities are associated with higher departure delays. For visibility >= 3 miles, there does not appear to be a significant effect on departure delay, as the line is relatively flat."
   ]
  },
  {
   "cell_type": "code",
   "execution_count": null,
   "metadata": {
    "collapsed": true,
    "scrolled": true
   },
   "outputs": [],
   "source": []
  },
  {
   "cell_type": "code",
   "execution_count": null,
   "metadata": {
    "collapsed": false,
    "scrolled": true
   },
   "outputs": [],
   "source": [
    "\n"
   ]
  },
  {
   "cell_type": "code",
   "execution_count": null,
   "metadata": {
    "collapsed": true,
    "scrolled": true
   },
   "outputs": [],
   "source": []
  },
  {
   "cell_type": "code",
   "execution_count": null,
   "metadata": {
    "collapsed": false,
    "scrolled": true
   },
   "outputs": [],
   "source": [
    "\n"
   ]
  },
  {
   "cell_type": "code",
   "execution_count": null,
   "metadata": {
    "collapsed": true,
    "scrolled": true
   },
   "outputs": [],
   "source": []
  },
  {
   "cell_type": "code",
   "execution_count": null,
   "metadata": {
    "collapsed": false,
    "scrolled": true
   },
   "outputs": [],
   "source": []
  },
  {
   "cell_type": "code",
   "execution_count": null,
   "metadata": {
    "collapsed": false,
    "scrolled": true
   },
   "outputs": [],
   "source": []
  },
  {
   "cell_type": "code",
   "execution_count": null,
   "metadata": {
    "collapsed": false,
    "scrolled": true
   },
   "outputs": [],
   "source": []
  },
  {
   "cell_type": "code",
   "execution_count": null,
   "metadata": {
    "collapsed": false,
    "scrolled": true
   },
   "outputs": [],
   "source": []
  },
  {
   "cell_type": "code",
   "execution_count": null,
   "metadata": {
    "collapsed": true,
    "scrolled": true
   },
   "outputs": [],
   "source": []
  },
  {
   "cell_type": "code",
   "execution_count": null,
   "metadata": {
    "collapsed": true,
    "scrolled": true
   },
   "outputs": [],
   "source": []
  },
  {
   "cell_type": "code",
   "execution_count": null,
   "metadata": {
    "collapsed": false,
    "scrolled": true
   },
   "outputs": [],
   "source": []
  },
  {
   "cell_type": "code",
   "execution_count": null,
   "metadata": {
    "collapsed": false,
    "scrolled": true
   },
   "outputs": [],
   "source": []
  },
  {
   "cell_type": "code",
   "execution_count": null,
   "metadata": {
    "collapsed": false,
    "scrolled": true
   },
   "outputs": [],
   "source": []
  },
  {
   "cell_type": "code",
   "execution_count": null,
   "metadata": {
    "collapsed": true,
    "scrolled": true
   },
   "outputs": [],
   "source": []
  },
  {
   "cell_type": "code",
   "execution_count": null,
   "metadata": {
    "collapsed": true,
    "scrolled": true
   },
   "outputs": [],
   "source": []
  },
  {
   "cell_type": "code",
   "execution_count": null,
   "metadata": {
    "collapsed": false,
    "scrolled": true
   },
   "outputs": [],
   "source": []
  },
  {
   "cell_type": "code",
   "execution_count": null,
   "metadata": {
    "collapsed": false,
    "scrolled": true
   },
   "outputs": [],
   "source": []
  },
  {
   "cell_type": "code",
   "execution_count": null,
   "metadata": {
    "collapsed": true,
    "scrolled": true
   },
   "outputs": [],
   "source": []
  },
  {
   "cell_type": "code",
   "execution_count": null,
   "metadata": {
    "collapsed": false,
    "scrolled": true
   },
   "outputs": [],
   "source": []
  },
  {
   "cell_type": "code",
   "execution_count": null,
   "metadata": {
    "collapsed": false,
    "scrolled": true
   },
   "outputs": [],
   "source": []
  },
  {
   "cell_type": "code",
   "execution_count": null,
   "metadata": {
    "collapsed": true,
    "scrolled": true
   },
   "outputs": [],
   "source": []
  }
 ],
 "metadata": {
  "kernelspec": {
   "display_name": "Python 2",
   "language": "python",
   "name": "python2"
  },
  "language_info": {
   "codemirror_mode": {
    "name": "ipython",
    "version": 2
   },
   "file_extension": ".py",
   "mimetype": "text/x-python",
   "name": "python",
   "nbconvert_exporter": "python",
   "pygments_lexer": "ipython2",
   "version": "2.7.13"
  }
 },
 "nbformat": 4,
 "nbformat_minor": 2
}
