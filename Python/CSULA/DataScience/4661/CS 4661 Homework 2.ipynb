{
 "cells": [
  {
   "cell_type": "markdown",
   "metadata": {},
   "source": [
    "a- Read\tthe\tiris\tdataset\tfrom\tthe\tfollowing\tURL:\t\n",
    "'https://raw.githubusercontent.com/mpourhoma/CS4661/master/iris.csv'\t\t\t\n",
    "and\tassign\tit\tto\ta\tPandas\tDataFrame\tas\tyou\tlearned\tin\ttutorial\tLab2-3.\t"
   ]
  },
  {
   "cell_type": "code",
   "execution_count": 80,
   "metadata": {
    "collapsed": true
   },
   "outputs": [],
   "source": [
    "from sklearn.datasets import load_iris \n",
    "from sklearn.neighbors import KNeighborsClassifier\n",
    "from sklearn.cross_validation import train_test_split\n",
    "from sklearn.metrics import accuracy_score \n",
    "import pandas as pd\n",
    "df = pd.DataFrame()\n",
    "iris_df = pd.read_csv('https://raw.githubusercontent.com/mpourhoma/CS4661/master/iris.csv')\n"
   ]
  },
  {
   "cell_type": "markdown",
   "metadata": {},
   "source": [
    "b- Split\t the\t dataset\t into\t testing\t and\t training\t sets\t with\t the\t following\t parameters:\t\n",
    "test_size=0.4,\trandom_state=1\t"
   ]
  },
  {
   "cell_type": "code",
   "execution_count": 81,
   "metadata": {
    "collapsed": false
   },
   "outputs": [],
   "source": [
    "iris = load_iris()\n",
    "X= iris.data\n",
    "y=iris.target\n",
    "X_train, X_test,y_train,y_test = train_test_split(X, y, test_size=0.4, random_state=1)\n",
    "\n"
   ]
  },
  {
   "cell_type": "markdown",
   "metadata": {},
   "source": [
    "c- Instantiate\ta\tKNN\tobject\twith\tK=3,\ttrain\tit\ton\tthe\ttraining\tset\tand\ttest\tit\ton\tthe\ttesting\tset.\t\n",
    "Then,\tcalculate\tthe\taccuracy\tof\tyour\tprediction\tas\tyou\tlearned\tin\tLab3."
   ]
  },
  {
   "cell_type": "code",
   "execution_count": 82,
   "metadata": {
    "collapsed": false
   },
   "outputs": [
    {
     "name": "stdout",
     "output_type": "stream",
     "text": [
      "0.8\n"
     ]
    }
   ],
   "source": [
    "K=3\n",
    "knn = KNeighborsClassifier(n_neighbors=K)\n",
    "knn.fit(X_train, y_train)\n",
    "y_predict = knn.predict(X_test)\n",
    "accuracy = accuracy_score(y_test, y_predict)\n",
    "\n",
    "print(score)"
   ]
  },
  {
   "cell_type": "markdown",
   "metadata": {},
   "source": [
    "d- Repeat\tpart\t(c)\t\tfor\tK=1,\tK=5,\tK=7,\tK=15,\tK=28,\tK=60\t(you\tcan\tsimply\twrite\ta\t“for\tloop”\ton\t\n",
    "a\tlist\twith\tthese\tvalues\tto\trepeat\tthe\tprocess\tfor\tyou,\tand\tsave\tthe\tfinal\taccuracy\tresults\t\n",
    "in\ta\tlist\t(array)!).\tDoes\tthe\taccuracy\talways\tget\tbetter\tby\tincreasing\tK?\t\t"
   ]
  },
  {
   "cell_type": "code",
   "execution_count": 84,
   "metadata": {
    "collapsed": false
   },
   "outputs": [
    {
     "name": "stdout",
     "output_type": "stream",
     "text": [
      "[0.96666666666666667, 0.98333333333333328, 0.98333333333333328, 0.98333333333333328, 0.94999999999999996, 0.80000000000000004]\n"
     ]
    }
   ],
   "source": [
    "X_train, X_test,y_train,y_test = train_test_split(X, y, test_size=0.4, random_state=1)    \n",
    "kList = [1, 5, 7, 15, 28, 60]\n",
    "accuracyList=[]\n",
    "for k in kList:\n",
    "    knn= KNeighborsClassifier(n_neighbors=k)\n",
    "    knn.fit(X_train, y_train)\n",
    "    y_predict = knn.predict(X_test)\n",
    "    accuracy = accuracy_score(y_test, y_predict)\n",
    "    accuracyList.append(accuracy)\n",
    "    \n",
    "print(accuracyList)"
   ]
  },
  {
   "cell_type": "markdown",
   "metadata": {},
   "source": [
    "Does the accuracy always get better by increasing K? \n",
    "\n",
    "### It does not look like it's getting better when K=60 its 0.80000000000000004 and  K = 5 is 0.98333333333333328"
   ]
  },
  {
   "cell_type": "markdown",
   "metadata": {},
   "source": [
    "e- Now,\tsuppose\tthat\twe\twould\tlike\tto\tmake\tprediction\tbased\ton\tonly\tONE\tsingle\tfeature.\t\n",
    "To\tfind\tthe\tbest\tsingle\tfeature,\twe\thave\tto\ttry\tevery\tfeature\tindividually.\tIn\tother\tword,\t\n",
    "we\t have\t to\t repeat\t part\t (c)\t 4\t times\t (each\t time\t using\t only\t one\t of\t the\t 4\t features),\t and\t\n",
    "compute\tthe\taccuracy\teach\ttime.\tThen,\tcheck\tthe\taccuracies.\tWhich\tindividual\tfeature\t\n",
    "provide\t the\t best\t accuracy\t (the\t best\t feature)?\t \t Which\t one\t is\t the\t second\t best\t feature?\t\n",
    "(Note:\tyou\thave\tto\ttrain,\ttest,\tand\tevaluate\tyour\tmodel\t4\ttimes,\teach\ttime\ton\ta\tdataset\t\n",
    "including\tonly\tone\tof\tthe\tfeatures.\tYou\tmay\twant\tto\twrite\ta\t“for\tloop”\tto\tgenerate\tthe\t\n",
    "datasets,\ttrain,\ttest,\tand\tcompute\tthe\taccuracy\teach\ttime,\tand\tsave\tthe\tfinal\taccuracy\t\n",
    "results\tin\ta\tlist).\t"
   ]
  },
  {
   "cell_type": "code",
   "execution_count": 85,
   "metadata": {
    "collapsed": false
   },
   "outputs": [
    {
     "data": {
      "text/html": [
       "<div>\n",
       "<table border=\"1\" class=\"dataframe\">\n",
       "  <thead>\n",
       "    <tr style=\"text-align: right;\">\n",
       "      <th></th>\n",
       "      <th>sepal_length</th>\n",
       "      <th>sepal_width</th>\n",
       "      <th>petal_length</th>\n",
       "      <th>petal_width</th>\n",
       "      <th>species</th>\n",
       "      <th>label</th>\n",
       "    </tr>\n",
       "  </thead>\n",
       "  <tbody>\n",
       "    <tr>\n",
       "      <th>0</th>\n",
       "      <td>5.1</td>\n",
       "      <td>3.5</td>\n",
       "      <td>1.4</td>\n",
       "      <td>0.2</td>\n",
       "      <td>setosa</td>\n",
       "      <td>0</td>\n",
       "    </tr>\n",
       "    <tr>\n",
       "      <th>10</th>\n",
       "      <td>5.4</td>\n",
       "      <td>3.7</td>\n",
       "      <td>1.5</td>\n",
       "      <td>0.2</td>\n",
       "      <td>setosa</td>\n",
       "      <td>0</td>\n",
       "    </tr>\n",
       "    <tr>\n",
       "      <th>20</th>\n",
       "      <td>5.4</td>\n",
       "      <td>3.4</td>\n",
       "      <td>1.7</td>\n",
       "      <td>0.2</td>\n",
       "      <td>setosa</td>\n",
       "      <td>0</td>\n",
       "    </tr>\n",
       "    <tr>\n",
       "      <th>30</th>\n",
       "      <td>4.8</td>\n",
       "      <td>3.1</td>\n",
       "      <td>1.6</td>\n",
       "      <td>0.2</td>\n",
       "      <td>setosa</td>\n",
       "      <td>0</td>\n",
       "    </tr>\n",
       "    <tr>\n",
       "      <th>40</th>\n",
       "      <td>5.0</td>\n",
       "      <td>3.5</td>\n",
       "      <td>1.3</td>\n",
       "      <td>0.3</td>\n",
       "      <td>setosa</td>\n",
       "      <td>0</td>\n",
       "    </tr>\n",
       "    <tr>\n",
       "      <th>50</th>\n",
       "      <td>7.0</td>\n",
       "      <td>3.2</td>\n",
       "      <td>4.7</td>\n",
       "      <td>1.4</td>\n",
       "      <td>versicolor</td>\n",
       "      <td>1</td>\n",
       "    </tr>\n",
       "    <tr>\n",
       "      <th>60</th>\n",
       "      <td>5.0</td>\n",
       "      <td>2.0</td>\n",
       "      <td>3.5</td>\n",
       "      <td>1.0</td>\n",
       "      <td>versicolor</td>\n",
       "      <td>1</td>\n",
       "    </tr>\n",
       "    <tr>\n",
       "      <th>70</th>\n",
       "      <td>5.9</td>\n",
       "      <td>3.2</td>\n",
       "      <td>4.8</td>\n",
       "      <td>1.8</td>\n",
       "      <td>versicolor</td>\n",
       "      <td>1</td>\n",
       "    </tr>\n",
       "    <tr>\n",
       "      <th>80</th>\n",
       "      <td>5.5</td>\n",
       "      <td>2.4</td>\n",
       "      <td>3.8</td>\n",
       "      <td>1.1</td>\n",
       "      <td>versicolor</td>\n",
       "      <td>1</td>\n",
       "    </tr>\n",
       "    <tr>\n",
       "      <th>90</th>\n",
       "      <td>5.5</td>\n",
       "      <td>2.6</td>\n",
       "      <td>4.4</td>\n",
       "      <td>1.2</td>\n",
       "      <td>versicolor</td>\n",
       "      <td>1</td>\n",
       "    </tr>\n",
       "    <tr>\n",
       "      <th>100</th>\n",
       "      <td>6.3</td>\n",
       "      <td>3.3</td>\n",
       "      <td>6.0</td>\n",
       "      <td>2.5</td>\n",
       "      <td>virginica</td>\n",
       "      <td>2</td>\n",
       "    </tr>\n",
       "    <tr>\n",
       "      <th>110</th>\n",
       "      <td>6.5</td>\n",
       "      <td>3.2</td>\n",
       "      <td>5.1</td>\n",
       "      <td>2.0</td>\n",
       "      <td>virginica</td>\n",
       "      <td>2</td>\n",
       "    </tr>\n",
       "    <tr>\n",
       "      <th>120</th>\n",
       "      <td>6.9</td>\n",
       "      <td>3.2</td>\n",
       "      <td>5.7</td>\n",
       "      <td>2.3</td>\n",
       "      <td>virginica</td>\n",
       "      <td>2</td>\n",
       "    </tr>\n",
       "    <tr>\n",
       "      <th>130</th>\n",
       "      <td>7.4</td>\n",
       "      <td>2.8</td>\n",
       "      <td>6.1</td>\n",
       "      <td>1.9</td>\n",
       "      <td>virginica</td>\n",
       "      <td>2</td>\n",
       "    </tr>\n",
       "    <tr>\n",
       "      <th>140</th>\n",
       "      <td>6.7</td>\n",
       "      <td>3.1</td>\n",
       "      <td>5.6</td>\n",
       "      <td>2.4</td>\n",
       "      <td>virginica</td>\n",
       "      <td>2</td>\n",
       "    </tr>\n",
       "  </tbody>\n",
       "</table>\n",
       "</div>"
      ],
      "text/plain": [
       "     sepal_length  sepal_width  petal_length  petal_width     species  label\n",
       "0             5.1          3.5           1.4          0.2      setosa      0\n",
       "10            5.4          3.7           1.5          0.2      setosa      0\n",
       "20            5.4          3.4           1.7          0.2      setosa      0\n",
       "30            4.8          3.1           1.6          0.2      setosa      0\n",
       "40            5.0          3.5           1.3          0.3      setosa      0\n",
       "50            7.0          3.2           4.7          1.4  versicolor      1\n",
       "60            5.0          2.0           3.5          1.0  versicolor      1\n",
       "70            5.9          3.2           4.8          1.8  versicolor      1\n",
       "80            5.5          2.4           3.8          1.1  versicolor      1\n",
       "90            5.5          2.6           4.4          1.2  versicolor      1\n",
       "100           6.3          3.3           6.0          2.5   virginica      2\n",
       "110           6.5          3.2           5.1          2.0   virginica      2\n",
       "120           6.9          3.2           5.7          2.3   virginica      2\n",
       "130           7.4          2.8           6.1          1.9   virginica      2\n",
       "140           6.7          3.1           5.6          2.4   virginica      2"
      ]
     },
     "execution_count": 85,
     "metadata": {},
     "output_type": "execute_result"
    }
   ],
   "source": [
    "def categorical_to_numeric(x):\n",
    "    if x == 'setosa':\n",
    "        return 0\n",
    "    elif x == 'versicolor':\n",
    "        return 1\n",
    "    elif x == 'virginica':\n",
    "        return 2\n",
    "    \n",
    "\n",
    "iris_df['label'] = iris_df['species'].apply(categorical_to_numeric)\n",
    "\n",
    "iris_df[0::10]\n",
    "\n"
   ]
  },
  {
   "cell_type": "markdown",
   "metadata": {},
   "source": [
    "f- Now,\twe\twant\tto\trepeat\tpart\t(e),\tthis\ttime\tusing\ttwo\tfeatures.\tyou\thave\tto\ttrain,\ttest,\tand\t\n",
    "evaluate\t your\t model\t for\t 6\t different\t cases:\t using\t (1 st \t and\t 2 nd \t features),\t (1 st \t and\t 3 rd \t\t\n",
    "features),\t(1 st \tand\t4 th \t\tfeatures),\t(2 nd \t\tand\t3 rd \t\tfeatures),\t(2 nd \tand\t4 th \tfeatures),\t(3 rd \tand\t4 th \t\t\n",
    "features)!\t\t\t\t\t\t\t\t\t\t\t\t\t\t\t\t\t\t\t\t\t\t\t\t\t\t\t\t\t\t\t\t\t\t\t\t\t\t\t\t\t\t\t\t\n",
    "Which “feature\tpair”\tprovide\tthe\tbest\taccuracy?\t"
   ]
  },
  {
   "cell_type": "code",
   "execution_count": null,
   "metadata": {
    "collapsed": true
   },
   "outputs": [],
   "source": []
  },
  {
   "cell_type": "markdown",
   "metadata": {},
   "source": [
    "g- Big\tQuestion:\tDoes\tthe\t“best\tfeature\tpair”\tfrom\tpart\t(f)\tcontain\tof\tboth\t“first\tbest\tfeature”\t\n",
    "and\t“second\tbest\tfeature”\tfrom\tpart\t(e)?\t\tIn\tother\tword,\tcan\twe\tconclude\tthat\tthe\t“best\t\n",
    "two\tfeatures”\tfor\tclassification\tare\tthe\t“first\tbest\tindividual\tfeature”\tand\tthe\t“second\tbest\t\n",
    "individual\tfeature”\ttogether?\t"
   ]
  },
  {
   "cell_type": "code",
   "execution_count": null,
   "metadata": {
    "collapsed": true
   },
   "outputs": [],
   "source": []
  },
  {
   "cell_type": "markdown",
   "metadata": {},
   "source": [
    "h- Optional\tQuestion:\tJustify\tyour\tanswer\tto\tpart\t(g)!\t\tIf\tyes,\twhy?\t\tIf\tno,\twhy\tnot?\t"
   ]
  },
  {
   "cell_type": "code",
   "execution_count": null,
   "metadata": {
    "collapsed": true
   },
   "outputs": [],
   "source": []
  }
 ],
 "metadata": {
  "kernelspec": {
   "display_name": "Python 2",
   "language": "python",
   "name": "python2"
  },
  "language_info": {
   "codemirror_mode": {
    "name": "ipython",
    "version": 2
   },
   "file_extension": ".py",
   "mimetype": "text/x-python",
   "name": "python",
   "nbconvert_exporter": "python",
   "pygments_lexer": "ipython2",
   "version": "2.7.13"
  }
 },
 "nbformat": 4,
 "nbformat_minor": 2
}
