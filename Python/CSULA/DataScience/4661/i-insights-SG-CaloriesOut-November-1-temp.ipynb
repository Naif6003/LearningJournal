{
 "cells": [
  {
   "cell_type": "code",
   "execution_count": 1,
   "metadata": {
    "collapsed": true
   },
   "outputs": [],
   "source": [
    "# import numpy as np\n",
    "# import pandas as pd\n",
    "# import json\n",
    "# import matplotlib.pyplot as plt\n",
    "# from datetime import datetime, timedelta\n",
    "\n",
    "\n",
    "\n",
    "# from models.ActivityTimeSeries import ActivityTimeSeries\n",
    "# from models.CGMData import CGMData\n",
    "# from models.HRTimeSeries import HRTimeSeries\n",
    "# from models.ActivityDistance import ActivityDistance\n",
    "# from models.ActivitySummary import ActivitySummary\n",
    "# from models.ActivityLog import ActivityLog\n",
    "# from models.BodyMetrics import BodyMetrics\n",
    "# from models.HRSummary import HRSummary\n",
    "# from models.HRZone import HRZone\n",
    "# from models.Age_Sex_YearsOnInsulin_AgeOnSet_Diagnosis import Age_Sex_YearsOnInsulin_AgeOnSet_Diagnosis\n",
    "\n",
    "# from utils.TS_DataFrame_Two_Columns import TS_DataFrame_Two_Columns\n",
    "\n",
    "# from utils.utils import matlabdt_converter, single_element_array, dateformat_tostring\n",
    "\n",
    "\n",
    "def create_time_intervals(listCdtDate, listC ):    \n",
    "    listTime = []\n",
    "    listMean = []\n",
    "    listTemp = []\n",
    "    \n",
    "    p = 0\n",
    "    l=0\n",
    "    for i in range(0, len(listCdtDate)):\n",
    "        if(listCdtDate[i].minute == p):\n",
    "            listTime.append(listCdtDate[i])\n",
    "            listMean.append(np.mean(listTemp))\n",
    "            listTemp = []\n",
    "            p = p+30\n",
    "            if(p ==60):\n",
    "                p=0\n",
    "\n",
    "        else:\n",
    "            listTemp.append(listC[i])\n",
    "    return listTime, listMean\n",
    "\n",
    "def create_time_intervals_cal(listCdtDate, listC ):    \n",
    "    listTime = []\n",
    "    listMean = []\n",
    "    listTemp = []\n",
    "    \n",
    "    p = 30\n",
    "    l=0\n",
    "    for i in range(0, len(listCdtDate)):\n",
    "        if(listCdtDate[i].minute == p):\n",
    "            listTime.append(listCdtDate[i])\n",
    "            listMean.append(np.mean(listTemp))\n",
    "            listTemp = []\n",
    "            p = p+30\n",
    "            if(p ==60):\n",
    "                p=0\n",
    "\n",
    "        else:\n",
    "            listTemp.append(listC[i])\n",
    "    return listTime, listMean"
   ]
  },
  {
   "cell_type": "code",
   "execution_count": 2,
   "metadata": {
    "collapsed": true
   },
   "outputs": [],
   "source": [
    "# def create_time_intervals(listCdtDate, listC ):    \n",
    "#     listTime = []\n",
    "#     listMean = []\n",
    "#     listTemp = []\n",
    "    \n",
    "#     p = 0\n",
    "#     l=0\n",
    "#     for i in range(0, len(listCdtDate)):\n",
    "#         if(listCdtDate[i].minute == p):\n",
    "#             listTime.append(listCdtDate[i])\n",
    "#             listMean.append(np.mean(listTemp))\n",
    "#             listTemp = []\n",
    "#             p = p+15\n",
    "#             if(p ==60):\n",
    "#                 p=0\n",
    "\n",
    "#         else:\n",
    "#             listTemp.append(listC[i])\n",
    "#     return listTime, listMean\n",
    "\n",
    "# def create_time_intervals_cal(listCdtDate, listC ):    \n",
    "#     listTime = []\n",
    "#     listMean = []\n",
    "#     listTemp = []\n",
    "    \n",
    "#     p = 15\n",
    "#     l=0\n",
    "#     for i in range(0, len(listCdtDate)):\n",
    "#         if(listCdtDate[i].minute == p):\n",
    "#             listTime.append(listCdtDate[i])\n",
    "#             listMean.append(np.mean(listTemp))\n",
    "#             listTemp = []\n",
    "#             p = p+15\n",
    "#             if(p ==60):\n",
    "#                 p=0\n",
    "\n",
    "#         else:\n",
    "#             listTemp.append(listC[i])\n",
    "#     return listTime, listMean"
   ]
  },
  {
   "cell_type": "code",
   "execution_count": 3,
   "metadata": {
    "collapsed": true,
    "scrolled": true
   },
   "outputs": [],
   "source": [
    "import numpy as np\n",
    "import pandas as pd\n",
    "import json\n",
    "import matplotlib.pyplot as plt\n",
    "from datetime import datetime, timedelta\n",
    "\n",
    "\n",
    "filename = \"../data/131.txt\"\n",
    "#getting all the data\n",
    "with open(filename) as json_file:\n",
    "    data = json.load(json_file)\n",
    "    \n",
    "    d = data['ActivityTimeSeries']\n",
    "    m1 = d['CaloriesOut']\n",
    "    m2 = d['CaloriesOutdt']\n",
    "    \n",
    "    steps = d['Steps']\n",
    "    stepsdt = d['Stepsdt']\n",
    "    \n",
    "    \n",
    "    p = data['CGMData']\n",
    "    n1 = p['SG']\n",
    "    n2 = p['SGdt']\n",
    "\n",
    "    listC = []\n",
    "    listCdtDate = []\n",
    "    listCdt = []\n",
    "\n",
    "\n",
    "    \n",
    "    listSg =[]\n",
    "    listSgdt =[]\n",
    "\n",
    "        \n",
    "    listSteps = []\n",
    "    listStepsDt = []\n",
    "    \n",
    "    ts = []\n",
    "    \n",
    "  \n",
    "    for i in range(0,len(m1)):\n",
    "        listC.append(*m1[i])\n",
    "        listCdtDate.append(datetime.fromordinal(int((float)(*m2[i]))) + timedelta(days=((float)(*m2[i]))%1) - timedelta(days = 366))\n",
    "    for i in range(0,len(n2)):\n",
    "        listSg.append(*n1[i])\n",
    "        listSgdt.append(datetime.fromordinal(int((float)(*n2[i]))) + timedelta(days=((float)(*n2[i]))%1) - timedelta(days = 366))\n",
    "\n",
    "    for i in range(0,len(steps)):\n",
    "        listSteps.append(*steps[i])\n",
    "        listStepsDt.append(datetime.fromordinal(int((float)(*stepsdt[i]))) + timedelta(days=((float)(*stepsdt[i]))%1) - timedelta(days = 366))\n",
    "\n",
    "        \n",
    "    dfC = pd.DataFrame()\n",
    "    dfS = pd.DataFrame()\n",
    "    dfT = pd.DataFrame()\n",
    "    dfSteps = pd.DataFrame()\n",
    "    \n",
    "    steps_dt = pd.DataFrame()\n",
    "    \n",
    "    sg_df = pd.DataFrame()\n",
    "    \n",
    "    dfC['CaloriesOut'] = listC\n",
    "    dfC['CaloriesOutDate'] = listCdtDate\n",
    "    \n",
    "    \n",
    "    dfS['SG'] = listSg\n",
    "    dfS['SGdt'] = listSgdt\n",
    "    \n",
    "    dfSteps['Stepsdt'] = listSteps\n",
    "    dfSteps['Steps'] = listStepsDt\n",
    "\n",
    "    listTime, listMean = create_time_intervals_cal(listCdtDate, listC )\n",
    "    sgTime, sgValues = create_time_intervals(listSgdt, listSg )\n",
    "    list_steps_Time, list_steps = create_time_intervals_cal(listStepsDt, listSteps)\n",
    "    \n",
    "    dfT['CaloriesOut-Time'] = listTime\n",
    "    dfT['CaloriesOut-Mean'] = listMean\n",
    "    \n",
    "    \n",
    "    sg_df['SG-Time'] = sgTime\n",
    "    sg_df['SG-Mean'] = sgValues\n",
    "    \n",
    "#     steps_df['Steps-Mean'] = list_steps\n",
    "#     steps_df['Steps-Time'] = list_steps_Time\n",
    "\n",
    "#     steps_df['Steps'] = list_steps\n",
    "#     steps_df['Steps-Time'] = list_steps_dt\n",
    "\n",
    "    \n",
    "\n",
    "#     print(dfT.where(dfT['CaloriesOut-Time'] <  '2018-7-1') )\n",
    "    \n",
    "    \n",
    "#     for item in listTime:\n",
    "#         if item.month == 5 and item.day == 15:\n",
    "#             print(item)\n",
    "    \n",
    "    \n",
    "#     dfT['Time'] = listTime\n",
    "#     dfT['Average'] = listMean\n",
    "#     print(dfT)\n",
    "   \n",
    "#     print(dfT)\n",
    "#     for item in dfT:\n",
    "#         print(item[i])\n"
   ]
  },
  {
   "cell_type": "code",
   "execution_count": 4,
   "metadata": {
    "collapsed": true
   },
   "outputs": [],
   "source": [
    "# len(sgTime)"
   ]
  },
  {
   "cell_type": "markdown",
   "metadata": {},
   "source": [
    "## splitting dataframe of CalOut and Cal-dt and splitting  b/c it repeats data of month 6, day 16 patient 131.txt"
   ]
  },
  {
   "cell_type": "code",
   "execution_count": 5,
   "metadata": {
    "collapsed": true,
    "scrolled": false
   },
   "outputs": [],
   "source": [
    "\n",
    "#  finding same time for start and e\n",
    "# cal_new_time = []\n",
    "# for item in dfT['CaloriesOut-Time']:\n",
    "#     if item.month == 6 and item.day == 16:\n",
    "#         print(item)\n",
    "\n",
    "# cal_half_array = []\n",
    "# for item in cal_new_time[:48]:\n",
    "#     cal_half_array.append(item)\n",
    "#     print(item)\n",
    "#     newtime_calories(cal_same_time)\n",
    "\n",
    "cal_split_df = pd.DataFrame()\n",
    "\n",
    "list_of_cal_dates = []\n",
    "list_of_cal_averages = []\n",
    "for index, row in dfT.iterrows():\n",
    "    if row['CaloriesOut-Time'].month == 6 and row['CaloriesOut-Time'].day == 16:\n",
    "#         print(row['CaloriesOut-Time'])\n",
    "        list_of_cal_dates.append(row['CaloriesOut-Time'])\n",
    "        list_of_cal_averages.append(row['CaloriesOut-Mean'])\n",
    "        \n",
    "cal_split_df['CaloriesOut-Mean'] =list_of_cal_averages\n",
    "cal_split_df['CaloriesOut-Time'] = list_of_cal_dates"
   ]
  },
  {
   "cell_type": "code",
   "execution_count": 6,
   "metadata": {
    "collapsed": true
   },
   "outputs": [],
   "source": [
    "steps_split_df = pd.DataFrame()\n",
    "\n",
    "list_of_cal_dates = []\n",
    "list_of_cal_averages = []\n",
    "for index, row in dfT.iterrows():\n",
    "    if row['CaloriesOut-Time'].month == 6 and row['CaloriesOut-Time'].day == 16:\n",
    "#         print(row['CaloriesOut-Time'])\n",
    "        list_of_cal_dates.append(row['CaloriesOut-Time'])\n",
    "        list_of_cal_averages.append(row['CaloriesOut-Mean'])\n",
    "        \n",
    "cal_split_df['CaloriesOut-Mean'] =list_of_cal_averages\n",
    "cal_split_df['CaloriesOut-Time'] = list_of_cal_dates"
   ]
  },
  {
   "cell_type": "code",
   "execution_count": 131,
   "metadata": {
    "collapsed": true
   },
   "outputs": [],
   "source": [
    "# print(len(cal_split_df))\n",
    "# cal_split_df[:30]"
   ]
  },
  {
   "cell_type": "code",
   "execution_count": 13,
   "metadata": {
    "scrolled": true
   },
   "outputs": [
    {
     "name": "stdout",
     "output_type": "stream",
     "text": [
      "48\n"
     ]
    }
   ],
   "source": [
    "first_half_df = pd.DataFrame()\n",
    "length = len(cal_split_df)\n",
    "length = int(length/2)\n",
    "print(length)\n",
    "if cal_split_df.shape[0] > 10:\n",
    "    first_half_df = cal_split_df[:length]\n"
   ]
  },
  {
   "cell_type": "code",
   "execution_count": 14,
   "metadata": {
    "scrolled": true
   },
   "outputs": [
    {
     "name": "stdout",
     "output_type": "stream",
     "text": [
      "48\n"
     ]
    },
    {
     "data": {
      "text/html": [
       "<div>\n",
       "<style>\n",
       "    .dataframe thead tr:only-child th {\n",
       "        text-align: right;\n",
       "    }\n",
       "\n",
       "    .dataframe thead th {\n",
       "        text-align: left;\n",
       "    }\n",
       "\n",
       "    .dataframe tbody tr th {\n",
       "        vertical-align: top;\n",
       "    }\n",
       "</style>\n",
       "<table border=\"1\" class=\"dataframe\">\n",
       "  <thead>\n",
       "    <tr style=\"text-align: right;\">\n",
       "      <th></th>\n",
       "      <th>CaloriesOut-Mean</th>\n",
       "      <th>CaloriesOut-Time</th>\n",
       "    </tr>\n",
       "  </thead>\n",
       "  <tbody>\n",
       "    <tr>\n",
       "      <th>0</th>\n",
       "      <td>1.321250</td>\n",
       "      <td>2017-06-16 00:00:00.000000</td>\n",
       "    </tr>\n",
       "    <tr>\n",
       "      <th>1</th>\n",
       "      <td>1.329696</td>\n",
       "      <td>2017-06-16 00:30:57.600003</td>\n",
       "    </tr>\n",
       "    <tr>\n",
       "      <th>2</th>\n",
       "      <td>1.321573</td>\n",
       "      <td>2017-06-16 01:00:02.879995</td>\n",
       "    </tr>\n",
       "    <tr>\n",
       "      <th>3</th>\n",
       "      <td>1.325774</td>\n",
       "      <td>2017-06-16 01:30:00.000000</td>\n",
       "    </tr>\n",
       "    <tr>\n",
       "      <th>4</th>\n",
       "      <td>1.312200</td>\n",
       "      <td>2017-06-16 02:00:57.600003</td>\n",
       "    </tr>\n",
       "    <tr>\n",
       "      <th>5</th>\n",
       "      <td>1.316886</td>\n",
       "      <td>2017-06-16 02:30:02.879995</td>\n",
       "    </tr>\n",
       "    <tr>\n",
       "      <th>6</th>\n",
       "      <td>1.316725</td>\n",
       "      <td>2017-06-16 03:00:00.000000</td>\n",
       "    </tr>\n",
       "    <tr>\n",
       "      <th>7</th>\n",
       "      <td>1.382184</td>\n",
       "      <td>2017-06-16 03:30:57.600003</td>\n",
       "    </tr>\n",
       "    <tr>\n",
       "      <th>8</th>\n",
       "      <td>1.330946</td>\n",
       "      <td>2017-06-16 04:00:02.879995</td>\n",
       "    </tr>\n",
       "    <tr>\n",
       "      <th>9</th>\n",
       "      <td>1.321250</td>\n",
       "      <td>2017-06-16 04:30:00.000000</td>\n",
       "    </tr>\n",
       "    <tr>\n",
       "      <th>10</th>\n",
       "      <td>1.574640</td>\n",
       "      <td>2017-06-16 05:00:57.600003</td>\n",
       "    </tr>\n",
       "    <tr>\n",
       "      <th>11</th>\n",
       "      <td>2.722815</td>\n",
       "      <td>2017-06-16 05:30:02.879995</td>\n",
       "    </tr>\n",
       "    <tr>\n",
       "      <th>12</th>\n",
       "      <td>1.895903</td>\n",
       "      <td>2017-06-16 06:00:00.000000</td>\n",
       "    </tr>\n",
       "    <tr>\n",
       "      <th>13</th>\n",
       "      <td>1.701486</td>\n",
       "      <td>2017-06-16 06:30:57.600003</td>\n",
       "    </tr>\n",
       "    <tr>\n",
       "      <th>14</th>\n",
       "      <td>1.537149</td>\n",
       "      <td>2017-06-16 07:00:02.879995</td>\n",
       "    </tr>\n",
       "    <tr>\n",
       "      <th>15</th>\n",
       "      <td>2.678698</td>\n",
       "      <td>2017-06-16 07:30:00.000000</td>\n",
       "    </tr>\n",
       "    <tr>\n",
       "      <th>16</th>\n",
       "      <td>1.942056</td>\n",
       "      <td>2017-06-16 08:00:57.600003</td>\n",
       "    </tr>\n",
       "    <tr>\n",
       "      <th>17</th>\n",
       "      <td>1.668369</td>\n",
       "      <td>2017-06-16 08:30:02.879995</td>\n",
       "    </tr>\n",
       "    <tr>\n",
       "      <th>18</th>\n",
       "      <td>1.497718</td>\n",
       "      <td>2017-06-16 09:00:00.000000</td>\n",
       "    </tr>\n",
       "    <tr>\n",
       "      <th>19</th>\n",
       "      <td>1.460916</td>\n",
       "      <td>2017-06-16 09:30:57.600003</td>\n",
       "    </tr>\n",
       "    <tr>\n",
       "      <th>20</th>\n",
       "      <td>2.221367</td>\n",
       "      <td>2017-06-16 10:00:02.879995</td>\n",
       "    </tr>\n",
       "    <tr>\n",
       "      <th>21</th>\n",
       "      <td>1.529392</td>\n",
       "      <td>2017-06-16 10:30:00.000000</td>\n",
       "    </tr>\n",
       "    <tr>\n",
       "      <th>22</th>\n",
       "      <td>2.230740</td>\n",
       "      <td>2017-06-16 11:00:57.600003</td>\n",
       "    </tr>\n",
       "    <tr>\n",
       "      <th>23</th>\n",
       "      <td>2.249486</td>\n",
       "      <td>2017-06-16 11:30:02.879995</td>\n",
       "    </tr>\n",
       "    <tr>\n",
       "      <th>24</th>\n",
       "      <td>1.737534</td>\n",
       "      <td>2017-06-16 12:00:00.000000</td>\n",
       "    </tr>\n",
       "    <tr>\n",
       "      <th>25</th>\n",
       "      <td>1.955178</td>\n",
       "      <td>2017-06-16 12:30:57.600003</td>\n",
       "    </tr>\n",
       "    <tr>\n",
       "      <th>26</th>\n",
       "      <td>2.783739</td>\n",
       "      <td>2017-06-16 13:00:02.879995</td>\n",
       "    </tr>\n",
       "    <tr>\n",
       "      <th>27</th>\n",
       "      <td>1.696810</td>\n",
       "      <td>2017-06-16 13:30:00.000000</td>\n",
       "    </tr>\n",
       "    <tr>\n",
       "      <th>28</th>\n",
       "      <td>1.959552</td>\n",
       "      <td>2017-06-16 14:00:57.600003</td>\n",
       "    </tr>\n",
       "    <tr>\n",
       "      <th>29</th>\n",
       "      <td>1.930809</td>\n",
       "      <td>2017-06-16 14:30:02.879995</td>\n",
       "    </tr>\n",
       "    <tr>\n",
       "      <th>30</th>\n",
       "      <td>1.986399</td>\n",
       "      <td>2017-06-16 15:00:00.000000</td>\n",
       "    </tr>\n",
       "    <tr>\n",
       "      <th>31</th>\n",
       "      <td>2.471310</td>\n",
       "      <td>2017-06-16 15:30:57.600003</td>\n",
       "    </tr>\n",
       "    <tr>\n",
       "      <th>32</th>\n",
       "      <td>3.041492</td>\n",
       "      <td>2017-06-16 16:00:02.879995</td>\n",
       "    </tr>\n",
       "    <tr>\n",
       "      <th>33</th>\n",
       "      <td>1.701335</td>\n",
       "      <td>2017-06-16 16:30:00.000000</td>\n",
       "    </tr>\n",
       "    <tr>\n",
       "      <th>34</th>\n",
       "      <td>2.663766</td>\n",
       "      <td>2017-06-16 17:00:57.600003</td>\n",
       "    </tr>\n",
       "    <tr>\n",
       "      <th>35</th>\n",
       "      <td>3.280500</td>\n",
       "      <td>2017-06-16 17:30:02.879995</td>\n",
       "    </tr>\n",
       "    <tr>\n",
       "      <th>36</th>\n",
       "      <td>4.678672</td>\n",
       "      <td>2017-06-16 18:00:00.000000</td>\n",
       "    </tr>\n",
       "    <tr>\n",
       "      <th>37</th>\n",
       "      <td>2.082024</td>\n",
       "      <td>2017-06-16 18:30:57.600003</td>\n",
       "    </tr>\n",
       "    <tr>\n",
       "      <th>38</th>\n",
       "      <td>3.285186</td>\n",
       "      <td>2017-06-16 19:00:02.879995</td>\n",
       "    </tr>\n",
       "    <tr>\n",
       "      <th>39</th>\n",
       "      <td>3.303124</td>\n",
       "      <td>2017-06-16 19:30:00.000000</td>\n",
       "    </tr>\n",
       "    <tr>\n",
       "      <th>40</th>\n",
       "      <td>1.920186</td>\n",
       "      <td>2017-06-16 20:00:57.600003</td>\n",
       "    </tr>\n",
       "    <tr>\n",
       "      <th>41</th>\n",
       "      <td>2.183876</td>\n",
       "      <td>2017-06-16 20:30:02.879995</td>\n",
       "    </tr>\n",
       "    <tr>\n",
       "      <th>42</th>\n",
       "      <td>1.990924</td>\n",
       "      <td>2017-06-16 21:00:00.000000</td>\n",
       "    </tr>\n",
       "    <tr>\n",
       "      <th>43</th>\n",
       "      <td>2.274480</td>\n",
       "      <td>2017-06-16 21:30:57.600003</td>\n",
       "    </tr>\n",
       "    <tr>\n",
       "      <th>44</th>\n",
       "      <td>2.933704</td>\n",
       "      <td>2017-06-16 22:00:02.879995</td>\n",
       "    </tr>\n",
       "    <tr>\n",
       "      <th>45</th>\n",
       "      <td>2.230740</td>\n",
       "      <td>2017-06-16 22:30:00.000000</td>\n",
       "    </tr>\n",
       "    <tr>\n",
       "      <th>46</th>\n",
       "      <td>1.845828</td>\n",
       "      <td>2017-06-16 23:00:57.600003</td>\n",
       "    </tr>\n",
       "    <tr>\n",
       "      <th>47</th>\n",
       "      <td>1.785529</td>\n",
       "      <td>2017-06-16 23:30:02.879995</td>\n",
       "    </tr>\n",
       "  </tbody>\n",
       "</table>\n",
       "</div>"
      ],
      "text/plain": [
       "    CaloriesOut-Mean           CaloriesOut-Time\n",
       "0           1.321250 2017-06-16 00:00:00.000000\n",
       "1           1.329696 2017-06-16 00:30:57.600003\n",
       "2           1.321573 2017-06-16 01:00:02.879995\n",
       "3           1.325774 2017-06-16 01:30:00.000000\n",
       "4           1.312200 2017-06-16 02:00:57.600003\n",
       "5           1.316886 2017-06-16 02:30:02.879995\n",
       "6           1.316725 2017-06-16 03:00:00.000000\n",
       "7           1.382184 2017-06-16 03:30:57.600003\n",
       "8           1.330946 2017-06-16 04:00:02.879995\n",
       "9           1.321250 2017-06-16 04:30:00.000000\n",
       "10          1.574640 2017-06-16 05:00:57.600003\n",
       "11          2.722815 2017-06-16 05:30:02.879995\n",
       "12          1.895903 2017-06-16 06:00:00.000000\n",
       "13          1.701486 2017-06-16 06:30:57.600003\n",
       "14          1.537149 2017-06-16 07:00:02.879995\n",
       "15          2.678698 2017-06-16 07:30:00.000000\n",
       "16          1.942056 2017-06-16 08:00:57.600003\n",
       "17          1.668369 2017-06-16 08:30:02.879995\n",
       "18          1.497718 2017-06-16 09:00:00.000000\n",
       "19          1.460916 2017-06-16 09:30:57.600003\n",
       "20          2.221367 2017-06-16 10:00:02.879995\n",
       "21          1.529392 2017-06-16 10:30:00.000000\n",
       "22          2.230740 2017-06-16 11:00:57.600003\n",
       "23          2.249486 2017-06-16 11:30:02.879995\n",
       "24          1.737534 2017-06-16 12:00:00.000000\n",
       "25          1.955178 2017-06-16 12:30:57.600003\n",
       "26          2.783739 2017-06-16 13:00:02.879995\n",
       "27          1.696810 2017-06-16 13:30:00.000000\n",
       "28          1.959552 2017-06-16 14:00:57.600003\n",
       "29          1.930809 2017-06-16 14:30:02.879995\n",
       "30          1.986399 2017-06-16 15:00:00.000000\n",
       "31          2.471310 2017-06-16 15:30:57.600003\n",
       "32          3.041492 2017-06-16 16:00:02.879995\n",
       "33          1.701335 2017-06-16 16:30:00.000000\n",
       "34          2.663766 2017-06-16 17:00:57.600003\n",
       "35          3.280500 2017-06-16 17:30:02.879995\n",
       "36          4.678672 2017-06-16 18:00:00.000000\n",
       "37          2.082024 2017-06-16 18:30:57.600003\n",
       "38          3.285186 2017-06-16 19:00:02.879995\n",
       "39          3.303124 2017-06-16 19:30:00.000000\n",
       "40          1.920186 2017-06-16 20:00:57.600003\n",
       "41          2.183876 2017-06-16 20:30:02.879995\n",
       "42          1.990924 2017-06-16 21:00:00.000000\n",
       "43          2.274480 2017-06-16 21:30:57.600003\n",
       "44          2.933704 2017-06-16 22:00:02.879995\n",
       "45          2.230740 2017-06-16 22:30:00.000000\n",
       "46          1.845828 2017-06-16 23:00:57.600003\n",
       "47          1.785529 2017-06-16 23:30:02.879995"
      ]
     },
     "execution_count": 14,
     "metadata": {},
     "output_type": "execute_result"
    }
   ],
   "source": [
    "print(len(first_half_df))\n",
    "first_half_df\n"
   ]
  },
  {
   "cell_type": "markdown",
   "metadata": {
    "collapsed": true
   },
   "source": [
    "## splitting Sg and SGdt dataframe of month 6, day 16 patient 131.txt"
   ]
  },
  {
   "cell_type": "code",
   "execution_count": 15,
   "metadata": {
    "collapsed": true
   },
   "outputs": [],
   "source": [
    "sg_split_df = pd.DataFrame()\n",
    "\n",
    "list_of_sg_dates = []\n",
    "list_of_sg_averages = []\n",
    "for index, row in sg_df.iterrows():\n",
    "    if row['SG-Time'].month == 6 and row['SG-Time'].day == 16:\n",
    "#         print(row['CaloriesOut-Time'])Time\n",
    "        list_of_sg_dates.append(row['SG-Time'])\n",
    "        list_of_sg_averages.append(row['SG-Mean'])\n",
    "        \n",
    "sg_split_df['SG-Mean'] =list_of_sg_averages\n",
    "sg_split_df['SG-Time'] = list_of_sg_dates"
   ]
  },
  {
   "cell_type": "code",
   "execution_count": 16,
   "metadata": {},
   "outputs": [
    {
     "name": "stdout",
     "output_type": "stream",
     "text": [
      "16\n"
     ]
    },
    {
     "data": {
      "text/html": [
       "<div>\n",
       "<style>\n",
       "    .dataframe thead tr:only-child th {\n",
       "        text-align: right;\n",
       "    }\n",
       "\n",
       "    .dataframe thead th {\n",
       "        text-align: left;\n",
       "    }\n",
       "\n",
       "    .dataframe tbody tr th {\n",
       "        vertical-align: top;\n",
       "    }\n",
       "</style>\n",
       "<table border=\"1\" class=\"dataframe\">\n",
       "  <thead>\n",
       "    <tr style=\"text-align: right;\">\n",
       "      <th></th>\n",
       "      <th>SG-Mean</th>\n",
       "      <th>SG-Time</th>\n",
       "    </tr>\n",
       "  </thead>\n",
       "  <tbody>\n",
       "    <tr>\n",
       "      <th>0</th>\n",
       "      <td>202.058824</td>\n",
       "      <td>2017-06-16 00:00:00</td>\n",
       "    </tr>\n",
       "    <tr>\n",
       "      <th>1</th>\n",
       "      <td>177.529412</td>\n",
       "      <td>2017-06-16 01:30:00</td>\n",
       "    </tr>\n",
       "    <tr>\n",
       "      <th>2</th>\n",
       "      <td>193.000000</td>\n",
       "      <td>2017-06-16 03:00:00</td>\n",
       "    </tr>\n",
       "    <tr>\n",
       "      <th>3</th>\n",
       "      <td>197.470588</td>\n",
       "      <td>2017-06-16 04:30:00</td>\n",
       "    </tr>\n",
       "    <tr>\n",
       "      <th>4</th>\n",
       "      <td>189.117647</td>\n",
       "      <td>2017-06-16 06:00:00</td>\n",
       "    </tr>\n",
       "    <tr>\n",
       "      <th>5</th>\n",
       "      <td>184.058824</td>\n",
       "      <td>2017-06-16 07:30:00</td>\n",
       "    </tr>\n",
       "    <tr>\n",
       "      <th>6</th>\n",
       "      <td>141.764706</td>\n",
       "      <td>2017-06-16 09:00:00</td>\n",
       "    </tr>\n",
       "    <tr>\n",
       "      <th>7</th>\n",
       "      <td>92.176471</td>\n",
       "      <td>2017-06-16 10:30:00</td>\n",
       "    </tr>\n",
       "    <tr>\n",
       "      <th>8</th>\n",
       "      <td>123.529412</td>\n",
       "      <td>2017-06-16 12:00:00</td>\n",
       "    </tr>\n",
       "    <tr>\n",
       "      <th>9</th>\n",
       "      <td>117.470588</td>\n",
       "      <td>2017-06-16 13:30:00</td>\n",
       "    </tr>\n",
       "    <tr>\n",
       "      <th>10</th>\n",
       "      <td>104.411765</td>\n",
       "      <td>2017-06-16 15:00:00</td>\n",
       "    </tr>\n",
       "    <tr>\n",
       "      <th>11</th>\n",
       "      <td>111.117647</td>\n",
       "      <td>2017-06-16 16:30:00</td>\n",
       "    </tr>\n",
       "    <tr>\n",
       "      <th>12</th>\n",
       "      <td>130.538462</td>\n",
       "      <td>2017-06-16 18:00:00</td>\n",
       "    </tr>\n",
       "    <tr>\n",
       "      <th>13</th>\n",
       "      <td>98.823529</td>\n",
       "      <td>2017-06-16 19:30:00</td>\n",
       "    </tr>\n",
       "    <tr>\n",
       "      <th>14</th>\n",
       "      <td>70.235294</td>\n",
       "      <td>2017-06-16 21:00:00</td>\n",
       "    </tr>\n",
       "    <tr>\n",
       "      <th>15</th>\n",
       "      <td>132.000000</td>\n",
       "      <td>2017-06-16 22:30:00</td>\n",
       "    </tr>\n",
       "  </tbody>\n",
       "</table>\n",
       "</div>"
      ],
      "text/plain": [
       "       SG-Mean             SG-Time\n",
       "0   202.058824 2017-06-16 00:00:00\n",
       "1   177.529412 2017-06-16 01:30:00\n",
       "2   193.000000 2017-06-16 03:00:00\n",
       "3   197.470588 2017-06-16 04:30:00\n",
       "4   189.117647 2017-06-16 06:00:00\n",
       "5   184.058824 2017-06-16 07:30:00\n",
       "6   141.764706 2017-06-16 09:00:00\n",
       "7    92.176471 2017-06-16 10:30:00\n",
       "8   123.529412 2017-06-16 12:00:00\n",
       "9   117.470588 2017-06-16 13:30:00\n",
       "10  104.411765 2017-06-16 15:00:00\n",
       "11  111.117647 2017-06-16 16:30:00\n",
       "12  130.538462 2017-06-16 18:00:00\n",
       "13   98.823529 2017-06-16 19:30:00\n",
       "14   70.235294 2017-06-16 21:00:00\n",
       "15  132.000000 2017-06-16 22:30:00"
      ]
     },
     "execution_count": 16,
     "metadata": {},
     "output_type": "execute_result"
    }
   ],
   "source": [
    "print(len(sg_split_df))\n",
    "sg_split_df"
   ]
  },
  {
   "cell_type": "code",
   "execution_count": 49,
   "metadata": {},
   "outputs": [
    {
     "name": "stdout",
     "output_type": "stream",
     "text": [
      "48 rows in calories-df and 3 rows is every hour and a half\n",
      "16 rows in Sg and each row is 1 hour and a half\n",
      "48/16 = 3\n"
     ]
    }
   ],
   "source": [
    "print('48 rows in calories-df and 3 rows is every hour and a half')\n",
    "print('16 rows in Sg and each row is 1 hour and a half')\n",
    "print('48/16 = 3')\n"
   ]
  },
  {
   "cell_type": "markdown",
   "metadata": {},
   "source": [
    "# converting length by using means of each 3 rows"
   ]
  },
  {
   "cell_type": "code",
   "execution_count": 50,
   "metadata": {},
   "outputs": [
    {
     "name": "stdout",
     "output_type": "stream",
     "text": [
      "length of calories-out-df\n",
      "16\n"
     ]
    },
    {
     "name": "stderr",
     "output_type": "stream",
     "text": [
      "/home/cowboyuniverse/anaconda3/lib/python3.6/site-packages/pandas/core/indexes/category.py:138: RuntimeWarning: Values and categories have different dtypes. Did you mean to use\n",
      "'Categorical.from_codes(codes, categories)'?\n",
      "  data = Categorical(data, categories=categories, ordered=ordered)\n",
      "/home/cowboyuniverse/anaconda3/lib/python3.6/site-packages/pandas/core/indexes/category.py:138: RuntimeWarning: None of the categories were found in values. Did you mean to use\n",
      "'Categorical.from_codes(codes, categories)'?\n",
      "  data = Categorical(data, categories=categories, ordered=ordered)\n"
     ]
    }
   ],
   "source": [
    "from pandas import *\n",
    "final_CalOut_df = pd.DataFrame()\n",
    "final_CalOut_df['CaloriesOut-Mean'] = first_half_df.groupby(qcut(first_half_df.index,16 )).mean()\n",
    "print('length of calories-out-df')\n",
    "print(len(final_CalOut_df))\n",
    "\n"
   ]
  },
  {
   "cell_type": "code",
   "execution_count": 146,
   "metadata": {
    "collapsed": true
   },
   "outputs": [],
   "source": [
    "# putting SG, CalOut into dataframe "
   ]
  },
  {
   "cell_type": "code",
   "execution_count": 59,
   "metadata": {},
   "outputs": [
    {
     "data": {
      "text/html": [
       "<div>\n",
       "<style>\n",
       "    .dataframe thead tr:only-child th {\n",
       "        text-align: right;\n",
       "    }\n",
       "\n",
       "    .dataframe thead th {\n",
       "        text-align: left;\n",
       "    }\n",
       "\n",
       "    .dataframe tbody tr th {\n",
       "        vertical-align: top;\n",
       "    }\n",
       "</style>\n",
       "<table border=\"1\" class=\"dataframe\">\n",
       "  <thead>\n",
       "    <tr style=\"text-align: right;\">\n",
       "      <th></th>\n",
       "      <th>CaloriesOut-Mean</th>\n",
       "      <th>SG-Mean</th>\n",
       "    </tr>\n",
       "  </thead>\n",
       "  <tbody>\n",
       "    <tr>\n",
       "      <th>0</th>\n",
       "      <td>1.324173</td>\n",
       "      <td>202.058824</td>\n",
       "    </tr>\n",
       "    <tr>\n",
       "      <th>1</th>\n",
       "      <td>1.324173</td>\n",
       "      <td>177.529412</td>\n",
       "    </tr>\n",
       "    <tr>\n",
       "      <th>2</th>\n",
       "      <td>1.324173</td>\n",
       "      <td>193.000000</td>\n",
       "    </tr>\n",
       "    <tr>\n",
       "      <th>3</th>\n",
       "      <td>1.318287</td>\n",
       "      <td>197.470588</td>\n",
       "    </tr>\n",
       "    <tr>\n",
       "      <th>4</th>\n",
       "      <td>1.318287</td>\n",
       "      <td>189.117647</td>\n",
       "    </tr>\n",
       "    <tr>\n",
       "      <th>5</th>\n",
       "      <td>1.318287</td>\n",
       "      <td>184.058824</td>\n",
       "    </tr>\n",
       "    <tr>\n",
       "      <th>6</th>\n",
       "      <td>1.343285</td>\n",
       "      <td>141.764706</td>\n",
       "    </tr>\n",
       "    <tr>\n",
       "      <th>7</th>\n",
       "      <td>1.343285</td>\n",
       "      <td>92.176471</td>\n",
       "    </tr>\n",
       "    <tr>\n",
       "      <th>8</th>\n",
       "      <td>1.343285</td>\n",
       "      <td>123.529412</td>\n",
       "    </tr>\n",
       "    <tr>\n",
       "      <th>9</th>\n",
       "      <td>1.872902</td>\n",
       "      <td>117.470588</td>\n",
       "    </tr>\n",
       "    <tr>\n",
       "      <th>10</th>\n",
       "      <td>1.872902</td>\n",
       "      <td>104.411765</td>\n",
       "    </tr>\n",
       "    <tr>\n",
       "      <th>11</th>\n",
       "      <td>1.872902</td>\n",
       "      <td>111.117647</td>\n",
       "    </tr>\n",
       "    <tr>\n",
       "      <th>12</th>\n",
       "      <td>1.711512</td>\n",
       "      <td>130.538462</td>\n",
       "    </tr>\n",
       "    <tr>\n",
       "      <th>13</th>\n",
       "      <td>1.711512</td>\n",
       "      <td>98.823529</td>\n",
       "    </tr>\n",
       "    <tr>\n",
       "      <th>14</th>\n",
       "      <td>1.711512</td>\n",
       "      <td>70.235294</td>\n",
       "    </tr>\n",
       "    <tr>\n",
       "      <th>15</th>\n",
       "      <td>2.096374</td>\n",
       "      <td>132.000000</td>\n",
       "    </tr>\n",
       "  </tbody>\n",
       "</table>\n",
       "</div>"
      ],
      "text/plain": [
       "    CaloriesOut-Mean     SG-Mean\n",
       "0           1.324173  202.058824\n",
       "1           1.324173  177.529412\n",
       "2           1.324173  193.000000\n",
       "3           1.318287  197.470588\n",
       "4           1.318287  189.117647\n",
       "5           1.318287  184.058824\n",
       "6           1.343285  141.764706\n",
       "7           1.343285   92.176471\n",
       "8           1.343285  123.529412\n",
       "9           1.872902  117.470588\n",
       "10          1.872902  104.411765\n",
       "11          1.872902  111.117647\n",
       "12          1.711512  130.538462\n",
       "13          1.711512   98.823529\n",
       "14          1.711512   70.235294\n",
       "15          2.096374  132.000000"
      ]
     },
     "execution_count": 59,
     "metadata": {},
     "output_type": "execute_result"
    }
   ],
   "source": [
    "calout_sg_df = pd.DataFrame()\n",
    "cal_sg_list = []\n",
    "for item in final_CalOut_df['CaloriesOut-Mean']:\n",
    "    cal_sg_list.append(item)\n",
    "\n",
    "calout_sg_df['CaloriesOut-Mean'] = cal_sg_list\n",
    "\n",
    "calout_sg_df['SG-Mean'] = sg_split_df['SG-Mean']\n",
    "# calout_sg_df['Time'] = sg_split_df['SG-Time']\n",
    "\n",
    "calout_sg_df"
   ]
  },
  {
   "cell_type": "code",
   "execution_count": 72,
   "metadata": {},
   "outputs": [
    {
     "name": "stdout",
     "output_type": "stream",
     "text": [
      "[[-0.85068121  1.45688338]\n",
      " [-0.85068121  0.86597658]\n",
      " [-0.85068121  1.23865881]\n",
      " [-0.87281108  1.34635405]\n",
      " [-0.87281108  1.14513399]\n",
      " [-0.87281108  1.02326832]\n",
      " [-0.77882333  0.00441463]\n",
      " [-0.77882333 -1.19015235]\n",
      " [-0.77882333 -0.4348686 ]\n",
      " [ 1.21244476 -0.58082399]\n",
      " [ 1.21244476 -0.89540747]\n",
      " [ 1.21244476 -0.7338646 ]\n",
      " [ 0.60564962 -0.26602251]\n",
      " [ 0.60564962 -1.03002652]\n",
      " [ 0.60564962 -1.71870927]\n",
      " [ 2.05266371 -0.23081445]]\n"
     ]
    },
    {
     "data": {
      "text/plain": [
       "StandardScaler(copy=True, with_mean=True, with_std=True)"
      ]
     },
     "execution_count": 72,
     "metadata": {},
     "output_type": "execute_result"
    }
   ],
   "source": [
    "import matplotlib.pyplot as plt\n",
    "from sklearn import preprocessing\n",
    "\n",
    "calout_sg_df\n",
    "# index = [0,1,2,3,4,5,6,7,8,9,10,11,12,13,14,15]\n",
    "# calout_sg_df_norm['index'] \n",
    "\n",
    "X_scaled = preprocessing.scale(calout_sg_df)\n",
    "scaler = preprocessing.StandardScaler().fit(calout_sg_df)\n",
    "\n",
    "# # \n",
    "print(calout_sg_df_norm)\n",
    "\n",
    "\n",
    "scaler"
   ]
  },
  {
   "cell_type": "code",
   "execution_count": 79,
   "metadata": {},
   "outputs": [
    {
     "data": {
      "image/png": "[encoded data removed]",
      "text/plain": [
       "<matplotlib.figure.Figure at 0x7f5df5bc59e8>"
      ]
     },
     "metadata": {},
     "output_type": "display_data"
    }
   ],
   "source": [
    "\n",
    "\n",
    "\n",
    "plt.scatter(calout_sg_df_norm[:,0], calout_sg_df_norm[:,1])\n",
    "\n",
    "plt.xlabel(\"CaloriesOut-normalized\")\n",
    "\n",
    "plt.ylabel(\"SG-normalized\")\n",
    "plt.show()\n",
    "\n",
    "\n"
   ]
  },
  {
   "cell_type": "code",
   "execution_count": 141,
   "metadata": {},
   "outputs": [
    {
     "data": {
      "image/png": "[encoded data removed]",
      "text/plain": [
       "<matplotlib.figure.Figure at 0x7f3a8792dd30>"
      ]
     },
     "metadata": {},
     "output_type": "display_data"
    }
   ],
   "source": [
    "\n",
    "pandas.tslib.Timestamp\n",
    "\n",
    "\n",
    "calout_sg_df['Time'] = calout_sg_df.Time.astype(np.int64)\n",
    "calout_sg_df['Time'] = calout_sg_df.Time.astype(np.int64)\n",
    "\n",
    "# calout_sg_df['CaloriesOut-Mean'] = calout_sg_df.Time.astype(np.int64)\n",
    "# calout_sg_df['SG-Mean'] = calout_sg_df.Time.astype(np.int64)\n",
    "\n",
    "fig, ax = plt.subplots(figsize=(10,6))\n",
    "calout_sg_df.plot(x='CaloriesOut-Mean', y='SG-Mean', kind='scatter', ax=ax)\n",
    "ax.set_xticklabels([datetime.fromtimestamp(ts / 1e9).strftime('%H:%M:%S') for ts in ax.get_xticks()])\n",
    "ax.set_yticklabels([datetime.fromtimestamp(ts / 1e9).strftime('%H:%M:%S') for ts in ax.get_yticks()])\n",
    "plt.show()"
   ]
  },
  {
   "cell_type": "code",
   "execution_count": 157,
   "metadata": {},
   "outputs": [
    {
     "data": {
      "text/plain": [
       "pandas._libs.tslib.Timestamp"
      ]
     },
     "execution_count": 157,
     "metadata": {},
     "output_type": "execute_result"
    }
   ],
   "source": [
    "type(calout_sg_df.Time[0])"
   ]
  },
  {
   "cell_type": "code",
   "execution_count": 73,
   "metadata": {},
   "outputs": [
    {
     "ename": "AttributeError",
     "evalue": "'numpy.ndarray' object has no attribute 'plot'",
     "output_type": "error",
     "traceback": [
      "\u001b[0;31m---------------------------------------------------------------------------\u001b[0m",
      "\u001b[0;31mAttributeError\u001b[0m                            Traceback (most recent call last)",
      "\u001b[0;32m<ipython-input-73-f911da416665>\u001b[0m in \u001b[0;36m<module>\u001b[0;34m()\u001b[0m\n\u001b[1;32m      3\u001b[0m \u001b[0;34m\u001b[0m\u001b[0m\n\u001b[1;32m      4\u001b[0m \u001b[0;34m\u001b[0m\u001b[0m\n\u001b[0;32m----> 5\u001b[0;31m \u001b[0mcalout_sg_df_norm\u001b[0m\u001b[0;34m.\u001b[0m\u001b[0mplot\u001b[0m\u001b[0;34m(\u001b[0m\u001b[0mfigsize\u001b[0m\u001b[0;34m=\u001b[0m\u001b[0;34m(\u001b[0m\u001b[0;36m16\u001b[0m\u001b[0;34m,\u001b[0m \u001b[0;36m6\u001b[0m\u001b[0;34m)\u001b[0m\u001b[0;34m,\u001b[0m \u001b[0mstyle\u001b[0m\u001b[0;34m=\u001b[0m\u001b[0;34m'o'\u001b[0m\u001b[0;34m)\u001b[0m\u001b[0;34m\u001b[0m\u001b[0m\n\u001b[0m\u001b[1;32m      6\u001b[0m \u001b[0mplt\u001b[0m\u001b[0;34m.\u001b[0m\u001b[0mshow\u001b[0m\u001b[0;34m(\u001b[0m\u001b[0;34m)\u001b[0m\u001b[0;34m\u001b[0m\u001b[0m\n",
      "\u001b[0;31mAttributeError\u001b[0m: 'numpy.ndarray' object has no attribute 'plot'"
     ]
    }
   ],
   "source": [
    "# plt.scatter(calout_sg_df_norm[:,0], calout_sg_df_norm[:,1])\n",
    "# plt.show()\n",
    "\n",
    "\n",
    "calout_sg_df_norm.plot(figsize=(16, 6), style='o')\n",
    "plt.show()\n"
   ]
  },
  {
   "cell_type": "code",
   "execution_count": 158,
   "metadata": {},
   "outputs": [
    {
     "data": {
      "image/png": "[encoded data removed]",
      "text/plain": [
       "<matplotlib.figure.Figure at 0x7f3a8786c0b8>"
      ]
     },
     "metadata": {},
     "output_type": "display_data"
    }
   ],
   "source": [
    "calout_sg_df.plot(figsize=(16, 6), style='o')\n",
    "plt.show()\n"
   ]
  },
  {
   "cell_type": "code",
   "execution_count": 214,
   "metadata": {
    "collapsed": true
   },
   "outputs": [],
   "source": [
    "\n",
    "calout_sg_df = pd.DataFrame()\n",
    "cal_sg_list = []\n",
    "for item in final_CalOut_df['CaloriesOut-Mean']:\n",
    "    cal_sg_list.append(item)\n",
    "\n",
    "calout_sg_df['CaloriesOut-Mean'] = cal_sg_list\n",
    "\n",
    "calout_sg_df['SG-Mean'] = sg_split_df['SG-Mean']\n",
    "calout_sg_df['Time'] = sg_split_df['SG-Time']\n",
    "\n",
    "calout_sg_df\n",
    "\n",
    "\n",
    "\n",
    "calout_sg_df['Time'] = pd.to_datetime(calout_sg_df['Time'])\n",
    "calout_sg_df.index = calout_sg_df['Time']\n",
    "time_index_calout_sg_df = calout_sg_df\n",
    "del time_index_calout_sg_df['Time']\n",
    "\n"
   ]
  },
  {
   "cell_type": "code",
   "execution_count": 217,
   "metadata": {},
   "outputs": [
    {
     "data": {
      "image/png": "[encoded data removed]",
      "text/plain": [
       "<matplotlib.figure.Figure at 0x7f3a87aa1630>"
      ]
     },
     "metadata": {},
     "output_type": "display_data"
    }
   ],
   "source": [
    "def scatterplot(x_data, y_data, x_label, y_label, title):\n",
    "\n",
    "    # Create the plot object\n",
    "    _, ax = plt.subplots()\n",
    "\n",
    "    # Plot the data, set the size (s), color and transparency (alpha)\n",
    "    # of the points\n",
    "    ax.scatter(x_data, y_data, s = 30, color = '#539caf', alpha = 0.75)\n",
    "\n",
    "    # Label the axes and provide a title\n",
    "    ax.set_title(title)\n",
    "    ax.set_xlabel(x_label)\n",
    "    ax.set_ylabel(y_label)\n",
    "\n",
    "# Call the function to create plot\n",
    "scatterplot(x_data = time_index_calout_sg_df['SG-Mean']\n",
    "            , y_data = time_index_calout_sg_df['CaloriesOut-Mean']\n",
    "            , x_label = 'SG-Mean'\n",
    "            , y_label = 'CaloriesOut-Mean'\n",
    "            , title = 'SG-Mean vs CaloriesOut-Mean')\n",
    "plt.show()"
   ]
  },
  {
   "cell_type": "code",
   "execution_count": 65,
   "metadata": {
    "collapsed": true
   },
   "outputs": [],
   "source": []
  },
  {
   "cell_type": "code",
   "execution_count": null,
   "metadata": {
    "collapsed": true
   },
   "outputs": [],
   "source": []
  },
  {
   "cell_type": "code",
   "execution_count": null,
   "metadata": {
    "collapsed": true
   },
   "outputs": [],
   "source": []
  },
  {
   "cell_type": "code",
   "execution_count": 66,
   "metadata": {
    "collapsed": true
   },
   "outputs": [],
   "source": []
  },
  {
   "cell_type": "code",
   "execution_count": 67,
   "metadata": {
    "collapsed": true
   },
   "outputs": [],
   "source": []
  },
  {
   "cell_type": "code",
   "execution_count": null,
   "metadata": {
    "collapsed": true
   },
   "outputs": [],
   "source": [
    "    "
   ]
  },
  {
   "cell_type": "code",
   "execution_count": null,
   "metadata": {
    "collapsed": true
   },
   "outputs": [],
   "source": []
  },
  {
   "cell_type": "code",
   "execution_count": null,
   "metadata": {
    "collapsed": true
   },
   "outputs": [],
   "source": []
  },
  {
   "cell_type": "code",
   "execution_count": null,
   "metadata": {
    "collapsed": true
   },
   "outputs": [],
   "source": []
  },
  {
   "cell_type": "code",
   "execution_count": null,
   "metadata": {
    "collapsed": true
   },
   "outputs": [],
   "source": []
  },
  {
   "cell_type": "code",
   "execution_count": null,
   "metadata": {
    "collapsed": true
   },
   "outputs": [],
   "source": [
    "\n"
   ]
  },
  {
   "cell_type": "markdown",
   "metadata": {},
   "source": [
    "# list of days that have records for cal out and SG - glucose \n",
    "{'2017-6-5', '2017-6-7', '2017-8-15', '2017-6-3', '2017-6-9', '2017-6-25', '2017-8-6', '2017-8-13', '2017-6-17', '2017-6-13', '2017-6-27', '2017-7-5', '2017-6-10', '2017-8-18', '2017-6-30', '2017-6-1', '2017-6-26', '2017-6-22', '2017-8-14', '2017-6-11', '2017-8-7', '2017-6-2', '2017-8-9', '2017-7-4', '2017-7-18', '2017-7-1', '2017-8-2', '2017-8-12', '2017-5-30', '2017-5-31', '2017-7-2', '2017-6-8', '2017-6-12', '2017-6-21', '2017-8-3', '2017-6-15', '2017-8-5', '2017-6-18', '2017-5-29', '2017-6-14', '2017-6-19', '2017-8-11', '2017-8-17', '2017-6-20', '2017-6-6', '2017-5-27', '2017-6-4', '2017-6-23', '2017-5-28', '2017-6-28', '2017-6-29', '2017-6-16', '2017-7-3', '2017-8-1', '2017-8-8', '2017-7-19', '2017-7-6', '2017-8-4', '2017-8-10', '2017-6-24', '2017-8-16'}\n"
   ]
  },
  {
   "cell_type": "code",
   "execution_count": null,
   "metadata": {
    "collapsed": true
   },
   "outputs": [],
   "source": []
  }
 ],
 "metadata": {
  "kernelspec": {
   "display_name": "Python 3",
   "language": "python",
   "name": "python3"
  },
  "language_info": {
   "codemirror_mode": {
    "name": "ipython",
    "version": 3
   },
   "file_extension": ".py",
   "mimetype": "text/x-python",
   "name": "python",
   "nbconvert_exporter": "python",
   "pygments_lexer": "ipython3",
   "version": "3.6.2"
  }
 },
 "nbformat": 4,
 "nbformat_minor": 2
}
