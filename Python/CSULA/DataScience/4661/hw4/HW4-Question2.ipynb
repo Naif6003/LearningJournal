{
 "cells": [
  {
   "cell_type": "markdown",
   "metadata": {},
   "source": [
    "# <center>CS 4661 Homework4_Question2</center>\n",
    "\n",
    "#### <div align = \"right\">Hiroko Itagaki    (CIN: 305064830) </div>\n",
    "\n",
    "#### <div align = \"right\"> Yosep Kim    (CIN: 220612403) </div>\n",
    "\n"
   ]
  },
  {
   "cell_type": "markdown",
   "metadata": {},
   "source": [
    "# Q2 Predict\tthe\tprobability\tof\tHeart\tDisease\t"
   ]
  },
  {
   "cell_type": "markdown",
   "metadata": {},
   "source": [
    "a- In\tthis\tquestion,\twe\twork\twith\ta\tsimplified\tversion\tof\tHeart\tdataset\t(remember\tthat\tthis\t\n",
    "dataset\t is\t a\t little\t different\t from\t what\t you\t have\t used\t in\t HW2).\t Read\t the\t dataset\t file\t\n",
    "“Hearts_short.csv”\t (you\t should\t download\t it\t from\t CSNS),\t and\t assign\t it\t to\t a\t Pandas\t\n",
    "DataFrame.\t"
   ]
  },
  {
   "cell_type": "code",
   "execution_count": 37,
   "metadata": {},
   "outputs": [
    {
     "data": {
      "text/html": [
       "<div>\n",
       "<style>\n",
       "    .dataframe thead tr:only-child th {\n",
       "        text-align: right;\n",
       "    }\n",
       "\n",
       "    .dataframe thead th {\n",
       "        text-align: left;\n",
       "    }\n",
       "\n",
       "    .dataframe tbody tr th {\n",
       "        vertical-align: top;\n",
       "    }\n",
       "</style>\n",
       "<table border=\"1\" class=\"dataframe\">\n",
       "  <thead>\n",
       "    <tr style=\"text-align: right;\">\n",
       "      <th></th>\n",
       "      <th>Age</th>\n",
       "      <th>RestBP</th>\n",
       "      <th>Chol</th>\n",
       "      <th>RestECG</th>\n",
       "      <th>MaxHR</th>\n",
       "      <th>Oldpeak</th>\n",
       "      <th>AHD</th>\n",
       "    </tr>\n",
       "  </thead>\n",
       "  <tbody>\n",
       "    <tr>\n",
       "      <th>0</th>\n",
       "      <td>63</td>\n",
       "      <td>145</td>\n",
       "      <td>233</td>\n",
       "      <td>2</td>\n",
       "      <td>150</td>\n",
       "      <td>2.3</td>\n",
       "      <td>No</td>\n",
       "    </tr>\n",
       "    <tr>\n",
       "      <th>1</th>\n",
       "      <td>67</td>\n",
       "      <td>160</td>\n",
       "      <td>286</td>\n",
       "      <td>2</td>\n",
       "      <td>108</td>\n",
       "      <td>1.5</td>\n",
       "      <td>Yes</td>\n",
       "    </tr>\n",
       "    <tr>\n",
       "      <th>2</th>\n",
       "      <td>67</td>\n",
       "      <td>120</td>\n",
       "      <td>229</td>\n",
       "      <td>2</td>\n",
       "      <td>129</td>\n",
       "      <td>2.6</td>\n",
       "      <td>Yes</td>\n",
       "    </tr>\n",
       "    <tr>\n",
       "      <th>3</th>\n",
       "      <td>37</td>\n",
       "      <td>130</td>\n",
       "      <td>250</td>\n",
       "      <td>0</td>\n",
       "      <td>187</td>\n",
       "      <td>3.5</td>\n",
       "      <td>No</td>\n",
       "    </tr>\n",
       "    <tr>\n",
       "      <th>4</th>\n",
       "      <td>41</td>\n",
       "      <td>130</td>\n",
       "      <td>204</td>\n",
       "      <td>2</td>\n",
       "      <td>172</td>\n",
       "      <td>1.4</td>\n",
       "      <td>No</td>\n",
       "    </tr>\n",
       "  </tbody>\n",
       "</table>\n",
       "</div>"
      ],
      "text/plain": [
       "   Age  RestBP  Chol  RestECG  MaxHR  Oldpeak  AHD\n",
       "0   63     145   233        2    150      2.3   No\n",
       "1   67     160   286        2    108      1.5  Yes\n",
       "2   67     120   229        2    129      2.6  Yes\n",
       "3   37     130   250        0    187      3.5   No\n",
       "4   41     130   204        2    172      1.4   No"
      ]
     },
     "execution_count": 37,
     "metadata": {},
     "output_type": "execute_result"
    }
   ],
   "source": [
    "from sklearn.linear_model import LogisticRegression\n",
    "from sklearn.cluster import KMeans\n",
    "from sklearn.model_selection import train_test_split\n",
    "from sklearn.metrics import accuracy_score\n",
    "from sklearn.model_selection import cross_val_score\n",
    "from sklearn import metrics\n",
    "import matplotlib.pyplot as plt\n",
    "import numpy as np\n",
    "import pandas as pd\n",
    "\n",
    "csv_file = 'Heart_short.csv'\n",
    "heart_df = pd.read_csv(csv_file)\n",
    "heart_df.head()\n"
   ]
  },
  {
   "cell_type": "markdown",
   "metadata": {},
   "source": [
    "b- Generate\tthe\tfeature\tmatrix\tand\tlabel\tvector\t(AHD).\tThen,\tnormalize\t(scale)\tthe\tfeatures.\t\t"
   ]
  },
  {
   "cell_type": "code",
   "execution_count": 38,
   "metadata": {},
   "outputs": [
    {
     "name": "stdout",
     "output_type": "stream",
     "text": [
      "   Age  RestBP  Chol  RestECG  MaxHR  Oldpeak\n",
      "0   63     145   233        2    150      2.3\n",
      "1   67     160   286        2    108      1.5\n",
      "2   67     120   229        2    129      2.6\n",
      "3   37     130   250        0    187      3.5\n",
      "4   41     130   204        2    172      1.4\n",
      "   AHD\n",
      "0   No\n",
      "1  Yes\n",
      "2  Yes\n",
      "3   No\n",
      "4   No\n"
     ]
    }
   ],
   "source": [
    "# create a python list of feature names that would like to pick from the dataset:\n",
    "temp_cols = heart_df.columns[:-1]\n",
    "feature_cols = list(temp_cols)\n",
    "\n",
    "y_temp = heart_df.columns[-1:]\n",
    "last_col = list(y_temp)\n",
    "\n",
    "# use the above list to select the features from the original DataFrame\n",
    "X = heart_df[list(temp_cols)]\n",
    "\n",
    "# select a Series of labels (the last column) from the DataFrame\n",
    "y = heard_df[list(y_temp)]\n",
    "print(X.head())\n",
    "print(y.head())"
   ]
  },
  {
   "cell_type": "markdown",
   "metadata": {},
   "source": [
    "## Normalize (scale) the features."
   ]
  },
  {
   "cell_type": "code",
   "execution_count": 39,
   "metadata": {},
   "outputs": [
    {
     "data": {
      "text/html": [
       "<div>\n",
       "<style>\n",
       "    .dataframe thead tr:only-child th {\n",
       "        text-align: right;\n",
       "    }\n",
       "\n",
       "    .dataframe thead th {\n",
       "        text-align: left;\n",
       "    }\n",
       "\n",
       "    .dataframe tbody tr th {\n",
       "        vertical-align: top;\n",
       "    }\n",
       "</style>\n",
       "<table border=\"1\" class=\"dataframe\">\n",
       "  <thead>\n",
       "    <tr style=\"text-align: right;\">\n",
       "      <th></th>\n",
       "      <th>Age</th>\n",
       "      <th>RestBP</th>\n",
       "      <th>Chol</th>\n",
       "      <th>RestECG</th>\n",
       "      <th>MaxHR</th>\n",
       "      <th>Oldpeak</th>\n",
       "    </tr>\n",
       "  </thead>\n",
       "  <tbody>\n",
       "    <tr>\n",
       "      <th>0</th>\n",
       "      <td>0.818182</td>\n",
       "      <td>0.725</td>\n",
       "      <td>0.413121</td>\n",
       "      <td>1.0</td>\n",
       "      <td>0.742574</td>\n",
       "      <td>0.370968</td>\n",
       "    </tr>\n",
       "    <tr>\n",
       "      <th>1</th>\n",
       "      <td>0.870130</td>\n",
       "      <td>0.800</td>\n",
       "      <td>0.507092</td>\n",
       "      <td>1.0</td>\n",
       "      <td>0.534653</td>\n",
       "      <td>0.241935</td>\n",
       "    </tr>\n",
       "    <tr>\n",
       "      <th>2</th>\n",
       "      <td>0.870130</td>\n",
       "      <td>0.600</td>\n",
       "      <td>0.406028</td>\n",
       "      <td>1.0</td>\n",
       "      <td>0.638614</td>\n",
       "      <td>0.419355</td>\n",
       "    </tr>\n",
       "    <tr>\n",
       "      <th>3</th>\n",
       "      <td>0.480519</td>\n",
       "      <td>0.650</td>\n",
       "      <td>0.443262</td>\n",
       "      <td>0.0</td>\n",
       "      <td>0.925743</td>\n",
       "      <td>0.564516</td>\n",
       "    </tr>\n",
       "    <tr>\n",
       "      <th>4</th>\n",
       "      <td>0.532468</td>\n",
       "      <td>0.650</td>\n",
       "      <td>0.361702</td>\n",
       "      <td>1.0</td>\n",
       "      <td>0.851485</td>\n",
       "      <td>0.225806</td>\n",
       "    </tr>\n",
       "  </tbody>\n",
       "</table>\n",
       "</div>"
      ],
      "text/plain": [
       "        Age  RestBP      Chol  RestECG     MaxHR   Oldpeak\n",
       "0  0.818182   0.725  0.413121      1.0  0.742574  0.370968\n",
       "1  0.870130   0.800  0.507092      1.0  0.534653  0.241935\n",
       "2  0.870130   0.600  0.406028      1.0  0.638614  0.419355\n",
       "3  0.480519   0.650  0.443262      0.0  0.925743  0.564516\n",
       "4  0.532468   0.650  0.361702      1.0  0.851485  0.225806"
      ]
     },
     "execution_count": 39,
     "metadata": {},
     "output_type": "execute_result"
    }
   ],
   "source": [
    "for f  in feature_cols:\n",
    "    max_feature = heart_df[f].max()\n",
    "    heart_df[f]= heart_df[f]/max_feature\n",
    "X= heart_df[feature_cols]\n",
    "X.head()"
   ]
  },
  {
   "cell_type": "markdown",
   "metadata": {},
   "source": [
    "c- Split\t the\t dataset\t into\t testing\t and\t training\t sets\t with\t the\t following\t parameters:\t\n",
    "test_size=0.2,\trandom_state=3.\t"
   ]
  },
  {
   "cell_type": "code",
   "execution_count": 42,
   "metadata": {},
   "outputs": [
    {
     "name": "stdout",
     "output_type": "stream",
     "text": [
      "(224, 6)\n",
      "(224, 1)\n",
      "(57, 6)\n",
      "(57, 1)\n"
     ]
    }
   ],
   "source": [
    "from sklearn.model_selection import train_test_split\n",
    "\n",
    "X_train, X_test, y_train, y_test = train_test_split(X, y, test_size=0.2, random_state=3)\n",
    "\n",
    "# print the size of the traning set:\n",
    "print(X_train.shape)\n",
    "print(y_train.shape)\n",
    "\n",
    "# print the size of the testing set:\n",
    "print(X_test.shape)\n",
    "print(y_test.shape)"
   ]
  },
  {
   "cell_type": "markdown",
   "metadata": {},
   "source": [
    "d- Use\t Logistic\t Regression\t Classifier\t to\t predict\t Heart\t Disease\t occurrence\t based\t on\t the\t\n",
    "training/testing\tdatasets\tthat\tyou\tbuilt\tin\tpart(c).\tThen,\tcompute\tand\treport\tthe\tAccuracy.\t\t"
   ]
  },
  {
   "cell_type": "code",
   "execution_count": 54,
   "metadata": {},
   "outputs": [
    {
     "name": "stdout",
     "output_type": "stream",
     "text": [
      "['No' 'Yes' 'No' 'No' 'No' 'No' 'No' 'No' 'No' 'No' 'Yes' 'No' 'Yes' 'No'\n",
      " 'No' 'No' 'Yes' 'No' 'Yes' 'Yes' 'No' 'No' 'Yes' 'No' 'Yes' 'Yes' 'No'\n",
      " 'No' 'No' 'No' 'Yes' 'Yes' 'Yes' 'No' 'No' 'Yes' 'Yes' 'No' 'Yes' 'No'\n",
      " 'No' 'Yes' 'No' 'No' 'Yes' 'Yes' 'No' 'No' 'Yes' 'No' 'No' 'Yes' 'No'\n",
      " 'Yes' 'No' 'No' 'No']\n",
      "The accuracy score:  0.719298245614\n"
     ]
    },
    {
     "name": "stderr",
     "output_type": "stream",
     "text": [
      "/home/cowboyuniverse/anaconda3/lib/python3.6/site-packages/sklearn/utils/validation.py:578: DataConversionWarning: A column-vector y was passed when a 1d array was expected. Please change the shape of y to (n_samples, ), for example using ravel().\n",
      "  y = column_or_1d(y, warn=True)\n"
     ]
    }
   ],
   "source": [
    "my_logreg = LogisticRegression()\n",
    "# Training ONLY on the training set:\n",
    "my_logreg.fit(X_train, y_train)\n",
    "y_predict_lr = my_logreg.predict(X_test)\n",
    "\n",
    "print(y_predict_lr)\n",
    "score_lr = accuracy_score(y_test, y_predict_lr)\n",
    "\n",
    "print(\"The accuracy score: \", score_lr)\n"
   ]
  },
  {
   "cell_type": "markdown",
   "metadata": {},
   "source": [
    "Use\tLogistic\tRegression\tClassifier\tto\tpredict\tthe\tprobability\tof\tHeart\tDisease\tbased\ton\tthe\t\n",
    "training/testing\tdatasets\tthat\tyou\tbuilt\tin\tpart\t(c)\t(you\thave\tto\tuse\t“my_logreg.predict_proba”\t\n",
    "method\trather\tthan\t“my_logreg.predict”).\tThen,\tPlot\tthe\tRoc\tCurve\tfor\tthis\tclassifier,\tand\talso\t\n",
    "Compute\tthe\tAUC\t(Area\tUnder\tCurve\tfor\tROC).\t"
   ]
  },
  {
   "cell_type": "code",
   "execution_count": 55,
   "metadata": {},
   "outputs": [
    {
     "name": "stdout",
     "output_type": "stream",
     "text": [
      "[[ 0.54236498  0.45763502]\n",
      " [ 0.49169739  0.50830261]\n",
      " [ 0.59935115  0.40064885]\n",
      " [ 0.5676068   0.4323932 ]\n",
      " [ 0.73307747  0.26692253]\n",
      " [ 0.66929693  0.33070307]\n",
      " [ 0.64766974  0.35233026]\n",
      " [ 0.78401267  0.21598733]\n",
      " [ 0.53144415  0.46855585]\n",
      " [ 0.6383591   0.3616409 ]\n",
      " [ 0.27965949  0.72034051]\n",
      " [ 0.82392552  0.17607448]\n",
      " [ 0.42056322  0.57943678]\n",
      " [ 0.5388658   0.4611342 ]\n",
      " [ 0.63595389  0.36404611]\n",
      " [ 0.78380419  0.21619581]\n",
      " [ 0.28187821  0.71812179]\n",
      " [ 0.63600438  0.36399562]\n",
      " [ 0.31417886  0.68582114]\n",
      " [ 0.47189868  0.52810132]\n",
      " [ 0.77698862  0.22301138]\n",
      " [ 0.70871789  0.29128211]\n",
      " [ 0.43480471  0.56519529]\n",
      " [ 0.82738236  0.17261764]\n",
      " [ 0.3912408   0.6087592 ]\n",
      " [ 0.47432641  0.52567359]\n",
      " [ 0.66524602  0.33475398]\n",
      " [ 0.54691832  0.45308168]\n",
      " [ 0.59812688  0.40187312]\n",
      " [ 0.70636273  0.29363727]\n",
      " [ 0.46876928  0.53123072]\n",
      " [ 0.40641578  0.59358422]\n",
      " [ 0.25279187  0.74720813]\n",
      " [ 0.73551083  0.26448917]\n",
      " [ 0.66729423  0.33270577]\n",
      " [ 0.11696564  0.88303436]\n",
      " [ 0.20887111  0.79112889]\n",
      " [ 0.70524836  0.29475164]\n",
      " [ 0.43267681  0.56732319]\n",
      " [ 0.51673021  0.48326979]\n",
      " [ 0.65325038  0.34674962]\n",
      " [ 0.33909258  0.66090742]\n",
      " [ 0.71886712  0.28113288]\n",
      " [ 0.68041227  0.31958773]\n",
      " [ 0.15877748  0.84122252]\n",
      " [ 0.45765807  0.54234193]\n",
      " [ 0.77782007  0.22217993]\n",
      " [ 0.7719195   0.2280805 ]\n",
      " [ 0.34252448  0.65747552]\n",
      " [ 0.65565261  0.34434739]\n",
      " [ 0.58979659  0.41020341]\n",
      " [ 0.31335397  0.68664603]\n",
      " [ 0.85288722  0.14711278]\n",
      " [ 0.38849559  0.61150441]\n",
      " [ 0.73425897  0.26574103]\n",
      " [ 0.77841201  0.22158799]\n",
      " [ 0.75619278  0.24380722]]\n",
      "[ 0.45763502  0.50830261  0.40064885  0.4323932   0.26692253  0.33070307\n",
      "  0.35233026  0.21598733  0.46855585  0.3616409   0.72034051  0.17607448\n",
      "  0.57943678  0.4611342   0.36404611  0.21619581  0.71812179  0.36399562\n",
      "  0.68582114  0.52810132  0.22301138  0.29128211  0.56519529  0.17261764\n",
      "  0.6087592   0.52567359  0.33475398  0.45308168  0.40187312  0.29363727\n",
      "  0.53123072  0.59358422  0.74720813  0.26448917  0.33270577  0.88303436\n",
      "  0.79112889  0.29475164  0.56732319  0.48326979  0.34674962  0.66090742\n",
      "  0.28113288  0.31958773  0.84122252  0.54234193  0.22217993  0.2280805\n",
      "  0.65747552  0.34434739  0.41020341  0.68664603  0.14711278  0.61150441\n",
      "  0.26574103  0.22158799  0.24380722]\n"
     ]
    }
   ],
   "source": [
    "\n",
    "# Estimating the probability (likelihood) of Each Label: \n",
    "y_predict_prob_lr = my_logreg.predict_proba(X_test)\n",
    "\n",
    "# This line prints the \"estimated likelihood of both label\" for the testing set:\n",
    "print(y_predict_prob_lr)\n",
    "\n",
    "# This line prints the \"estimated likelihood of label=1\" for the testing set:\n",
    "print(y_predict_prob_lr[:,1])\n"
   ]
  },
  {
   "cell_type": "code",
   "execution_count": 102,
   "metadata": {},
   "outputs": [
    {
     "name": "stdout",
     "output_type": "stream",
     "text": [
      "[ 0.          0.03333333  0.03333333  0.06666667  0.06666667  0.1         0.1\n",
      "  0.13333333  0.13333333  0.16666667  0.16666667  0.2         0.2\n",
      "  0.26666667  0.26666667  0.4         0.4         0.43333333  0.43333333\n",
      "  0.63333333  0.63333333  0.7         0.7         0.83333333  0.83333333\n",
      "  0.9         0.9         1.        ]\n",
      "[ 0.03703704  0.03703704  0.25925926  0.25925926  0.40740741  0.40740741\n",
      "  0.44444444  0.44444444  0.55555556  0.55555556  0.59259259  0.59259259\n",
      "  0.66666667  0.66666667  0.7037037   0.7037037   0.74074074  0.74074074\n",
      "  0.81481481  0.81481481  0.85185185  0.85185185  0.88888889  0.88888889\n",
      "  0.92592593  0.92592593  1.          1.        ]\n"
     ]
    }
   ],
   "source": [
    "# from sklearn import metrics\n",
    "def convert_from_string_to_binary(list_a):\n",
    "    temp_list = []\n",
    "    for item in list_a:\n",
    "        if item[:1] == 'No':\n",
    "            temp_list.append(0.0)\n",
    "        else:\n",
    "            temp_list.append(1.0)\n",
    "    return temp_list\n",
    "\n",
    "\n",
    "y_test_list = y_test.values\n",
    "converted_y_test_list = convert_from_string_to_binary(y_test_list)\n",
    "\n",
    "\n",
    "fpr, tpr, thresholds = metrics.roc_curve(converted_y_test_list, y_predict_prob_lr[:,1], pos_label=1)\n",
    "\n",
    "print(fpr)\n",
    "print(tpr)"
   ]
  },
  {
   "cell_type": "code",
   "execution_count": 103,
   "metadata": {},
   "outputs": [
    {
     "name": "stdout",
     "output_type": "stream",
     "text": [
      "0.73950617284\n"
     ]
    }
   ],
   "source": [
    "AUC = metrics.auc(fpr, tpr)\n",
    "print(AUC)"
   ]
  },
  {
   "cell_type": "code",
   "execution_count": 104,
   "metadata": {},
   "outputs": [
    {
     "data": {
      "image/png": "[encoded data removed]",
      "text/plain": [
       "<matplotlib.figure.Figure at 0x7fb67fde87b8>"
      ]
     },
     "metadata": {},
     "output_type": "display_data"
    }
   ],
   "source": [
    "# Importing the \"pyplot\" package of \"matplotlib\" library of python to generate \n",
    "# graphs and plot curves:\n",
    "import matplotlib.pyplot as plt\n",
    "\n",
    "# The following line will tell Jupyter Notebook to keep the figures inside the explorer page \n",
    "# rather than openng a new figure window:\n",
    "%matplotlib inline\n",
    "\n",
    "plt.figure()\n",
    "\n",
    "# Roc Curve:\n",
    "plt.plot(fpr, tpr, color='red', lw=2, \n",
    "         label='ROC Curve (area = %0.2f)' % AUC)\n",
    "\n",
    "# Random Guess line:\n",
    "plt.plot([0, 1], [0, 1], color='blue', lw=1, linestyle='--')\n",
    "\n",
    "# Defining The Range of X-Axis and Y-Axis:\n",
    "plt.xlim([-0.005, 1.005])\n",
    "plt.ylim([0.0, 1.01])\n",
    "\n",
    "# Labels, Title, Legend:\n",
    "plt.xlabel('False Positive Rate')\n",
    "plt.ylabel('True Positive Rate')\n",
    "plt.title('Receiver operating characteristic')\n",
    "plt.legend(loc=\"lower right\")\n",
    "\n",
    "plt.show()"
   ]
  },
  {
   "cell_type": "code",
   "execution_count": null,
   "metadata": {
    "collapsed": true
   },
   "outputs": [],
   "source": []
  }
 ],
 "metadata": {
  "kernelspec": {
   "display_name": "Python 3",
   "language": "python",
   "name": "python3"
  },
  "language_info": {
   "codemirror_mode": {
    "name": "ipython",
    "version": 3
   },
   "file_extension": ".py",
   "mimetype": "text/x-python",
   "name": "python",
   "nbconvert_exporter": "python",
   "pygments_lexer": "ipython3",
   "version": "3.6.2"
  }
 },
 "nbformat": 4,
 "nbformat_minor": 2
}
