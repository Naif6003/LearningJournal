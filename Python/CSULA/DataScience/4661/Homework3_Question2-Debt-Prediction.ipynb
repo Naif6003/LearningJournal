{
 "cells": [
  {
   "cell_type": "markdown",
   "metadata": {},
   "source": [
    "# <center>CS 4661 Homework3_Question2</center>\n",
    "\n",
    "#### <div align = \"right\">Hiroko Itagaki    (CIN: 305064830) </div>\n",
    "\n",
    "#### <div align = \"right\"> Yosep Kim    (CIN: 220612403) </div>\n",
    "\n",
    "# Question2:\tDebt\tPrediction"
   ]
  },
  {
   "cell_type": "markdown",
   "metadata": {},
   "source": [
    "### a- Read\tthe\tdataset\tfile\t“Credit.csv”\t(you\tshould\tdownload\tit\tfrom\tCSNS),\tand\tassign\tit\tto\ta\t\n",
    "\t"
   ]
  },
  {
   "cell_type": "code",
   "execution_count": 1,
   "metadata": {},
   "outputs": [
    {
     "name": "stderr",
     "output_type": "stream",
     "text": [
      "/home/cowboyuniverse/anaconda3/lib/python3.6/site-packages/sklearn/cross_validation.py:41: DeprecationWarning: This module was deprecated in version 0.18 in favor of the model_selection module into which all the refactored classes and functions are moved. Also note that the interface of the new CV iterators are different from that of this module. This module will be removed in 0.20.\n",
      "  \"This module will be removed in 0.20.\", DeprecationWarning)\n"
     ]
    }
   ],
   "source": [
    "import pandas as pd\n",
    "import numpy as np\n",
    "from sklearn import metrics\n",
    "from sklearn.cross_validation import train_test_split\n",
    "from sklearn.linear_model import LinearRegression\n",
    "from sklearn.metrics import accuracy_score \n",
    "\n",
    "# errror whit using this, used model_selection instead\n",
    "from sklearn.cross_validation import cross_val_score\n",
    "from sklearn.model_selection import cross_val_score\n",
    "from sklearn.model_selection import train_test_split\n",
    "\n",
    "\n",
    "\n",
    "a = pd.read_csv('Credit.csv')\n",
    "        "
   ]
  },
  {
   "cell_type": "markdown",
   "metadata": {
    "collapsed": true
   },
   "source": [
    "### b- Check\tout\tthe\tdataset.\tThe\t“Credit”\tdataset\tincludes\t“balance”\tcolumn\t(average\tcredit\t card\tdebt\tfor\ta\tnumber\tof\tindividuals)\tas\ttarget,\tas\twell\tas\tseveral\tfeatures:\tage,\tcards (number\tof\tcredit\tcards),\teducation\t(years\tof\teducation),\tincome\t(in\tthousands\tof\tdollars), limit\t(credit\tlimit),\tmarital\tstatus,\tand\trating\t(credit\trating).\t"
   ]
  },
  {
   "cell_type": "code",
   "execution_count": 2,
   "metadata": {},
   "outputs": [
    {
     "data": {
      "text/html": [
       "<div>\n",
       "<style>\n",
       "    .dataframe thead tr:only-child th {\n",
       "        text-align: right;\n",
       "    }\n",
       "\n",
       "    .dataframe thead th {\n",
       "        text-align: left;\n",
       "    }\n",
       "\n",
       "    .dataframe tbody tr th {\n",
       "        vertical-align: top;\n",
       "    }\n",
       "</style>\n",
       "<table border=\"1\" class=\"dataframe\">\n",
       "  <thead>\n",
       "    <tr style=\"text-align: right;\">\n",
       "      <th></th>\n",
       "      <th>Income</th>\n",
       "      <th>Limit</th>\n",
       "      <th>Rating</th>\n",
       "      <th>Cards</th>\n",
       "      <th>Age</th>\n",
       "      <th>Education</th>\n",
       "      <th>Married</th>\n",
       "      <th>Balance</th>\n",
       "    </tr>\n",
       "  </thead>\n",
       "  <tbody>\n",
       "    <tr>\n",
       "      <th>0</th>\n",
       "      <td>14.891</td>\n",
       "      <td>3606</td>\n",
       "      <td>283</td>\n",
       "      <td>2</td>\n",
       "      <td>34</td>\n",
       "      <td>11</td>\n",
       "      <td>1</td>\n",
       "      <td>333</td>\n",
       "    </tr>\n",
       "    <tr>\n",
       "      <th>15</th>\n",
       "      <td>20.089</td>\n",
       "      <td>2525</td>\n",
       "      <td>200</td>\n",
       "      <td>3</td>\n",
       "      <td>57</td>\n",
       "      <td>15</td>\n",
       "      <td>1</td>\n",
       "      <td>0</td>\n",
       "    </tr>\n",
       "    <tr>\n",
       "      <th>30</th>\n",
       "      <td>34.142</td>\n",
       "      <td>5666</td>\n",
       "      <td>413</td>\n",
       "      <td>4</td>\n",
       "      <td>47</td>\n",
       "      <td>5</td>\n",
       "      <td>1</td>\n",
       "      <td>863</td>\n",
       "    </tr>\n",
       "    <tr>\n",
       "      <th>45</th>\n",
       "      <td>77.380</td>\n",
       "      <td>7569</td>\n",
       "      <td>564</td>\n",
       "      <td>3</td>\n",
       "      <td>50</td>\n",
       "      <td>12</td>\n",
       "      <td>1</td>\n",
       "      <td>997</td>\n",
       "    </tr>\n",
       "    <tr>\n",
       "      <th>60</th>\n",
       "      <td>35.510</td>\n",
       "      <td>5198</td>\n",
       "      <td>364</td>\n",
       "      <td>2</td>\n",
       "      <td>35</td>\n",
       "      <td>20</td>\n",
       "      <td>0</td>\n",
       "      <td>631</td>\n",
       "    </tr>\n",
       "    <tr>\n",
       "      <th>75</th>\n",
       "      <td>33.017</td>\n",
       "      <td>3180</td>\n",
       "      <td>224</td>\n",
       "      <td>2</td>\n",
       "      <td>28</td>\n",
       "      <td>16</td>\n",
       "      <td>1</td>\n",
       "      <td>29</td>\n",
       "    </tr>\n",
       "    <tr>\n",
       "      <th>90</th>\n",
       "      <td>20.191</td>\n",
       "      <td>5767</td>\n",
       "      <td>431</td>\n",
       "      <td>4</td>\n",
       "      <td>42</td>\n",
       "      <td>16</td>\n",
       "      <td>1</td>\n",
       "      <td>1023</td>\n",
       "    </tr>\n",
       "    <tr>\n",
       "      <th>105</th>\n",
       "      <td>12.031</td>\n",
       "      <td>3182</td>\n",
       "      <td>259</td>\n",
       "      <td>2</td>\n",
       "      <td>58</td>\n",
       "      <td>18</td>\n",
       "      <td>1</td>\n",
       "      <td>210</td>\n",
       "    </tr>\n",
       "    <tr>\n",
       "      <th>120</th>\n",
       "      <td>27.241</td>\n",
       "      <td>1402</td>\n",
       "      <td>128</td>\n",
       "      <td>2</td>\n",
       "      <td>67</td>\n",
       "      <td>15</td>\n",
       "      <td>1</td>\n",
       "      <td>0</td>\n",
       "    </tr>\n",
       "    <tr>\n",
       "      <th>135</th>\n",
       "      <td>44.473</td>\n",
       "      <td>3500</td>\n",
       "      <td>257</td>\n",
       "      <td>3</td>\n",
       "      <td>81</td>\n",
       "      <td>16</td>\n",
       "      <td>0</td>\n",
       "      <td>8</td>\n",
       "    </tr>\n",
       "    <tr>\n",
       "      <th>150</th>\n",
       "      <td>63.931</td>\n",
       "      <td>5728</td>\n",
       "      <td>435</td>\n",
       "      <td>3</td>\n",
       "      <td>28</td>\n",
       "      <td>14</td>\n",
       "      <td>1</td>\n",
       "      <td>581</td>\n",
       "    </tr>\n",
       "    <tr>\n",
       "      <th>165</th>\n",
       "      <td>25.383</td>\n",
       "      <td>4527</td>\n",
       "      <td>367</td>\n",
       "      <td>4</td>\n",
       "      <td>46</td>\n",
       "      <td>11</td>\n",
       "      <td>1</td>\n",
       "      <td>570</td>\n",
       "    </tr>\n",
       "    <tr>\n",
       "      <th>180</th>\n",
       "      <td>10.635</td>\n",
       "      <td>3584</td>\n",
       "      <td>294</td>\n",
       "      <td>5</td>\n",
       "      <td>69</td>\n",
       "      <td>16</td>\n",
       "      <td>1</td>\n",
       "      <td>423</td>\n",
       "    </tr>\n",
       "    <tr>\n",
       "      <th>195</th>\n",
       "      <td>23.883</td>\n",
       "      <td>5384</td>\n",
       "      <td>398</td>\n",
       "      <td>2</td>\n",
       "      <td>73</td>\n",
       "      <td>16</td>\n",
       "      <td>1</td>\n",
       "      <td>802</td>\n",
       "    </tr>\n",
       "    <tr>\n",
       "      <th>210</th>\n",
       "      <td>24.543</td>\n",
       "      <td>3206</td>\n",
       "      <td>243</td>\n",
       "      <td>2</td>\n",
       "      <td>62</td>\n",
       "      <td>12</td>\n",
       "      <td>1</td>\n",
       "      <td>95</td>\n",
       "    </tr>\n",
       "    <tr>\n",
       "      <th>225</th>\n",
       "      <td>15.079</td>\n",
       "      <td>5673</td>\n",
       "      <td>411</td>\n",
       "      <td>4</td>\n",
       "      <td>28</td>\n",
       "      <td>15</td>\n",
       "      <td>1</td>\n",
       "      <td>1075</td>\n",
       "    </tr>\n",
       "    <tr>\n",
       "      <th>240</th>\n",
       "      <td>29.705</td>\n",
       "      <td>3351</td>\n",
       "      <td>262</td>\n",
       "      <td>5</td>\n",
       "      <td>71</td>\n",
       "      <td>14</td>\n",
       "      <td>1</td>\n",
       "      <td>148</td>\n",
       "    </tr>\n",
       "    <tr>\n",
       "      <th>255</th>\n",
       "      <td>58.063</td>\n",
       "      <td>4221</td>\n",
       "      <td>304</td>\n",
       "      <td>3</td>\n",
       "      <td>50</td>\n",
       "      <td>8</td>\n",
       "      <td>0</td>\n",
       "      <td>118</td>\n",
       "    </tr>\n",
       "    <tr>\n",
       "      <th>270</th>\n",
       "      <td>15.866</td>\n",
       "      <td>3085</td>\n",
       "      <td>217</td>\n",
       "      <td>1</td>\n",
       "      <td>39</td>\n",
       "      <td>13</td>\n",
       "      <td>0</td>\n",
       "      <td>136</td>\n",
       "    </tr>\n",
       "    <tr>\n",
       "      <th>285</th>\n",
       "      <td>18.967</td>\n",
       "      <td>1626</td>\n",
       "      <td>156</td>\n",
       "      <td>2</td>\n",
       "      <td>41</td>\n",
       "      <td>11</td>\n",
       "      <td>1</td>\n",
       "      <td>0</td>\n",
       "    </tr>\n",
       "    <tr>\n",
       "      <th>300</th>\n",
       "      <td>21.786</td>\n",
       "      <td>4632</td>\n",
       "      <td>355</td>\n",
       "      <td>1</td>\n",
       "      <td>50</td>\n",
       "      <td>17</td>\n",
       "      <td>1</td>\n",
       "      <td>580</td>\n",
       "    </tr>\n",
       "    <tr>\n",
       "      <th>315</th>\n",
       "      <td>14.479</td>\n",
       "      <td>3907</td>\n",
       "      <td>296</td>\n",
       "      <td>3</td>\n",
       "      <td>43</td>\n",
       "      <td>16</td>\n",
       "      <td>1</td>\n",
       "      <td>463</td>\n",
       "    </tr>\n",
       "    <tr>\n",
       "      <th>330</th>\n",
       "      <td>20.405</td>\n",
       "      <td>4543</td>\n",
       "      <td>329</td>\n",
       "      <td>2</td>\n",
       "      <td>72</td>\n",
       "      <td>17</td>\n",
       "      <td>0</td>\n",
       "      <td>1054</td>\n",
       "    </tr>\n",
       "    <tr>\n",
       "      <th>345</th>\n",
       "      <td>30.012</td>\n",
       "      <td>1511</td>\n",
       "      <td>137</td>\n",
       "      <td>2</td>\n",
       "      <td>33</td>\n",
       "      <td>17</td>\n",
       "      <td>1</td>\n",
       "      <td>0</td>\n",
       "    </tr>\n",
       "    <tr>\n",
       "      <th>360</th>\n",
       "      <td>53.566</td>\n",
       "      <td>5891</td>\n",
       "      <td>434</td>\n",
       "      <td>4</td>\n",
       "      <td>82</td>\n",
       "      <td>10</td>\n",
       "      <td>0</td>\n",
       "      <td>712</td>\n",
       "    </tr>\n",
       "    <tr>\n",
       "      <th>375</th>\n",
       "      <td>20.974</td>\n",
       "      <td>5673</td>\n",
       "      <td>413</td>\n",
       "      <td>5</td>\n",
       "      <td>44</td>\n",
       "      <td>16</td>\n",
       "      <td>1</td>\n",
       "      <td>1000</td>\n",
       "    </tr>\n",
       "    <tr>\n",
       "      <th>390</th>\n",
       "      <td>135.118</td>\n",
       "      <td>10578</td>\n",
       "      <td>747</td>\n",
       "      <td>3</td>\n",
       "      <td>81</td>\n",
       "      <td>15</td>\n",
       "      <td>1</td>\n",
       "      <td>1393</td>\n",
       "    </tr>\n",
       "  </tbody>\n",
       "</table>\n",
       "</div>"
      ],
      "text/plain": [
       "      Income  Limit  Rating  Cards  Age  Education  Married  Balance\n",
       "0     14.891   3606     283      2   34         11        1      333\n",
       "15    20.089   2525     200      3   57         15        1        0\n",
       "30    34.142   5666     413      4   47          5        1      863\n",
       "45    77.380   7569     564      3   50         12        1      997\n",
       "60    35.510   5198     364      2   35         20        0      631\n",
       "75    33.017   3180     224      2   28         16        1       29\n",
       "90    20.191   5767     431      4   42         16        1     1023\n",
       "105   12.031   3182     259      2   58         18        1      210\n",
       "120   27.241   1402     128      2   67         15        1        0\n",
       "135   44.473   3500     257      3   81         16        0        8\n",
       "150   63.931   5728     435      3   28         14        1      581\n",
       "165   25.383   4527     367      4   46         11        1      570\n",
       "180   10.635   3584     294      5   69         16        1      423\n",
       "195   23.883   5384     398      2   73         16        1      802\n",
       "210   24.543   3206     243      2   62         12        1       95\n",
       "225   15.079   5673     411      4   28         15        1     1075\n",
       "240   29.705   3351     262      5   71         14        1      148\n",
       "255   58.063   4221     304      3   50          8        0      118\n",
       "270   15.866   3085     217      1   39         13        0      136\n",
       "285   18.967   1626     156      2   41         11        1        0\n",
       "300   21.786   4632     355      1   50         17        1      580\n",
       "315   14.479   3907     296      3   43         16        1      463\n",
       "330   20.405   4543     329      2   72         17        0     1054\n",
       "345   30.012   1511     137      2   33         17        1        0\n",
       "360   53.566   5891     434      4   82         10        0      712\n",
       "375   20.974   5673     413      5   44         16        1     1000\n",
       "390  135.118  10578     747      3   81         15        1     1393"
      ]
     },
     "execution_count": 2,
     "metadata": {},
     "output_type": "execute_result"
    }
   ],
   "source": [
    "a[::15]"
   ]
  },
  {
   "cell_type": "markdown",
   "metadata": {},
   "source": [
    "### c- Generate\tthe\tfeature\tmatrix\tand\ttarget\tvector\t(target\tis\t“balance”\tin\tthis\tdataset).\tThen, normalize\t(scale)\tthe\tfeatures\t(note:\tdon’t\tnormalize\tthe\ttarget\tvector!).\t"
   ]
  },
  {
   "cell_type": "code",
   "execution_count": 3,
   "metadata": {},
   "outputs": [
    {
     "data": {
      "text/html": [
       "<div>\n",
       "<style>\n",
       "    .dataframe thead tr:only-child th {\n",
       "        text-align: right;\n",
       "    }\n",
       "\n",
       "    .dataframe thead th {\n",
       "        text-align: left;\n",
       "    }\n",
       "\n",
       "    .dataframe tbody tr th {\n",
       "        vertical-align: top;\n",
       "    }\n",
       "</style>\n",
       "<table border=\"1\" class=\"dataframe\">\n",
       "  <thead>\n",
       "    <tr style=\"text-align: right;\">\n",
       "      <th></th>\n",
       "      <th>Income</th>\n",
       "      <th>Limit</th>\n",
       "      <th>Rating</th>\n",
       "      <th>Cards</th>\n",
       "      <th>Age</th>\n",
       "      <th>Education</th>\n",
       "      <th>Married</th>\n",
       "    </tr>\n",
       "  </thead>\n",
       "  <tbody>\n",
       "    <tr>\n",
       "      <th>0</th>\n",
       "      <td>0.079787</td>\n",
       "      <td>0.259182</td>\n",
       "      <td>0.288187</td>\n",
       "      <td>0.222222</td>\n",
       "      <td>0.346939</td>\n",
       "      <td>0.55</td>\n",
       "      <td>1.0</td>\n",
       "    </tr>\n",
       "    <tr>\n",
       "      <th>1</th>\n",
       "      <td>0.568090</td>\n",
       "      <td>0.477611</td>\n",
       "      <td>0.491853</td>\n",
       "      <td>0.333333</td>\n",
       "      <td>0.836735</td>\n",
       "      <td>0.75</td>\n",
       "      <td>1.0</td>\n",
       "    </tr>\n",
       "    <tr>\n",
       "      <th>2</th>\n",
       "      <td>0.560418</td>\n",
       "      <td>0.508517</td>\n",
       "      <td>0.523422</td>\n",
       "      <td>0.444444</td>\n",
       "      <td>0.724490</td>\n",
       "      <td>0.55</td>\n",
       "      <td>0.0</td>\n",
       "    </tr>\n",
       "    <tr>\n",
       "      <th>3</th>\n",
       "      <td>0.797947</td>\n",
       "      <td>0.683102</td>\n",
       "      <td>0.693483</td>\n",
       "      <td>0.333333</td>\n",
       "      <td>0.367347</td>\n",
       "      <td>0.55</td>\n",
       "      <td>0.0</td>\n",
       "    </tr>\n",
       "    <tr>\n",
       "      <th>4</th>\n",
       "      <td>0.299420</td>\n",
       "      <td>0.351973</td>\n",
       "      <td>0.363544</td>\n",
       "      <td>0.222222</td>\n",
       "      <td>0.693878</td>\n",
       "      <td>0.80</td>\n",
       "      <td>1.0</td>\n",
       "    </tr>\n",
       "  </tbody>\n",
       "</table>\n",
       "</div>"
      ],
      "text/plain": [
       "     Income     Limit    Rating     Cards       Age  Education  Married\n",
       "0  0.079787  0.259182  0.288187  0.222222  0.346939       0.55      1.0\n",
       "1  0.568090  0.477611  0.491853  0.333333  0.836735       0.75      1.0\n",
       "2  0.560418  0.508517  0.523422  0.444444  0.724490       0.55      0.0\n",
       "3  0.797947  0.683102  0.693483  0.333333  0.367347       0.55      0.0\n",
       "4  0.299420  0.351973  0.363544  0.222222  0.693878       0.80      1.0"
      ]
     },
     "execution_count": 3,
     "metadata": {},
     "output_type": "execute_result"
    }
   ],
   "source": [
    "feature_cols = ['Income', 'Limit' ,'Rating', 'Cards' ,'Age' ,'Education' ,'Married' ]\n",
    "for f  in feature_cols:\n",
    "    max_feature = a[f].max()\n",
    "    a[f]= a[f]/max_feature\n",
    "X= a[feature_cols]\n",
    "X.head()"
   ]
  },
  {
   "cell_type": "code",
   "execution_count": 4,
   "metadata": {
    "collapsed": true
   },
   "outputs": [],
   "source": [
    "y = a['Balance']\n",
    "# y.head()"
   ]
  },
  {
   "cell_type": "markdown",
   "metadata": {},
   "source": [
    "### d- Split\t the\t dataset\t into\t testing\t and\t training\t sets\t with\t the\t following\t parameters: test_size=0.2,\trandom_state=2.\t"
   ]
  },
  {
   "cell_type": "code",
   "execution_count": 5,
   "metadata": {
    "collapsed": true
   },
   "outputs": [],
   "source": [
    "from sklearn.model_selection import train_test_split\n",
    "\n",
    "X_train, X_test, y_train, y_test = train_test_split(X, y, test_size=0.2, random_state=2) \n",
    "\n",
    "# print(X_train.shape)\n",
    "# print(y_train.shape)\n",
    "\n",
    "# print(X_test.shape)\n",
    "# print(y_test.shape)"
   ]
  },
  {
   "cell_type": "markdown",
   "metadata": {},
   "source": [
    "### e- Use\tLinear\tRegression\tto\ttrain\ta\tlinear\tmodel\ton\tthe\ttraining\tset.\tCheck\tthe\tcoefficients\tof\t the\tlinear\tregression\tmodel.\tWhich\tfeature\tis\tthe\tmost\timportant?\tWhich\tfeature\tis\tthe\t least\timportant?\t\t"
   ]
  },
  {
   "cell_type": "code",
   "execution_count": 6,
   "metadata": {},
   "outputs": [
    {
     "name": "stdout",
     "output_type": "stream",
     "text": [
      "-451.390136282\n"
     ]
    }
   ],
   "source": [
    "my_linreg = LinearRegression()\n",
    "my_linreg.fit(X_train, y_train)\n",
    "# printing Theta0 using attribute \"intercept_\":\n",
    "print(my_linreg.intercept_)"
   ]
  },
  {
   "cell_type": "code",
   "execution_count": 7,
   "metadata": {
    "scrolled": true
   },
   "outputs": [
    {
     "data": {
      "text/plain": [
       "['Income', 'Limit', 'Rating', 'Cards', 'Age', 'Education', 'Married']"
      ]
     },
     "execution_count": 7,
     "metadata": {},
     "output_type": "execute_result"
    }
   ],
   "source": [
    "linear_regression = my_linreg.coef_\n",
    "feature_cols"
   ]
  },
  {
   "cell_type": "code",
   "execution_count": 8,
   "metadata": {},
   "outputs": [
    {
     "data": {
      "text/html": [
       "<div>\n",
       "<style>\n",
       "    .dataframe thead tr:only-child th {\n",
       "        text-align: right;\n",
       "    }\n",
       "\n",
       "    .dataframe thead th {\n",
       "        text-align: left;\n",
       "    }\n",
       "\n",
       "    .dataframe tbody tr th {\n",
       "        vertical-align: top;\n",
       "    }\n",
       "</style>\n",
       "<table border=\"1\" class=\"dataframe\">\n",
       "  <thead>\n",
       "    <tr style=\"text-align: right;\">\n",
       "      <th></th>\n",
       "      <th>features</th>\n",
       "      <th>my_linreg</th>\n",
       "    </tr>\n",
       "  </thead>\n",
       "  <tbody>\n",
       "    <tr>\n",
       "      <th>0</th>\n",
       "      <td>Income</td>\n",
       "      <td>-1413.472225</td>\n",
       "    </tr>\n",
       "    <tr>\n",
       "      <th>1</th>\n",
       "      <td>Limit</td>\n",
       "      <td>1357.754109</td>\n",
       "    </tr>\n",
       "    <tr>\n",
       "      <th>2</th>\n",
       "      <td>Rating</td>\n",
       "      <td>2441.300429</td>\n",
       "    </tr>\n",
       "    <tr>\n",
       "      <th>3</th>\n",
       "      <td>Cards</td>\n",
       "      <td>103.525487</td>\n",
       "    </tr>\n",
       "    <tr>\n",
       "      <th>4</th>\n",
       "      <td>Age</td>\n",
       "      <td>-102.024335</td>\n",
       "    </tr>\n",
       "    <tr>\n",
       "      <th>5</th>\n",
       "      <td>Education</td>\n",
       "      <td>40.340443</td>\n",
       "    </tr>\n",
       "    <tr>\n",
       "      <th>6</th>\n",
       "      <td>Married</td>\n",
       "      <td>-48.455226</td>\n",
       "    </tr>\n",
       "  </tbody>\n",
       "</table>\n",
       "</div>"
      ],
      "text/plain": [
       "    features    my_linreg\n",
       "0     Income -1413.472225\n",
       "1      Limit  1357.754109\n",
       "2     Rating  2441.300429\n",
       "3      Cards   103.525487\n",
       "4        Age  -102.024335\n",
       "5  Education    40.340443\n",
       "6    Married   -48.455226"
      ]
     },
     "execution_count": 8,
     "metadata": {},
     "output_type": "execute_result"
    }
   ],
   "source": [
    "import numpy as np\n",
    "features = np.array(feature_cols)\n",
    "lr = np.array(linear_regression)\n",
    "my_linreg_df = pd.DataFrame({'features':features, 'my_linreg':lr})\n",
    "\n",
    "my_linreg_df\n",
    "\n",
    "# my_linreg_df.max()\n",
    "# my_linreg_df.min()"
   ]
  },
  {
   "cell_type": "markdown",
   "metadata": {},
   "source": [
    "### The most important feature is Rating  2441.3 and Least is Age -1413.47"
   ]
  },
  {
   "cell_type": "markdown",
   "metadata": {},
   "source": [
    "### f- Predict\t“balance”\tfor\tthe\tusers\tin\ttesting\tset.\tThen,\tcompare\tthe\tpredicted\tbalance\twith the\tactual\tbalance\tby\tcalculating\tand\treporting\tthe\tRMSE\t(as\twe\tsaw\tin\tlab\ttutorial\t4)."
   ]
  },
  {
   "cell_type": "code",
   "execution_count": 9,
   "metadata": {
    "collapsed": true
   },
   "outputs": [],
   "source": [
    "y_prediction = my_linreg.predict(X_test)\n",
    "# print(y_prediction)\n"
   ]
  },
  {
   "cell_type": "code",
   "execution_count": 10,
   "metadata": {},
   "outputs": [
    {
     "name": "stdout",
     "output_type": "stream",
     "text": [
      "Root Mean Square Error is 154.410746767\n"
     ]
    }
   ],
   "source": [
    "from sklearn import metrics\n",
    "import numpy as np\n",
    "\n",
    "mse = metrics.mean_squared_error(y_test, y_prediction)\n",
    "rmse = np.sqrt(mse) \n",
    "\n",
    "print( 'Root Mean Square Error is ' + str(rmse))"
   ]
  },
  {
   "cell_type": "markdown",
   "metadata": {},
   "source": [
    "### g- Now,\tuse\t10-fold\tCross-Validation\tto\tevaluate\tthe\tperformance\tof\ta\tlinear\tregression\tin\tpredicting\tthe\tbalance.\tThus,\trather\tthan\tsplitting\tthe\tdataset\tinto\ttesting\tand\ttraining, use\tCross-Validation\tto\tevaluate\tthe\tregression\tperformance.\tWhat\tis\tthe\tRMSE\twhen\tyou\tuse\tcross\tvalidation?\t"
   ]
  },
  {
   "cell_type": "code",
   "execution_count": 11,
   "metadata": {
    "scrolled": true
   },
   "outputs": [
    {
     "name": "stdout",
     "output_type": "stream",
     "text": [
      "160.331989107\n"
     ]
    }
   ],
   "source": [
    "accuracy_list = cross_val_score(my_linreg, X, y, cv=10, scoring='neg_mean_squared_error')\n",
    "# print(accuracy_list)from sklearn.cross_validation import cross_val_score\n",
    "# from sklearn.model_selection import cross_val_score\n",
    "\n",
    "mse_list_positive = -accuracy_list\n",
    "rmse_list = np.sqrt(mse_list_positive)\n",
    "# print(rmse_list)\n",
    "\n",
    "print(rmse_list.mean())"
   ]
  },
  {
   "cell_type": "markdown",
   "metadata": {},
   "source": [
    "### When we use cross validation, RMSE is 160.331989107"
   ]
  },
  {
   "cell_type": "code",
   "execution_count": null,
   "metadata": {
    "collapsed": true,
    "scrolled": true
   },
   "outputs": [],
   "source": []
  }
 ],
 "metadata": {
  "kernelspec": {
   "display_name": "Python 3",
   "language": "python",
   "name": "python3"
  },
  "language_info": {
   "codemirror_mode": {
    "name": "ipython",
    "version": 3
   },
   "file_extension": ".py",
   "mimetype": "text/x-python",
   "name": "python",
   "nbconvert_exporter": "python",
   "pygments_lexer": "ipython3",
   "version": "3.6.2"
  }
 },
 "nbformat": 4,
 "nbformat_minor": 2
}
