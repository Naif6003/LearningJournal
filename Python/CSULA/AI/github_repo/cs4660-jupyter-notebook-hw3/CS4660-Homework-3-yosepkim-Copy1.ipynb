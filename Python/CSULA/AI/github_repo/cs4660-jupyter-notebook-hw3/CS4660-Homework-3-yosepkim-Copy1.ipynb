{
 "cells": [
  {
   "cell_type": "markdown",
   "metadata": {},
   "source": [
    "Do some machine learning on data found here http://mlr.cs.umass.edu/ml/machine-learning-databases/adult/using aimed at predicting whether or not a person will make over 50k a year. Do it in an IPython Notebook. Look in adult.data for the data, save it as a csv file. The adult.names file has information about the set. \n",
    "\n",
    "# [DONE] 2 pts Create a notebook.\n"
   ]
  },
  {
   "cell_type": "markdown",
   "metadata": {},
   "source": [
    "### Changed Features for dataframe as described in  adult.names for readability\n",
    "### age, workclass, fnlwgt, education, education-num, marital-status, occupation, relationship, race, sex capital-gain, capital-loss, hours-per-week: continuous, native-country"
   ]
  },
  {
   "cell_type": "code",
   "execution_count": 9,
   "metadata": {},
   "outputs": [
    {
     "name": "stderr",
     "output_type": "stream",
     "text": [
      "/home/cowboyuniverse/anaconda3/lib/python3.6/site-packages/ipykernel_launcher.py:9: ParserWarning: Falling back to the 'python' engine because the 'c' engine does not support regex separators (separators > 1 char and different from '\\s+' are interpreted as regex); you can avoid this warning by specifying engine='python'.\n",
      "  if __name__ == '__main__':\n"
     ]
    },
    {
     "name": "stdout",
     "output_type": "stream",
     "text": [
      "<class 'pandas.core.frame.DataFrame'>\n",
      "RangeIndex: 32561 entries, 0 to 32560\n",
      "Data columns (total 15 columns):\n",
      "age               32561 non-null int64\n",
      "workclass         30725 non-null object\n",
      "fnlwgt            32561 non-null int64\n",
      "education         32561 non-null object\n",
      "education_num     32561 non-null int64\n",
      "marital_status    32561 non-null object\n",
      "occupation        30718 non-null object\n",
      "relationship      32561 non-null object\n",
      "race              32561 non-null object\n",
      "gender            32561 non-null object\n",
      "capital_gain      32561 non-null int64\n",
      "capital_loss      32561 non-null int64\n",
      "hours_per_week    32561 non-null int64\n",
      "native_country    31978 non-null object\n",
      "income            32561 non-null object\n",
      "dtypes: int64(6), object(9)\n",
      "memory usage: 3.7+ MB\n"
     ]
    },
    {
     "name": "stderr",
     "output_type": "stream",
     "text": [
      "/home/cowboyuniverse/anaconda3/lib/python3.6/site-packages/ipykernel_launcher.py:10: ParserWarning: Falling back to the 'python' engine because the 'c' engine does not support regex separators (separators > 1 char and different from '\\s+' are interpreted as regex); you can avoid this warning by specifying engine='python'.\n",
      "  # Remove the CWD from sys.path while we load stuff.\n"
     ]
    }
   ],
   "source": [
    "import pandas as pd\n",
    "import numpy as np\n",
    "\n",
    "train_data = 'adult.data'\n",
    "test_data = 'adult.test'\n",
    "features = [\"age\", \"workclass\", \"fnlwgt\", \"education\", \"education_num\",\n",
    "           \"marital_status\", \"occupation\", \"relationship\", \"race\", \"gender\",\n",
    "           \"capital_gain\", \"capital_loss\", \"hours_per_week\", \"native_country\",\n",
    "           \"income\"]\n",
    "train_df = pd.read_csv(train_data, header=None, names=features, sep=',\\s', na_values=[\"?\"])\n",
    "test_df = pd.read_csv(test_data, header=None, names=features, sep=',\\s', na_values=[\"?\"])\n",
    "# train_df.dtypes\n",
    "train_df.info()"
   ]
  },
  {
   "cell_type": "markdown",
   "metadata": {},
   "source": [
    "### Seperating object from int64"
   ]
  },
  {
   "cell_type": "code",
   "execution_count": 42,
   "metadata": {
    "collapsed": true
   },
   "outputs": [],
   "source": [
    "obj_train_df = train_df.select_dtypes(include=['object']).copy()\n",
    "int64_train_df = train_df.select_dtypes(include=['int64']).copy()\n",
    "\n",
    "obj_test_df = test_df.select_dtypes(include = ['object']).copy()\n",
    "int64_test_df = test_df.select_dtypes(include = ['object']).copy()\n",
    "\n",
    "# obj_train_df.head()"
   ]
  },
  {
   "cell_type": "markdown",
   "metadata": {},
   "source": [
    "# [DONE] 2 pts Replace all empty numeric fields with the average of its column in this new column.\n",
    "\n",
    "### There are no any empty numeric fields 'False' and putting all averages NaN values inside obj_train_df"
   ]
  },
  {
   "cell_type": "code",
   "execution_count": 49,
   "metadata": {},
   "outputs": [
    {
     "data": {
      "text/plain": [
       "True"
      ]
     },
     "execution_count": 49,
     "metadata": {},
     "output_type": "execute_result"
    }
   ],
   "source": [
    "#False\n",
    "int64_train_df.isnull().values.any()\n",
    "\n",
    "#True\n",
    "int64_test_df.isnull().values.any()\n"
   ]
  },
  {
   "cell_type": "markdown",
   "metadata": {},
   "source": [
    "### Check for any NaN values"
   ]
  },
  {
   "cell_type": "code",
   "execution_count": 54,
   "metadata": {},
   "outputs": [
    {
     "data": {
      "text/html": [
       "<div>\n",
       "<style>\n",
       "    .dataframe thead tr:only-child th {\n",
       "        text-align: right;\n",
       "    }\n",
       "\n",
       "    .dataframe thead th {\n",
       "        text-align: left;\n",
       "    }\n",
       "\n",
       "    .dataframe tbody tr th {\n",
       "        vertical-align: top;\n",
       "    }\n",
       "</style>\n",
       "<table border=\"1\" class=\"dataframe\">\n",
       "  <thead>\n",
       "    <tr style=\"text-align: right;\">\n",
       "      <th></th>\n",
       "      <th>workclass</th>\n",
       "      <th>education</th>\n",
       "      <th>marital_status</th>\n",
       "      <th>occupation</th>\n",
       "      <th>relationship</th>\n",
       "      <th>race</th>\n",
       "      <th>gender</th>\n",
       "      <th>native_country</th>\n",
       "      <th>income</th>\n",
       "    </tr>\n",
       "  </thead>\n",
       "  <tbody>\n",
       "  </tbody>\n",
       "</table>\n",
       "</div>"
      ],
      "text/plain": [
       "Empty DataFrame\n",
       "Columns: [workclass, education, marital_status, occupation, relationship, race, gender, native_country, income]\n",
       "Index: []"
      ]
     },
     "execution_count": 54,
     "metadata": {},
     "output_type": "execute_result"
    }
   ],
   "source": [
    "obj_train_df[obj_train_df.isnull().any(axis=1)]"
   ]
  },
  {
   "cell_type": "code",
   "execution_count": 2,
   "metadata": {},
   "outputs": [
    {
     "ename": "NameError",
     "evalue": "name 'obj_test_df' is not defined",
     "output_type": "error",
     "traceback": [
      "\u001b[0;31m---------------------------------------------------------------------------\u001b[0m",
      "\u001b[0;31mNameError\u001b[0m                                 Traceback (most recent call last)",
      "\u001b[0;32m<ipython-input-2-35a2f4054b48>\u001b[0m in \u001b[0;36m<module>\u001b[0;34m()\u001b[0m\n\u001b[0;32m----> 1\u001b[0;31m \u001b[0mobj_test_df\u001b[0m\u001b[0;34m[\u001b[0m\u001b[0mobj_test_df\u001b[0m\u001b[0;34m.\u001b[0m\u001b[0misnull\u001b[0m\u001b[0;34m(\u001b[0m\u001b[0;34m)\u001b[0m\u001b[0;34m.\u001b[0m\u001b[0many\u001b[0m\u001b[0;34m(\u001b[0m\u001b[0maxis\u001b[0m\u001b[0;34m=\u001b[0m\u001b[0;36m1\u001b[0m\u001b[0;34m)\u001b[0m\u001b[0;34m]\u001b[0m\u001b[0;34m\u001b[0m\u001b[0m\n\u001b[0m",
      "\u001b[0;31mNameError\u001b[0m: name 'obj_test_df' is not defined"
     ]
    }
   ],
   "source": [
    "obj_test_df[obj_test_df.isnull().any(axis=1)]\n"
   ]
  },
  {
   "cell_type": "markdown",
   "metadata": {},
   "source": [
    "# Look for the most common value "
   ]
  },
  {
   "cell_type": "code",
   "execution_count": 59,
   "metadata": {
    "collapsed": true
   },
   "outputs": [],
   "source": [
    "# obj_train_df[\"workclass\"].mode()\n",
    "# obj_train_df[\"education\"].mode()\n",
    "# obj_train_df[\"marital_status\"].mode()\n",
    "# obj_train_df[\"occupation\"].mode()\n",
    "# obj_train_df[\"relationship\"].mode()\n",
    "# obj_train_df[\"race\"].mode()\n",
    "# obj_train_df[\"gender\"].mode()\n",
    "# obj_train_df[\"native_country\"].mode()\n",
    "\n",
    "train_df = train_df.fillna({\"workclass\": \"Private\",\n",
    "                                    \"education\":\"HS-grad\",\n",
    "                                    \"marital_status\":\"Married-civ-spouse\",\n",
    "                                    \"occupation\": \" Prof-specialty\" ,\n",
    "                                    \"relationship\": \"Husband\",\n",
    "                                    \"race\": \"White\",\n",
    "                                    \"gender\": \"Male\"  ,\n",
    "                                    \"native_country\": \"United-States\"\n",
    "                                   })\n",
    "\n",
    "# train_df[train_df.isnull().any(axis=1)]"
   ]
  },
  {
   "cell_type": "markdown",
   "metadata": {},
   "source": [
    "#### There are no NaN values"
   ]
  },
  {
   "cell_type": "code",
   "execution_count": 60,
   "metadata": {
    "collapsed": true
   },
   "outputs": [],
   "source": [
    "ohe_df = pd.get_dummies(train_df, columns= train_df.select_dtypes(include=['object']))"
   ]
  },
  {
   "cell_type": "markdown",
   "metadata": {},
   "source": [
    "obj_train_df\n",
    "\n"
   ]
  },
  {
   "cell_type": "code",
   "execution_count": 1,
   "metadata": {},
   "outputs": [
    {
     "name": "stderr",
     "output_type": "stream",
     "text": [
      "/home/cowboyuniverse/anaconda3/lib/python3.6/site-packages/sklearn/cross_validation.py:41: DeprecationWarning: This module was deprecated in version 0.18 in favor of the model_selection module into which all the refactored classes and functions are moved. Also note that the interface of the new CV iterators are different from that of this module. This module will be removed in 0.20.\n",
      "  \"This module will be removed in 0.20.\", DeprecationWarning)\n"
     ]
    },
    {
     "ename": "NameError",
     "evalue": "name 'ohe_df' is not defined",
     "output_type": "error",
     "traceback": [
      "\u001b[0;31m---------------------------------------------------------------------------\u001b[0m",
      "\u001b[0;31mNameError\u001b[0m                                 Traceback (most recent call last)",
      "\u001b[0;32m<ipython-input-1-70447ca843fa>\u001b[0m in \u001b[0;36m<module>\u001b[0;34m()\u001b[0m\n\u001b[1;32m      8\u001b[0m \u001b[0;34m\u001b[0m\u001b[0m\n\u001b[1;32m      9\u001b[0m \u001b[0;32mfrom\u001b[0m \u001b[0msklearn\u001b[0m\u001b[0;34m.\u001b[0m\u001b[0mcross_validation\u001b[0m \u001b[0;32mimport\u001b[0m \u001b[0mtrain_test_split\u001b[0m\u001b[0;34m\u001b[0m\u001b[0m\n\u001b[0;32m---> 10\u001b[0;31m \u001b[0mX_train\u001b[0m\u001b[0;34m,\u001b[0m \u001b[0mX_test\u001b[0m\u001b[0;34m,\u001b[0m \u001b[0my_train\u001b[0m\u001b[0;34m,\u001b[0m \u001b[0my_test\u001b[0m  \u001b[0;34m=\u001b[0m \u001b[0mtrain_test_split\u001b[0m\u001b[0;34m(\u001b[0m\u001b[0mohe_df\u001b[0m\u001b[0;34m,\u001b[0m \u001b[0mtrain_size\u001b[0m \u001b[0;34m=\u001b[0m \u001b[0;36m0.8\u001b[0m\u001b[0;34m)\u001b[0m\u001b[0;34m\u001b[0m\u001b[0m\n\u001b[0m\u001b[1;32m     11\u001b[0m \u001b[0;34m\u001b[0m\u001b[0m\n\u001b[1;32m     12\u001b[0m \u001b[0;34m\u001b[0m\u001b[0m\n",
      "\u001b[0;31mNameError\u001b[0m: name 'ohe_df' is not defined"
     ]
    }
   ],
   "source": [
    "\n",
    "# from sklearn.model_selection import train_test_split\n",
    "# X_train, X_test, y_train, y_test = train_test_split(X, y, test_size=0.33)\n",
    "\n",
    "\n",
    "# from sklearn.model_selection import train_test_split\n",
    "# X_train, X_test, y_train, y_test = train_test_split(train_df, test_df, test_size=0.33)\n",
    "\n",
    "from sklearn.cross_validation import train_test_split\n",
    "X_train, X_test, y_train, y_test  = train_test_split(ohe_df, train_size = 0.8)\n",
    "\n",
    "\n",
    "# from sklearn.model_selection import train_test_split\n",
    "# train, test = train_test_split(ohe_df, train_size = 0.8)\n",
    "\n",
    "# from sklearn.datasets import load_iris\n",
    "# from sklearn.naive_bayes import GaussianNB\n",
    "# import numpy as np\n",
    "\n",
    "# gnb = GaussianNB()\n",
    "# data = load_iris()\n",
    "# X = data.data\n",
    "# y = data.target\n",
    "# print(X.shape)\n",
    "# print(y.shape)\n",
    "\n",
    "X = train\n",
    "y = test\n",
    "print(X.shape)\n",
    "print(y.shape)\n",
    "# (26048, 108)\n",
    "# (6513, 108)\n"
   ]
  },
  {
   "cell_type": "markdown",
   "metadata": {
    "collapsed": true
   },
   "source": [
    "done 2 pts Create a notebook.\n",
    "\n",
    "done 2 pts Replace all empty numeric fields with the average of its column in this new column (if there are any, if not, you get 2 free points).\n",
    "\n",
    "2 pts Either:\n",
    "\n",
    "a) Replace all categorical data (data that is in categories, not numbers) with one-hot encoding (see http://pandas.pydata.org/pandas-docs/stable/generated/pandas.get_dummies.html) or\n",
    "\n",
    "b) Convert non-numeric columns (that is, categorical data) to columns with an integer representations (like we did with the decision trees). \n",
    "\n",
    "Note: for \"?\", please find the value that is most common in the column it is found and replace the \"?\" with it.\n",
    "\n",
    "2 pts Convert the data to a numpy array if it isn't one already.\n",
    "\n",
    "2 pts Divide the data into a training and test set.\n",
    "\n",
    "2 pts Run both a random forest and gaussian naive bayes on the training set.\n",
    "\n",
    "2 pts Compute the accuracy of predictions on the test set.\n",
    "\n",
    "\n",
    "2pts each extra credit: Use another additional classifier.\n",
    "\n"
   ]
  },
  {
   "cell_type": "code",
   "execution_count": null,
   "metadata": {
    "collapsed": true,
    "scrolled": false
   },
   "outputs": [],
   "source": [
    "# train_df[object_columns=='?'] = 0\n",
    "# train_df[train_df=='?'] = 0\n",
    "\n",
    "    \n",
    "# train_df[object_columns] \n",
    "\n",
    "    \n",
    "# df = train_df.where(((train_df)) == '?', 0)\n",
    "\n",
    "\n",
    "#  [\"workclass\", \"education\", \"marital_status\", \"occupation\",\n",
    "#                        \"relationship\", \"race\", \"gender\", \"native_country\"]\n",
    "\n",
    "# train_df = train_df.fillna({\n",
    "#     'workclass': '?',\n",
    "#     'education': '?',\n",
    "#     'marital_status': '?',\n",
    "#     'occupation': '?',\n",
    "#     'relationship': '?',\n",
    "#     'race': '?', \n",
    "#     'gender': '?', \n",
    "#     'native_country': '?'\n",
    "# })\n",
    "# train_df = train_df.replace(\"?\", 0)\n",
    "# train_df['workclass'] = train_df['workclass'].replace('NaN', 0)\n",
    "obj_train_df['workclass'] = obj_train_df['workclass'].apply(lambda x: 0 if x == 'NaN' else x)\n",
    "\n",
    "# train_df[['workclass'][train_df['workclass'] == '?'] = 0\n",
    "\n",
    "# train_df['workclass'].replace('?', '0')\n",
    "\n",
    "# train_df['workclass'].replace('?', 0)\n",
    "\n",
    "# train_df.replace('?', train_df.replace([''], [0])\n",
    "                 \n",
    "# for item in train_df[object_columns]['workclass']:\n",
    "# #     if\n",
    "#     print(item)\n"
   ]
  },
  {
   "cell_type": "code",
   "execution_count": null,
   "metadata": {
    "collapsed": true
   },
   "outputs": [],
   "source": [
    "obj_train_df"
   ]
  },
  {
   "cell_type": "code",
   "execution_count": null,
   "metadata": {
    "collapsed": true
   },
   "outputs": [],
   "source": [
    "train_df[object_columns]"
   ]
  },
  {
   "cell_type": "code",
   "execution_count": null,
   "metadata": {
    "collapsed": true
   },
   "outputs": [],
   "source": [
    "int64_columns = [\"age\", \"education_num\", \"capital_gain\", \"capital_loss\", \"hours_per_week\"]\n",
    "train_df[int64_columns].head()\n",
    "object_columns = [\"workclass\", \"education\", \"marital_status\", \"occupation\",\n",
    "                       \"relationship\", \"race\", \"gender\", \"native_country\"]"
   ]
  },
  {
   "cell_type": "markdown",
   "metadata": {},
   "source": []
  },
  {
   "cell_type": "markdown",
   "metadata": {},
   "source": [
    "\n",
    "- [ ] 2 pts Convert the data to a numpy array if it isn't one already.\n",
    "- [ ] 2 pts Divide the data into a training and test set.\n",
    "\n",
    "- [ ] 2 pts Run both a random forest and gaussian naive bayes on the training set.\n",
    "- [ ] 2 pts Compute the accuracy of predictions on the test set.\n",
    "- [ ] 2pts each extra credit: Use another additional classifier.\n"
   ]
  },
  {
   "cell_type": "markdown",
   "metadata": {
    "collapsed": true
   },
   "source": [
    "\n",
    "#### fnlwgt: continuous.\n",
    "#### education: Bachelors, Some-college, 11th, HS-grad, Prof-school, Assoc-acdm, Assoc-voc, 9th, 7th-8th, 12th, Masters, 1st-4th, 10th, Doctorate, 5th-6th, Preschool.\n",
    "#### education-num: continuous.\n",
    "#### marital-status: Married-civ-spouse, Divorced, Never-married, Separated, Widowed, Married-spouse-absent, Married-AF-spouse.\n",
    "#### occupation: Tech-support, Craft-repair, Other-service, Sales, Exec-managerial, Prof-specialty, Handlers-cleaners, Machine-op-inspct, Adm-clerical, Farming-fishing, Transport-moving, Priv-house-serv, Protective-serv, Armed-Forces.\n",
    "#### relationship: Wife, Own-child, Husband, Not-in-family, Other-relative, Unmarried.\n",
    "#### race: White, Asian-Pac-Islander, Amer-Indian-Eskimo, Other, Black.\n",
    "#### sex: Female, Male.\n",
    "#### capital-gain: continuous.\n",
    "#### capital-loss: continuous.\n",
    "#### hours-per-week: continuous.\n",
    "#### native-country: United-States, Cambodia, England, Puerto-Rico, Canada, Germany, Outlying-US(Guam-USVI-etc), India, Japan, Greece, South, China, Cuba, Iran, Honduras, Philippines, Italy, Poland, Jamaica, Vietnam, Mexico, Portugal, Ireland, France, Dominican-Republic, Laos, Ecuador, Taiwan, Haiti, Columbia, Hungary, Guatemala, Nicaragua, Scotland, Thailand, Yugoslavia, El-Salvador, Trinadad&Tobago, Peru, Hong, Holand-Netherlands."
   ]
  }
 ],
 "metadata": {
  "kernelspec": {
   "display_name": "Python 3",
   "language": "python",
   "name": "python3"
  },
  "language_info": {
   "codemirror_mode": {
    "name": "ipython",
    "version": 3
   },
   "file_extension": ".py",
   "mimetype": "text/x-python",
   "name": "python",
   "nbconvert_exporter": "python",
   "pygments_lexer": "ipython3",
   "version": "3.6.2"
  }
 },
 "nbformat": 4,
 "nbformat_minor": 2
}
