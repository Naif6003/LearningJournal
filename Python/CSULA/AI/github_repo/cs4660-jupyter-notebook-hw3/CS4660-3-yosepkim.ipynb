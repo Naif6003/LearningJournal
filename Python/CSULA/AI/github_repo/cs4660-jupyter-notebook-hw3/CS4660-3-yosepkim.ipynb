{
 "cells": [
  {
   "cell_type": "markdown",
   "metadata": {},
   "source": [
    "Yosep Kim\n",
    "\n",
    "Do some machine learning on data found here http://mlr.cs.umass.edu/ml/machine-learning-databases/adult/using aimed at predicting whether or not a person will make over 50k a year. Do it in an IPython Notebook. Look in adult.data for the data, save it as a csv file. The adult.names file has information about the set. \n",
    "\n",
    "**DONE** 2 pts Create a notebook.\n",
    "\n",
    "**DONE** 2 pts Replace all empty numeric fields with the average of its column in this new column (if there are any, if not, you get 2 free points).\n",
    "\n",
    "**DONE** 2 pts Either:\n",
    "<hr>\n",
    "a) Replace all categorical data (data that is in categories, not numbers) with one-hot encoding (see http://pandas.pydata.org/pandas-docs/stable/generated/pandas.get_dummies.html) or\n",
    "\n",
    "b) Convert non-numeric columns (that is, categorical data) to columns with an integer representations (like we did with the decision trees). \n",
    "<hr>\n",
    "**DONE**\n",
    "Note: for \"?\", please find the value that is most common in the column it is found and replace the \"?\" with it.\n",
    "\n",
    "**DONE** 2 pts Convert the data to a numpy array if it isn't one already.\n",
    "\n",
    "**DONE** 2 pts Divide the data into a training and test set.\n",
    "\n",
    "**DONE** 2 pts Run both a random forest and gaussian naive bayes on the training set.\n",
    "\n",
    "**DONE**\n",
    "2 pts Compute the accuracy of predictions on the test set.\n",
    "\n",
    "**DONE**\n",
    "2pts each extra credit: Use another additional classifier.\n",
    "\n",
    "\n",
    "# [DONE] 2 pts Create a notebook.\n"
   ]
  },
  {
   "cell_type": "markdown",
   "metadata": {},
   "source": [
    "### Changed Features for dataframe as described in  adult.names for readability\n",
    "## age, workclass, fnlwgt, education, education-num, marital-status, occupation, relationship, race, sex capital-gain, capital-loss, hours-per-week: continuous, native-country\n",
    "\n",
    "## Changed '?' to NaN values to use '.fillna()' function "
   ]
  },
  {
   "cell_type": "code",
   "execution_count": 113,
   "metadata": {},
   "outputs": [
    {
     "name": "stderr",
     "output_type": "stream",
     "text": [
      "/home/cowboyuniverse/anaconda3/lib/python3.6/site-packages/ipykernel_launcher.py:11: ParserWarning: Falling back to the 'python' engine because the 'c' engine does not support regex separators (separators > 1 char and different from '\\s+' are interpreted as regex); you can avoid this warning by specifying engine='python'.\n",
      "  # This is added back by InteractiveShellApp.init_path()\n"
     ]
    },
    {
     "name": "stdout",
     "output_type": "stream",
     "text": [
      "<class 'pandas.core.frame.DataFrame'>\n",
      "RangeIndex: 32561 entries, 0 to 32560\n",
      "Data columns (total 15 columns):\n",
      "age               32561 non-null int64\n",
      "workclass         30725 non-null object\n",
      "fnlwgt            32561 non-null int64\n",
      "education         32561 non-null object\n",
      "education_num     32561 non-null int64\n",
      "marital_status    32561 non-null object\n",
      "occupation        30718 non-null object\n",
      "relationship      32561 non-null object\n",
      "race              32561 non-null object\n",
      "gender            32561 non-null object\n",
      "capital_gain      32561 non-null int64\n",
      "capital_loss      32561 non-null int64\n",
      "hours_per_week    32561 non-null int64\n",
      "native_country    31978 non-null object\n",
      "income            32561 non-null object\n",
      "dtypes: int64(6), object(9)\n",
      "memory usage: 3.7+ MB\n"
     ]
    }
   ],
   "source": [
    "import pandas as pd\n",
    "import numpy as np\n",
    "from sklearn.metrics import classification_report\n",
    "from sklearn.metrics import accuracy_score\n",
    "\n",
    "train_data = 'adult.data'\n",
    "test_data = 'adult.test'\n",
    "features = [\"age\", \"workclass\", \"fnlwgt\", \"education\", \"education_num\",\n",
    "           \"marital_status\", \"occupation\", \"relationship\", \"race\", \"gender\",\n",
    "           \"capital_gain\", \"capital_loss\", \"hours_per_week\", \"native_country\", \"income\"]\n",
    "train_df = pd.read_csv(train_data, header=None, names=features, sep=',\\s', na_values=[\"?\"])\n",
    "train_df.info()"
   ]
  },
  {
   "cell_type": "markdown",
   "metadata": {},
   "source": [
    "\n",
    "# [done] 2 pts Convert the data to a numpy array if it isn't one already."
   ]
  },
  {
   "cell_type": "code",
   "execution_count": 106,
   "metadata": {
    "collapsed": true
   },
   "outputs": [],
   "source": [
    "my_data =  np.loadtxt('adult.data', dtype=str, delimiter=',')\n",
    "# my_data"
   ]
  },
  {
   "cell_type": "markdown",
   "metadata": {},
   "source": [
    "# [done] 2 pts Divide the data into a training and test set."
   ]
  },
  {
   "cell_type": "code",
   "execution_count": 3,
   "metadata": {
    "collapsed": true
   },
   "outputs": [],
   "source": [
    "features_for_X = [\"age\", \"workclass\", \"fnlwgt\", \"education\", \"education_num\",\n",
    "           \"marital_status\", \"occupation\", \"relationship\", \"race\", \"gender\",\n",
    "           \"capital_gain\", \"capital_loss\", \"hours_per_week\", \"native_country\"]\n",
    "\n",
    "X = train_df[features_for_X]\n",
    "\n",
    "y = train_df['income']\n"
   ]
  },
  {
   "cell_type": "markdown",
   "metadata": {},
   "source": [
    "### Seperating object and int64"
   ]
  },
  {
   "cell_type": "code",
   "execution_count": 4,
   "metadata": {
    "collapsed": true
   },
   "outputs": [],
   "source": [
    "obj_train_df = X.select_dtypes(include=['object']).copy()\n",
    "int64_train_df = X.select_dtypes(include=['int64']).copy()\n",
    "# obj_train_df.head()"
   ]
  },
  {
   "cell_type": "markdown",
   "metadata": {},
   "source": [
    "# [DONE] 2 pts Replace all empty numeric fields with the average of its column in this new column.\n",
    "\n",
    "### There are no any empty numeric fields 'False' and putting all averages NaN values inside obj_train_df"
   ]
  },
  {
   "cell_type": "code",
   "execution_count": 5,
   "metadata": {},
   "outputs": [
    {
     "data": {
      "text/plain": [
       "False"
      ]
     },
     "execution_count": 5,
     "metadata": {},
     "output_type": "execute_result"
    }
   ],
   "source": [
    "#False\n",
    "int64_train_df.isnull().values.any()"
   ]
  },
  {
   "cell_type": "markdown",
   "metadata": {},
   "source": [
    "### Check for any NaN values"
   ]
  },
  {
   "cell_type": "code",
   "execution_count": 6,
   "metadata": {},
   "outputs": [
    {
     "data": {
      "text/html": [
       "<div>\n",
       "<style>\n",
       "    .dataframe thead tr:only-child th {\n",
       "        text-align: right;\n",
       "    }\n",
       "\n",
       "    .dataframe thead th {\n",
       "        text-align: left;\n",
       "    }\n",
       "\n",
       "    .dataframe tbody tr th {\n",
       "        vertical-align: top;\n",
       "    }\n",
       "</style>\n",
       "<table border=\"1\" class=\"dataframe\">\n",
       "  <thead>\n",
       "    <tr style=\"text-align: right;\">\n",
       "      <th></th>\n",
       "      <th>workclass</th>\n",
       "      <th>education</th>\n",
       "      <th>marital_status</th>\n",
       "      <th>occupation</th>\n",
       "      <th>relationship</th>\n",
       "      <th>race</th>\n",
       "      <th>gender</th>\n",
       "      <th>native_country</th>\n",
       "    </tr>\n",
       "  </thead>\n",
       "  <tbody>\n",
       "    <tr>\n",
       "      <th>14</th>\n",
       "      <td>Private</td>\n",
       "      <td>Assoc-voc</td>\n",
       "      <td>Married-civ-spouse</td>\n",
       "      <td>Craft-repair</td>\n",
       "      <td>Husband</td>\n",
       "      <td>Asian-Pac-Islander</td>\n",
       "      <td>Male</td>\n",
       "      <td>NaN</td>\n",
       "    </tr>\n",
       "    <tr>\n",
       "      <th>27</th>\n",
       "      <td>NaN</td>\n",
       "      <td>Some-college</td>\n",
       "      <td>Married-civ-spouse</td>\n",
       "      <td>NaN</td>\n",
       "      <td>Husband</td>\n",
       "      <td>Asian-Pac-Islander</td>\n",
       "      <td>Male</td>\n",
       "      <td>South</td>\n",
       "    </tr>\n",
       "    <tr>\n",
       "      <th>38</th>\n",
       "      <td>Private</td>\n",
       "      <td>Some-college</td>\n",
       "      <td>Married-civ-spouse</td>\n",
       "      <td>Sales</td>\n",
       "      <td>Husband</td>\n",
       "      <td>White</td>\n",
       "      <td>Male</td>\n",
       "      <td>NaN</td>\n",
       "    </tr>\n",
       "    <tr>\n",
       "      <th>51</th>\n",
       "      <td>Private</td>\n",
       "      <td>HS-grad</td>\n",
       "      <td>Never-married</td>\n",
       "      <td>Other-service</td>\n",
       "      <td>Own-child</td>\n",
       "      <td>White</td>\n",
       "      <td>Female</td>\n",
       "      <td>NaN</td>\n",
       "    </tr>\n",
       "    <tr>\n",
       "      <th>61</th>\n",
       "      <td>NaN</td>\n",
       "      <td>7th-8th</td>\n",
       "      <td>Married-spouse-absent</td>\n",
       "      <td>NaN</td>\n",
       "      <td>Not-in-family</td>\n",
       "      <td>White</td>\n",
       "      <td>Male</td>\n",
       "      <td>NaN</td>\n",
       "    </tr>\n",
       "  </tbody>\n",
       "</table>\n",
       "</div>"
      ],
      "text/plain": [
       "   workclass     education         marital_status     occupation  \\\n",
       "14   Private     Assoc-voc     Married-civ-spouse   Craft-repair   \n",
       "27       NaN  Some-college     Married-civ-spouse            NaN   \n",
       "38   Private  Some-college     Married-civ-spouse          Sales   \n",
       "51   Private       HS-grad          Never-married  Other-service   \n",
       "61       NaN       7th-8th  Married-spouse-absent            NaN   \n",
       "\n",
       "     relationship                race  gender native_country  \n",
       "14        Husband  Asian-Pac-Islander    Male            NaN  \n",
       "27        Husband  Asian-Pac-Islander    Male          South  \n",
       "38        Husband               White    Male            NaN  \n",
       "51      Own-child               White  Female            NaN  \n",
       "61  Not-in-family               White    Male            NaN  "
      ]
     },
     "execution_count": 6,
     "metadata": {},
     "output_type": "execute_result"
    }
   ],
   "source": [
    "obj_train_df[obj_train_df.isnull().any(axis=1)].head()"
   ]
  },
  {
   "cell_type": "markdown",
   "metadata": {},
   "source": [
    "## Look for the most common value and fill NaN with those values and filling in NaN values"
   ]
  },
  {
   "cell_type": "code",
   "execution_count": 7,
   "metadata": {},
   "outputs": [
    {
     "data": {
      "text/html": [
       "<div>\n",
       "<style>\n",
       "    .dataframe thead tr:only-child th {\n",
       "        text-align: right;\n",
       "    }\n",
       "\n",
       "    .dataframe thead th {\n",
       "        text-align: left;\n",
       "    }\n",
       "\n",
       "    .dataframe tbody tr th {\n",
       "        vertical-align: top;\n",
       "    }\n",
       "</style>\n",
       "<table border=\"1\" class=\"dataframe\">\n",
       "  <thead>\n",
       "    <tr style=\"text-align: right;\">\n",
       "      <th></th>\n",
       "      <th>age</th>\n",
       "      <th>workclass</th>\n",
       "      <th>fnlwgt</th>\n",
       "      <th>education</th>\n",
       "      <th>education_num</th>\n",
       "      <th>marital_status</th>\n",
       "      <th>occupation</th>\n",
       "      <th>relationship</th>\n",
       "      <th>race</th>\n",
       "      <th>gender</th>\n",
       "      <th>capital_gain</th>\n",
       "      <th>capital_loss</th>\n",
       "      <th>hours_per_week</th>\n",
       "      <th>native_country</th>\n",
       "      <th>income</th>\n",
       "    </tr>\n",
       "  </thead>\n",
       "  <tbody>\n",
       "    <tr>\n",
       "      <th>14</th>\n",
       "      <td>40</td>\n",
       "      <td>Private</td>\n",
       "      <td>121772</td>\n",
       "      <td>Assoc-voc</td>\n",
       "      <td>11</td>\n",
       "      <td>Married-civ-spouse</td>\n",
       "      <td>Craft-repair</td>\n",
       "      <td>Husband</td>\n",
       "      <td>Asian-Pac-Islander</td>\n",
       "      <td>Male</td>\n",
       "      <td>0</td>\n",
       "      <td>0</td>\n",
       "      <td>40</td>\n",
       "      <td>NaN</td>\n",
       "      <td>&gt;50K</td>\n",
       "    </tr>\n",
       "    <tr>\n",
       "      <th>27</th>\n",
       "      <td>54</td>\n",
       "      <td>NaN</td>\n",
       "      <td>180211</td>\n",
       "      <td>Some-college</td>\n",
       "      <td>10</td>\n",
       "      <td>Married-civ-spouse</td>\n",
       "      <td>NaN</td>\n",
       "      <td>Husband</td>\n",
       "      <td>Asian-Pac-Islander</td>\n",
       "      <td>Male</td>\n",
       "      <td>0</td>\n",
       "      <td>0</td>\n",
       "      <td>60</td>\n",
       "      <td>South</td>\n",
       "      <td>&gt;50K</td>\n",
       "    </tr>\n",
       "    <tr>\n",
       "      <th>38</th>\n",
       "      <td>31</td>\n",
       "      <td>Private</td>\n",
       "      <td>84154</td>\n",
       "      <td>Some-college</td>\n",
       "      <td>10</td>\n",
       "      <td>Married-civ-spouse</td>\n",
       "      <td>Sales</td>\n",
       "      <td>Husband</td>\n",
       "      <td>White</td>\n",
       "      <td>Male</td>\n",
       "      <td>0</td>\n",
       "      <td>0</td>\n",
       "      <td>38</td>\n",
       "      <td>NaN</td>\n",
       "      <td>&gt;50K</td>\n",
       "    </tr>\n",
       "    <tr>\n",
       "      <th>51</th>\n",
       "      <td>18</td>\n",
       "      <td>Private</td>\n",
       "      <td>226956</td>\n",
       "      <td>HS-grad</td>\n",
       "      <td>9</td>\n",
       "      <td>Never-married</td>\n",
       "      <td>Other-service</td>\n",
       "      <td>Own-child</td>\n",
       "      <td>White</td>\n",
       "      <td>Female</td>\n",
       "      <td>0</td>\n",
       "      <td>0</td>\n",
       "      <td>30</td>\n",
       "      <td>NaN</td>\n",
       "      <td>&lt;=50K</td>\n",
       "    </tr>\n",
       "    <tr>\n",
       "      <th>61</th>\n",
       "      <td>32</td>\n",
       "      <td>NaN</td>\n",
       "      <td>293936</td>\n",
       "      <td>7th-8th</td>\n",
       "      <td>4</td>\n",
       "      <td>Married-spouse-absent</td>\n",
       "      <td>NaN</td>\n",
       "      <td>Not-in-family</td>\n",
       "      <td>White</td>\n",
       "      <td>Male</td>\n",
       "      <td>0</td>\n",
       "      <td>0</td>\n",
       "      <td>40</td>\n",
       "      <td>NaN</td>\n",
       "      <td>&lt;=50K</td>\n",
       "    </tr>\n",
       "  </tbody>\n",
       "</table>\n",
       "</div>"
      ],
      "text/plain": [
       "    age workclass  fnlwgt     education  education_num         marital_status  \\\n",
       "14   40   Private  121772     Assoc-voc             11     Married-civ-spouse   \n",
       "27   54       NaN  180211  Some-college             10     Married-civ-spouse   \n",
       "38   31   Private   84154  Some-college             10     Married-civ-spouse   \n",
       "51   18   Private  226956       HS-grad              9          Never-married   \n",
       "61   32       NaN  293936       7th-8th              4  Married-spouse-absent   \n",
       "\n",
       "       occupation   relationship                race  gender  capital_gain  \\\n",
       "14   Craft-repair        Husband  Asian-Pac-Islander    Male             0   \n",
       "27            NaN        Husband  Asian-Pac-Islander    Male             0   \n",
       "38          Sales        Husband               White    Male             0   \n",
       "51  Other-service      Own-child               White  Female             0   \n",
       "61            NaN  Not-in-family               White    Male             0   \n",
       "\n",
       "    capital_loss  hours_per_week native_country income  \n",
       "14             0              40            NaN   >50K  \n",
       "27             0              60          South   >50K  \n",
       "38             0              38            NaN   >50K  \n",
       "51             0              30            NaN  <=50K  \n",
       "61             0              40            NaN  <=50K  "
      ]
     },
     "execution_count": 7,
     "metadata": {},
     "output_type": "execute_result"
    }
   ],
   "source": [
    "# obj_train_df[\"workclass\"].mode()\n",
    "# obj_train_df[\"education\"].mode()\n",
    "# obj_train_df[\"marital_status\"].mode()\n",
    "# obj_train_df[\"occupation\"].mode()\n",
    "# obj_train_df[\"relationship\"].mode()\n",
    "# obj_train_df[\"race\"].mode()\n",
    "# obj_train_df[\"gender\"].mode()\n",
    "# obj_train_df[\"native_country\"].mode()\n",
    "X = X.fillna({\"workclass\": \"Private\",\n",
    "                            \"education\":\"HS-grad\",\n",
    "                            \"marital_status\":\"Married-civ-spouse\",\n",
    "                            \"occupation\": \" Prof-specialty\" ,\n",
    "                            \"relationship\": \"Husband\",\n",
    "                            \"race\": \"White\",\n",
    "                            \"gender\": \"Male\"  ,\n",
    "                            \"native_country\": \"United-States\"\n",
    "            })\n",
    "\n",
    "train_df[train_df.isnull().any(axis=1)].head()"
   ]
  },
  {
   "cell_type": "markdown",
   "metadata": {},
   "source": [
    "# [Done]   Replace all categorical data (data that is in categories, not numbers) with one-hot encoding \n",
    "\n"
   ]
  },
  {
   "cell_type": "code",
   "execution_count": 8,
   "metadata": {},
   "outputs": [
    {
     "data": {
      "text/html": [
       "<div>\n",
       "<style>\n",
       "    .dataframe thead tr:only-child th {\n",
       "        text-align: right;\n",
       "    }\n",
       "\n",
       "    .dataframe thead th {\n",
       "        text-align: left;\n",
       "    }\n",
       "\n",
       "    .dataframe tbody tr th {\n",
       "        vertical-align: top;\n",
       "    }\n",
       "</style>\n",
       "<table border=\"1\" class=\"dataframe\">\n",
       "  <thead>\n",
       "    <tr style=\"text-align: right;\">\n",
       "      <th></th>\n",
       "      <th>age</th>\n",
       "      <th>fnlwgt</th>\n",
       "      <th>education_num</th>\n",
       "      <th>capital_gain</th>\n",
       "      <th>capital_loss</th>\n",
       "      <th>hours_per_week</th>\n",
       "      <th>workclass_Federal-gov</th>\n",
       "      <th>workclass_Local-gov</th>\n",
       "      <th>workclass_Never-worked</th>\n",
       "      <th>workclass_Private</th>\n",
       "      <th>...</th>\n",
       "      <th>native_country_Portugal</th>\n",
       "      <th>native_country_Puerto-Rico</th>\n",
       "      <th>native_country_Scotland</th>\n",
       "      <th>native_country_South</th>\n",
       "      <th>native_country_Taiwan</th>\n",
       "      <th>native_country_Thailand</th>\n",
       "      <th>native_country_Trinadad&amp;Tobago</th>\n",
       "      <th>native_country_United-States</th>\n",
       "      <th>native_country_Vietnam</th>\n",
       "      <th>native_country_Yugoslavia</th>\n",
       "    </tr>\n",
       "  </thead>\n",
       "  <tbody>\n",
       "    <tr>\n",
       "      <th>0</th>\n",
       "      <td>39</td>\n",
       "      <td>77516</td>\n",
       "      <td>13</td>\n",
       "      <td>2174</td>\n",
       "      <td>0</td>\n",
       "      <td>40</td>\n",
       "      <td>0</td>\n",
       "      <td>0</td>\n",
       "      <td>0</td>\n",
       "      <td>0</td>\n",
       "      <td>...</td>\n",
       "      <td>0</td>\n",
       "      <td>0</td>\n",
       "      <td>0</td>\n",
       "      <td>0</td>\n",
       "      <td>0</td>\n",
       "      <td>0</td>\n",
       "      <td>0</td>\n",
       "      <td>1</td>\n",
       "      <td>0</td>\n",
       "      <td>0</td>\n",
       "    </tr>\n",
       "    <tr>\n",
       "      <th>1</th>\n",
       "      <td>50</td>\n",
       "      <td>83311</td>\n",
       "      <td>13</td>\n",
       "      <td>0</td>\n",
       "      <td>0</td>\n",
       "      <td>13</td>\n",
       "      <td>0</td>\n",
       "      <td>0</td>\n",
       "      <td>0</td>\n",
       "      <td>0</td>\n",
       "      <td>...</td>\n",
       "      <td>0</td>\n",
       "      <td>0</td>\n",
       "      <td>0</td>\n",
       "      <td>0</td>\n",
       "      <td>0</td>\n",
       "      <td>0</td>\n",
       "      <td>0</td>\n",
       "      <td>1</td>\n",
       "      <td>0</td>\n",
       "      <td>0</td>\n",
       "    </tr>\n",
       "    <tr>\n",
       "      <th>2</th>\n",
       "      <td>38</td>\n",
       "      <td>215646</td>\n",
       "      <td>9</td>\n",
       "      <td>0</td>\n",
       "      <td>0</td>\n",
       "      <td>40</td>\n",
       "      <td>0</td>\n",
       "      <td>0</td>\n",
       "      <td>0</td>\n",
       "      <td>1</td>\n",
       "      <td>...</td>\n",
       "      <td>0</td>\n",
       "      <td>0</td>\n",
       "      <td>0</td>\n",
       "      <td>0</td>\n",
       "      <td>0</td>\n",
       "      <td>0</td>\n",
       "      <td>0</td>\n",
       "      <td>1</td>\n",
       "      <td>0</td>\n",
       "      <td>0</td>\n",
       "    </tr>\n",
       "    <tr>\n",
       "      <th>3</th>\n",
       "      <td>53</td>\n",
       "      <td>234721</td>\n",
       "      <td>7</td>\n",
       "      <td>0</td>\n",
       "      <td>0</td>\n",
       "      <td>40</td>\n",
       "      <td>0</td>\n",
       "      <td>0</td>\n",
       "      <td>0</td>\n",
       "      <td>1</td>\n",
       "      <td>...</td>\n",
       "      <td>0</td>\n",
       "      <td>0</td>\n",
       "      <td>0</td>\n",
       "      <td>0</td>\n",
       "      <td>0</td>\n",
       "      <td>0</td>\n",
       "      <td>0</td>\n",
       "      <td>1</td>\n",
       "      <td>0</td>\n",
       "      <td>0</td>\n",
       "    </tr>\n",
       "    <tr>\n",
       "      <th>4</th>\n",
       "      <td>28</td>\n",
       "      <td>338409</td>\n",
       "      <td>13</td>\n",
       "      <td>0</td>\n",
       "      <td>0</td>\n",
       "      <td>40</td>\n",
       "      <td>0</td>\n",
       "      <td>0</td>\n",
       "      <td>0</td>\n",
       "      <td>1</td>\n",
       "      <td>...</td>\n",
       "      <td>0</td>\n",
       "      <td>0</td>\n",
       "      <td>0</td>\n",
       "      <td>0</td>\n",
       "      <td>0</td>\n",
       "      <td>0</td>\n",
       "      <td>0</td>\n",
       "      <td>0</td>\n",
       "      <td>0</td>\n",
       "      <td>0</td>\n",
       "    </tr>\n",
       "  </tbody>\n",
       "</table>\n",
       "<p>5 rows × 106 columns</p>\n",
       "</div>"
      ],
      "text/plain": [
       "   age  fnlwgt  education_num  capital_gain  capital_loss  hours_per_week  \\\n",
       "0   39   77516             13          2174             0              40   \n",
       "1   50   83311             13             0             0              13   \n",
       "2   38  215646              9             0             0              40   \n",
       "3   53  234721              7             0             0              40   \n",
       "4   28  338409             13             0             0              40   \n",
       "\n",
       "   workclass_Federal-gov  workclass_Local-gov  workclass_Never-worked  \\\n",
       "0                      0                    0                       0   \n",
       "1                      0                    0                       0   \n",
       "2                      0                    0                       0   \n",
       "3                      0                    0                       0   \n",
       "4                      0                    0                       0   \n",
       "\n",
       "   workclass_Private            ...              native_country_Portugal  \\\n",
       "0                  0            ...                                    0   \n",
       "1                  0            ...                                    0   \n",
       "2                  1            ...                                    0   \n",
       "3                  1            ...                                    0   \n",
       "4                  1            ...                                    0   \n",
       "\n",
       "   native_country_Puerto-Rico  native_country_Scotland  native_country_South  \\\n",
       "0                           0                        0                     0   \n",
       "1                           0                        0                     0   \n",
       "2                           0                        0                     0   \n",
       "3                           0                        0                     0   \n",
       "4                           0                        0                     0   \n",
       "\n",
       "   native_country_Taiwan  native_country_Thailand  \\\n",
       "0                      0                        0   \n",
       "1                      0                        0   \n",
       "2                      0                        0   \n",
       "3                      0                        0   \n",
       "4                      0                        0   \n",
       "\n",
       "   native_country_Trinadad&Tobago  native_country_United-States  \\\n",
       "0                               0                             1   \n",
       "1                               0                             1   \n",
       "2                               0                             1   \n",
       "3                               0                             1   \n",
       "4                               0                             0   \n",
       "\n",
       "   native_country_Vietnam  native_country_Yugoslavia  \n",
       "0                       0                          0  \n",
       "1                       0                          0  \n",
       "2                       0                          0  \n",
       "3                       0                          0  \n",
       "4                       0                          0  \n",
       "\n",
       "[5 rows x 106 columns]"
      ]
     },
     "execution_count": 8,
     "metadata": {},
     "output_type": "execute_result"
    }
   ],
   "source": [
    "# one_hot_encoding_df = pd.get_dummies(X, columns= X.select_dtypes(include=['object']))\n",
    "one_hot_encoding_df = pd.get_dummies(X)\n",
    "one_hot_encoding_df.head()"
   ]
  },
  {
   "cell_type": "markdown",
   "metadata": {},
   "source": [
    "# [done] Divide the data into a training and test set.\n"
   ]
  },
  {
   "cell_type": "code",
   "execution_count": 9,
   "metadata": {},
   "outputs": [
    {
     "name": "stdout",
     "output_type": "stream",
     "text": [
      "(21815, 106)\n",
      "(21815,)\n"
     ]
    }
   ],
   "source": [
    "from sklearn.model_selection import train_test_split\n",
    "\n",
    "X_train, X_test, y_train, y_test = train_test_split(one_hot_encoding_df, y, test_size=0.33)\n",
    "\n",
    "print(X_train.shape)\n",
    "print(y_train.shape)"
   ]
  },
  {
   "cell_type": "markdown",
   "metadata": {},
   "source": [
    "# [done] Run a random forest on the training set."
   ]
  },
  {
   "cell_type": "markdown",
   "metadata": {},
   "source": [
    "#  random forest"
   ]
  },
  {
   "cell_type": "code",
   "execution_count": 10,
   "metadata": {
    "scrolled": false
   },
   "outputs": [
    {
     "name": "stdout",
     "output_type": "stream",
     "text": [
      "['<=50K' '<=50K' '<=50K' ..., '<=50K' '<=50K' '<=50K']\n"
     ]
    }
   ],
   "source": [
    "from sklearn.tree import DecisionTreeClassifier\n",
    "from sklearn import tree\n",
    "# my_decisiontree = DecisionTreeClassifier()\n",
    "clf = tree.DecisionTreeClassifier(criterion=\"entropy\") \n",
    "clf.fit(X_train, y_train)\n",
    "rand_tree_predict = clf.predict(X_test)\n",
    "\n",
    "print(rand_tree_predict)"
   ]
  },
  {
   "cell_type": "markdown",
   "metadata": {},
   "source": [
    "# [done] 2 pts Compute the accuracy of predictions on test set\n",
    "## Random Forest Accuracy"
   ]
  },
  {
   "cell_type": "code",
   "execution_count": 11,
   "metadata": {},
   "outputs": [
    {
     "name": "stdout",
     "output_type": "stream",
     "text": [
      "Accuracy on training data: 0.999954159982\n",
      "Accuracy on test data: 0.820119114089\n"
     ]
    }
   ],
   "source": [
    "acc_train = clf.score(X_train, y_train)\n",
    "acc_test = clf.score(X_test, y_test)\n",
    "print(\"Accuracy on training data:\", acc_train)\n",
    "print(\"Accuracy on test data:\", acc_test)"
   ]
  },
  {
   "cell_type": "code",
   "execution_count": 12,
   "metadata": {},
   "outputs": [
    {
     "name": "stdout",
     "output_type": "stream",
     "text": [
      "Accuracy with min split = 2: 0.819746882561\n",
      "Accuracy with min split = 100: 0.851386562442\n"
     ]
    }
   ],
   "source": [
    "clf1 = tree.DecisionTreeClassifier(criterion=\"entropy\", min_samples_split=2)\n",
    "clf2 = tree.DecisionTreeClassifier(criterion=\"entropy\", min_samples_split=90)\n",
    "clf1.fit(X_train, y_train)\n",
    "clf2.fit(X_train, y_train)\n",
    "\n",
    "acc_min_samples_split_2 = clf1.score(X_test, y_test)\n",
    "acc_min_samples_split_50 = clf2.score(X_test, y_test)\n",
    "\n",
    "print(\"Accuracy with min split = 2:\", acc_min_samples_split_2)\n",
    "print(\"Accuracy with min split = 100:\", acc_min_samples_split_50)\n"
   ]
  },
  {
   "cell_type": "markdown",
   "metadata": {},
   "source": [
    "## Random Forest Metrics"
   ]
  },
  {
   "cell_type": "code",
   "execution_count": 13,
   "metadata": {},
   "outputs": [
    {
     "name": "stdout",
     "output_type": "stream",
     "text": [
      "             precision    recall  f1-score   support\n",
      "\n",
      "      <=50K       0.88      0.88      0.88      8173\n",
      "       >50K       0.62      0.63      0.63      2573\n",
      "\n",
      "avg / total       0.82      0.82      0.82     10746\n",
      "\n"
     ]
    }
   ],
   "source": [
    "print(classification_report(y_test, rand_tree_predict))"
   ]
  },
  {
   "cell_type": "code",
   "execution_count": 14,
   "metadata": {
    "collapsed": true
   },
   "outputs": [],
   "source": [
    "import pydotplus\n",
    "\n",
    "tree.export_graphviz(clf2, out_file='imgs/tree.dot')\n",
    "\n",
    "! dot -Tpng imgs/tree.dot -o imgs/result.png"
   ]
  },
  {
   "cell_type": "markdown",
   "metadata": {},
   "source": [
    "![](imgs/result.png)"
   ]
  },
  {
   "cell_type": "markdown",
   "metadata": {},
   "source": [
    "# [done]  gaussian naive bayes on the training set.\n",
    "\n",
    "## gaussian naive bayes "
   ]
  },
  {
   "cell_type": "code",
   "execution_count": 15,
   "metadata": {},
   "outputs": [
    {
     "name": "stdout",
     "output_type": "stream",
     "text": [
      "['<=50K' '<=50K' '<=50K' ..., '<=50K' '<=50K' '<=50K']\n"
     ]
    }
   ],
   "source": [
    "from sklearn.naive_bayes import GaussianNB\n",
    "gnb = GaussianNB()\n",
    "\n",
    "gnb.fit(X_train, y_train)\n",
    "gnb_prediction = gnb.predict(X_test)\n",
    "print(gnb_prediction)\n",
    "\n",
    "# score_lr = accuracy_score(y_test, y_predict_logreg)\n",
    "# print(\"Acurracy on Logistic Regression Classifier: \" , score_lr)\n",
    "\n",
    "\n",
    "# y_test_list = list(y_test)\n",
    "# linreg_converted_list_y_test= convert_from_string_to_binary(y_test_list)\n",
    "\n",
    "\n",
    "# linreg_acc_train = linreg.score(X_train, linreg_converted_list_y_train)\n",
    "# linreg_acc_test = linreg.score(X_test, pd.Series(linreg_converted_list_y_test))\n",
    "\n",
    "# print(\"Accuracy on Linear Regression training data:\", linreg_acc_train)\n",
    "# print(\"Accuracy on Linear Regression testing data:\", linreg_acc_test)"
   ]
  },
  {
   "cell_type": "markdown",
   "metadata": {},
   "source": [
    "# [done] 2 pts Compute the accuracy of predictions on the test set\n",
    "## Gaussian Naive Bayes  Accuracy"
   ]
  },
  {
   "cell_type": "code",
   "execution_count": 24,
   "metadata": {},
   "outputs": [
    {
     "name": "stdout",
     "output_type": "stream",
     "text": [
      "Accuracy on training data gaussian naive bayes: 0.79477423791\n",
      "Accuracy on test data gaussian naive bayes: 0.79477423791\n"
     ]
    }
   ],
   "source": [
    "gnb_acc_train = gnb.score(X_train, y_train)\n",
    "gnb_acc_test = gnb.score(X_train, y_train)\n",
    "\n",
    "print(\"Accuracy on training data gaussian naive bayes:\", gnb_acc_train)\n",
    "print(\"Accuracy on test data gaussian naive bayes:\", gnb_acc_test)"
   ]
  },
  {
   "cell_type": "markdown",
   "metadata": {},
   "source": [
    "# Gaussian Naive Bayes Metrics"
   ]
  },
  {
   "cell_type": "code",
   "execution_count": 17,
   "metadata": {},
   "outputs": [
    {
     "name": "stdout",
     "output_type": "stream",
     "text": [
      "             precision    recall  f1-score   support\n",
      "\n",
      "      <=50K       0.81      0.95      0.88      8173\n",
      "       >50K       0.65      0.31      0.42      2573\n",
      "\n",
      "avg / total       0.77      0.79      0.77     10746\n",
      "\n"
     ]
    }
   ],
   "source": [
    "print(classification_report(y_test, gnb_prediction))"
   ]
  },
  {
   "cell_type": "markdown",
   "metadata": {},
   "source": [
    "\n",
    "# [Extra Credit] KNeighbors Classifier"
   ]
  },
  {
   "cell_type": "code",
   "execution_count": 45,
   "metadata": {},
   "outputs": [
    {
     "name": "stdout",
     "output_type": "stream",
     "text": [
      "['<=50K' '<=50K' '<=50K' ..., '<=50K' '<=50K' '<=50K']\n"
     ]
    }
   ],
   "source": [
    "\n",
    "from sklearn.neighbors import KNeighborsClassifier\n",
    "\n",
    "k = 4\n",
    "knn = KNeighborsClassifier(n_neighbors=k) \n",
    "knn.fit(X_train, y_train)\n",
    "knn_predict = knn.predict(X_test)\n",
    "\n",
    "print(knn_predict)"
   ]
  },
  {
   "cell_type": "markdown",
   "metadata": {},
   "source": [
    "# KNeighbors Classifier Acurracy"
   ]
  },
  {
   "cell_type": "code",
   "execution_count": 84,
   "metadata": {},
   "outputs": [
    {
     "name": "stdout",
     "output_type": "stream",
     "text": [
      "Accuracy on training data KNeighbors 0.83442585377\n",
      "Accuracy on test data KNeighborss: 0.785129350456\n"
     ]
    }
   ],
   "source": [
    "knn_acc_train = knn.score(X_train, y_train)\n",
    "knn_acc_test = knn.score(X_test, y_test)\n",
    "\n",
    "print(\"Accuracy on training data KNeighbors\", knn_acc_train)\n",
    "print(\"Accuracy on test data KNeighborss:\", knn_acc_test)"
   ]
  },
  {
   "cell_type": "markdown",
   "metadata": {},
   "source": [
    "# KNeighbors Classifier Metrics"
   ]
  },
  {
   "cell_type": "code",
   "execution_count": 116,
   "metadata": {},
   "outputs": [
    {
     "name": "stdout",
     "output_type": "stream",
     "text": [
      "             precision    recall  f1-score   support\n",
      "\n",
      "      <=50K       0.80      0.95      0.87      8173\n",
      "       >50K       0.63      0.25      0.36      2573\n",
      "\n",
      "avg / total       0.76      0.79      0.75     10746\n",
      "\n"
     ]
    }
   ],
   "source": [
    "print(classification_report(y_test, knn_predict))"
   ]
  },
  {
   "cell_type": "markdown",
   "metadata": {
    "collapsed": true
   },
   "source": [
    "\n",
    "# [Extra Credit]   LINEAR REGRESSION Classifier\n",
    "\n",
    "### Needed to convert to binary for y_train because this classification does not take in strings"
   ]
  },
  {
   "cell_type": "code",
   "execution_count": 121,
   "metadata": {},
   "outputs": [
    {
     "name": "stdout",
     "output_type": "stream",
     "text": [
      "[-0.11429084  0.22672455  0.06205161 ...,  0.47498604 -0.0514943   0.0324813 ]\n"
     ]
    }
   ],
   "source": [
    "\n",
    "\n",
    "# score_lr = accuracy_score(y_test, y_predict_logreg)\n",
    "# print(\"Acurracy on Logistic Regression Classifier: \" , score_lr)\n",
    "\n",
    "\n",
    "# y_test_list = list(y_test)\n",
    "# linreg_converted_list_y_test= convert_from_string_to_binary(y_test_list)\n",
    "\n",
    "\n",
    "# linreg_acc_train = linreg.score(X_train, linreg_converted_list_y_train)\n",
    "# linreg_acc_test = linreg.score(X_test, pd.Series(linreg_converted_list_y_test))\n",
    "\n",
    "# print(\"Accuracy on Linear Regression training data:\", linreg_acc_train)\n",
    "# print(\"Accuracy on Linear Regression testing data:\", linreg_acc_test)from sklearn.linear_model import LinearRegression\n",
    "\n",
    "def convert_from_string_to_binary(list_a):\n",
    "    temp_list = []\n",
    "    for item in list_a:\n",
    "        if item == '<=50K':\n",
    "            temp_list.append(0.0)\n",
    "        else:\n",
    "            temp_list.append(1.0)\n",
    "    return temp_list\n",
    "\n",
    "    \n",
    "linreg = LinearRegression()\n",
    "y_train_list = list(y_train)\n",
    "linreg_converted_list_y_train = convert_from_string_to_binary(y_train_list)\n",
    "\n",
    "\n",
    "linreg.fit(X_train, linreg_converted_list_y_train)\n",
    "linreg_prediction = linreg.predict(X_test)\n",
    "print(linreg_prediction)"
   ]
  },
  {
   "cell_type": "markdown",
   "metadata": {},
   "source": [
    "\n",
    "\n",
    "# LINEAR REGRESSION Classifier Acurracy\n",
    "\n",
    "### Needed to convert to binary for y_test because this classification does not take in strings"
   ]
  },
  {
   "cell_type": "code",
   "execution_count": 119,
   "metadata": {},
   "outputs": [
    {
     "name": "stdout",
     "output_type": "stream",
     "text": [
      "Accuracy on Linear Regression training data: 0.369008839951\n",
      "Accuracy on Linear Regression testing data: 0.365795597935\n"
     ]
    }
   ],
   "source": [
    "y_test_list = list(y_test)\n",
    "linreg_converted_list_y_test= convert_from_string_to_binary(y_test_list)\n",
    "\n",
    "linreg_acc_train = linreg.score(X_train, linreg_converted_list_y_train)\n",
    "linreg_acc_test = linreg.score(X_test, pd.Series(linreg_converted_list_y_test))\n",
    "\n",
    "print(\"Accuracy on Linear Regression training data:\", linreg_acc_train)\n",
    "print(\"Accuracy on Linear Regression testing data:\", linreg_acc_test)"
   ]
  },
  {
   "cell_type": "markdown",
   "metadata": {},
   "source": [
    " \n",
    "# [Extra Credit]   Logistic Regression  Classifier\n"
   ]
  },
  {
   "cell_type": "code",
   "execution_count": 120,
   "metadata": {},
   "outputs": [
    {
     "name": "stdout",
     "output_type": "stream",
     "text": [
      "['<=50K' '<=50K' '<=50K' ..., '<=50K' '<=50K' '<=50K']\n"
     ]
    }
   ],
   "source": [
    "from sklearn.cross_validation import cross_val_score\n",
    "from sklearn.linear_model import LogisticRegression\n",
    "\n",
    "logreg = LogisticRegression()\n",
    "\n",
    "logreg.fit(X_train, y_train)\n",
    "\n",
    "y_predict_logreg = logreg.predict(X_test)\n",
    "print(y_predict_logreg)"
   ]
  },
  {
   "cell_type": "markdown",
   "metadata": {},
   "source": [
    "\n",
    "\n",
    "# Logistic Regression Classifier Acurracy"
   ]
  },
  {
   "cell_type": "code",
   "execution_count": 138,
   "metadata": {},
   "outputs": [
    {
     "name": "stdout",
     "output_type": "stream",
     "text": [
      "Accuracy on Logisitc Regression training data: 0.797937199175\n",
      "Accuracy on Logisitc Regression testing data: 0.795737949004\n"
     ]
    }
   ],
   "source": [
    "logreg_acc_train = logreg.score(X_train, y_train)\n",
    "logreg_acc_test = logreg.score(X_test, y_test)\n",
    "\n",
    "print(\"Accuracy on Logisitc Regression training data:\", logreg_acc_train)\n",
    "print(\"Accuracy on Logisitc Regression testing data:\", logreg_acc_test)"
   ]
  },
  {
   "cell_type": "markdown",
   "metadata": {},
   "source": [
    "\n",
    "\n",
    "# Logistic Regression  Metrics"
   ]
  },
  {
   "cell_type": "code",
   "execution_count": 139,
   "metadata": {},
   "outputs": [
    {
     "name": "stdout",
     "output_type": "stream",
     "text": [
      "             precision    recall  f1-score   support\n",
      "\n",
      "      <=50K       0.81      0.97      0.88      8173\n",
      "       >50K       0.70      0.26      0.38      2573\n",
      "\n",
      "avg / total       0.78      0.80      0.76     10746\n",
      "\n"
     ]
    }
   ],
   "source": [
    "print(classification_report(y_test, y_predict_logreg))"
   ]
  },
  {
   "cell_type": "markdown",
   "metadata": {
    "collapsed": true
   },
   "source": [
    "# DATA DICTIONARY\n",
    " age: continuous.\n",
    "\n",
    " workclass: \n",
    " \n",
    " fnlwgt: continuous.\n",
    " \n",
    " education: Bachelors, Some-college, 11th, HS-grad, Prof-school, Assoc-acdm, Assoc-voc, 9th, 7th-8th, 12th, Masters, 1st-4th, 10th, Doctorate, 5th-6th, Preschool.\n",
    " \n",
    " education-num: continuous.\n",
    " \n",
    " marital-status: Married-civ-spouse, Divorced, Never-married, Separated, Widowed, Married-spouse-absent, Married-AF-spouse.\n",
    " \n",
    " occupation: Tech-support, Craft-repair, Other-service, Sales, Exec-managerial, Prof-specialty, Handlers-cleaners, Machine-op-inspct, Adm-clerical, Farming-fishing, Transport-moving, Priv-house-serv, Protective-serv, Armed-Forces.\n",
    " \n",
    " relationship: Wife, Own-child, Husband, Not-in-family, Other-relative, Unmarried.\n",
    " \n",
    " race: White, Asian-Pac-Islander, Amer-Indian-Eskimo, Other, Black.\n",
    " \n",
    " sex: Female, Male.\n",
    " \n",
    " capital-gain: continuous.\n",
    "\n",
    " capital-loss: continuous.\n",
    "\n",
    " hours-per-week: continuous.\n",
    "\n",
    " native-country: United-States, Cambodia, England, Puerto-Rico, Canada, Germany, Outlying-US(Guam-USVI-etc), India, Japan, Greece, South, China, Cuba, Iran, Honduras, Philippines, Italy, Poland, Jamaica, Vietnam, Mexico, Portugal, Ireland, France, Dominican-Republic, Laos, Ecuador, Taiwan, Haiti, Columbia, Hungary, Guatemala, Nicaragua, Scotland, Thailand, Yugoslavia, El-Salvador, Trinadad&Tobago, Peru, Hong, Holand-Netherlands."
   ]
  }
 ],
 "metadata": {
  "kernelspec": {
   "display_name": "Python 3",
   "language": "python",
   "name": "python3"
  },
  "language_info": {
   "codemirror_mode": {
    "name": "ipython",
    "version": 3
   },
   "file_extension": ".py",
   "mimetype": "text/x-python",
   "name": "python",
   "nbconvert_exporter": "python",
   "pygments_lexer": "ipython3",
   "version": "3.6.2"
  }
 },
 "nbformat": 4,
 "nbformat_minor": 2
}
